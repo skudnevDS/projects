{
 "cells": [
  {
   "cell_type": "markdown",
   "metadata": {},
   "source": [
    "# Описание проекта"
   ]
  },
  {
   "cell_type": "markdown",
   "metadata": {},
   "source": [
    "Компании «ГлавРосГосНефть» нужно решить, где бурить новую скважину.\n",
    "\n",
    "Вам предоставлены пробы нефти в трёх регионах: в каждом 10 000 месторождений, где измерили качество нефти и объём её запасов. Постройте модель машинного обучения, которая поможет определить регион, где добыча принесёт наибольшую прибыль. Проанализируйте возможную прибыль и риски техникой *Bootstrap.*\n",
    "\n",
    "Шаги для выбора локации:\n",
    "\n",
    "- В избранном регионе ищут месторождения, для каждого определяют значения признаков;\n",
    "- Строят модель и оценивают объём запасов;\n",
    "- Выбирают месторождения с самым высокими оценками значений. Количество месторождений зависит от бюджета компании и стоимости разработки одной скважины;\n",
    "- Прибыль равна суммарной прибыли отобранных месторождений.  \n",
    "\n",
    "### Описание данных:  \n",
    "- *id* - уникальный идентификатор скважины;\n",
    "- *f0, f1, f2* - три признака точек;\n",
    "- *product* - объём запасов в скважине (тыс. баррелей).\n",
    "\n",
    "### Содержание:\n",
    "- [1. Загрузка и подготовка данных](#step1)\n",
    "- [2. Обучение и проверка модели](#step2)\n",
    "- [3. Подготовка к расчёту прибыли](#step3)\n",
    "- [4. Расчёт прибыли и рисков](#step4)\n",
    "- [5. Вывод](#step5)"
   ]
  },
  {
   "cell_type": "markdown",
   "metadata": {},
   "source": [
    "# 1. Загрузка и подготовка данных<a id=\"step1\"></a>"
   ]
  },
  {
   "cell_type": "code",
   "execution_count": 1,
   "metadata": {},
   "outputs": [],
   "source": [
    "import pandas as pd\n",
    "import matplotlib.pyplot as plt\n",
    "from numpy.random import RandomState\n",
    "\n",
    "from sklearn.linear_model import LinearRegression\n",
    "from sklearn.metrics import mean_squared_error\n",
    "from sklearn.model_selection import train_test_split"
   ]
  },
  {
   "cell_type": "code",
   "execution_count": 2,
   "metadata": {},
   "outputs": [],
   "source": [
    "try:\n",
    "    df_0 = pd.read_csv('geo_data_0.csv')\n",
    "    df_1 = pd.read_csv('geo_data_1.csv')\n",
    "    df_2 = pd.read_csv('geo_data_2.csv')\n",
    "except:\n",
    "    df_0 = pd.read_csv('/datasets/geo_data_0.csv')\n",
    "    df_1 = pd.read_csv('/datasets/geo_data_1.csv')\n",
    "    df_2 = pd.read_csv('/datasets/geo_data_2.csv')"
   ]
  },
  {
   "cell_type": "code",
   "execution_count": 3,
   "metadata": {},
   "outputs": [
    {
     "data": {
      "text/html": [
       "<div>\n",
       "<style scoped>\n",
       "    .dataframe tbody tr th:only-of-type {\n",
       "        vertical-align: middle;\n",
       "    }\n",
       "\n",
       "    .dataframe tbody tr th {\n",
       "        vertical-align: top;\n",
       "    }\n",
       "\n",
       "    .dataframe thead th {\n",
       "        text-align: right;\n",
       "    }\n",
       "</style>\n",
       "<table border=\"1\" class=\"dataframe\">\n",
       "  <thead>\n",
       "    <tr style=\"text-align: right;\">\n",
       "      <th></th>\n",
       "      <th>id</th>\n",
       "      <th>f0</th>\n",
       "      <th>f1</th>\n",
       "      <th>f2</th>\n",
       "      <th>product</th>\n",
       "    </tr>\n",
       "  </thead>\n",
       "  <tbody>\n",
       "    <tr>\n",
       "      <td>0</td>\n",
       "      <td>txEyH</td>\n",
       "      <td>0.705745</td>\n",
       "      <td>-0.497823</td>\n",
       "      <td>1.221170</td>\n",
       "      <td>105.280062</td>\n",
       "    </tr>\n",
       "    <tr>\n",
       "      <td>1</td>\n",
       "      <td>2acmU</td>\n",
       "      <td>1.334711</td>\n",
       "      <td>-0.340164</td>\n",
       "      <td>4.365080</td>\n",
       "      <td>73.037750</td>\n",
       "    </tr>\n",
       "    <tr>\n",
       "      <td>2</td>\n",
       "      <td>409Wp</td>\n",
       "      <td>1.022732</td>\n",
       "      <td>0.151990</td>\n",
       "      <td>1.419926</td>\n",
       "      <td>85.265647</td>\n",
       "    </tr>\n",
       "    <tr>\n",
       "      <td>3</td>\n",
       "      <td>iJLyR</td>\n",
       "      <td>-0.032172</td>\n",
       "      <td>0.139033</td>\n",
       "      <td>2.978566</td>\n",
       "      <td>168.620776</td>\n",
       "    </tr>\n",
       "    <tr>\n",
       "      <td>4</td>\n",
       "      <td>Xdl7t</td>\n",
       "      <td>1.988431</td>\n",
       "      <td>0.155413</td>\n",
       "      <td>4.751769</td>\n",
       "      <td>154.036647</td>\n",
       "    </tr>\n",
       "  </tbody>\n",
       "</table>\n",
       "</div>"
      ],
      "text/plain": [
       "      id        f0        f1        f2     product\n",
       "0  txEyH  0.705745 -0.497823  1.221170  105.280062\n",
       "1  2acmU  1.334711 -0.340164  4.365080   73.037750\n",
       "2  409Wp  1.022732  0.151990  1.419926   85.265647\n",
       "3  iJLyR -0.032172  0.139033  2.978566  168.620776\n",
       "4  Xdl7t  1.988431  0.155413  4.751769  154.036647"
      ]
     },
     "execution_count": 3,
     "metadata": {},
     "output_type": "execute_result"
    }
   ],
   "source": [
    "df_0.head()"
   ]
  },
  {
   "cell_type": "markdown",
   "metadata": {},
   "source": [
    "**Оценим общие сведение датасетов регионов**"
   ]
  },
  {
   "cell_type": "code",
   "execution_count": 4,
   "metadata": {},
   "outputs": [
    {
     "name": "stdout",
     "output_type": "stream",
     "text": [
      "<class 'pandas.core.frame.DataFrame'>\n",
      "RangeIndex: 100000 entries, 0 to 99999\n",
      "Data columns (total 5 columns):\n",
      "id         100000 non-null object\n",
      "f0         100000 non-null float64\n",
      "f1         100000 non-null float64\n",
      "f2         100000 non-null float64\n",
      "product    100000 non-null float64\n",
      "dtypes: float64(4), object(1)\n",
      "memory usage: 3.8+ MB\n"
     ]
    }
   ],
   "source": [
    "df_0.info()"
   ]
  },
  {
   "cell_type": "code",
   "execution_count": 5,
   "metadata": {},
   "outputs": [
    {
     "name": "stdout",
     "output_type": "stream",
     "text": [
      "<class 'pandas.core.frame.DataFrame'>\n",
      "RangeIndex: 100000 entries, 0 to 99999\n",
      "Data columns (total 5 columns):\n",
      "id         100000 non-null object\n",
      "f0         100000 non-null float64\n",
      "f1         100000 non-null float64\n",
      "f2         100000 non-null float64\n",
      "product    100000 non-null float64\n",
      "dtypes: float64(4), object(1)\n",
      "memory usage: 3.8+ MB\n"
     ]
    }
   ],
   "source": [
    "df_1.info()"
   ]
  },
  {
   "cell_type": "code",
   "execution_count": 6,
   "metadata": {},
   "outputs": [
    {
     "name": "stdout",
     "output_type": "stream",
     "text": [
      "<class 'pandas.core.frame.DataFrame'>\n",
      "RangeIndex: 100000 entries, 0 to 99999\n",
      "Data columns (total 5 columns):\n",
      "id         100000 non-null object\n",
      "f0         100000 non-null float64\n",
      "f1         100000 non-null float64\n",
      "f2         100000 non-null float64\n",
      "product    100000 non-null float64\n",
      "dtypes: float64(4), object(1)\n",
      "memory usage: 3.8+ MB\n"
     ]
    }
   ],
   "source": [
    "df_2.info()"
   ]
  },
  {
   "cell_type": "markdown",
   "metadata": {},
   "source": [
    "**Оценим распределение признаков по регионам**"
   ]
  },
  {
   "cell_type": "code",
   "execution_count": 7,
   "metadata": {
    "scrolled": false
   },
   "outputs": [
    {
     "data": {
      "image/png": "[encoded data removed]",
      "text/plain": [
       "<Figure size 1152x288 with 4 Axes>"
      ]
     },
     "metadata": {
      "needs_background": "light"
     },
     "output_type": "display_data"
    },
    {
     "data": {
      "image/png": "[encoded data removed]",
      "text/plain": [
       "<Figure size 1152x288 with 4 Axes>"
      ]
     },
     "metadata": {
      "needs_background": "light"
     },
     "output_type": "display_data"
    },
    {
     "data": {
      "image/png": "[encoded data removed]",
      "text/plain": [
       "<Figure size 1152x288 with 4 Axes>"
      ]
     },
     "metadata": {
      "needs_background": "light"
     },
     "output_type": "display_data"
    }
   ],
   "source": [
    "colors = ['red', 'green', 'blue', 'black']\n",
    "\n",
    "for i, df in enumerate([df_0, df_1, df_2]):\n",
    "    fig = plt.figure(figsize=(16, 4))\n",
    "    fig.suptitle('Характеристики региона №{}'.format(i+1), y=1.02, fontsize=16,\n",
    "                 bbox=dict(edgecolor='black', facecolor='green', alpha=0.3))\n",
    "    cols = df.drop('id', axis=1).columns\n",
    "    for j, (color, col) in enumerate(zip(colors, cols)):\n",
    "        ax = fig.add_subplot(1, len(cols), j+1)\n",
    "        ax.hist(df[col], color=color, alpha=0.5)\n",
    "        ax.grid(True)\n",
    "        ax.set_title('Распределение параметра {}'.format(col))\n",
    "\n",
    "plt.show()"
   ]
  },
  {
   "cell_type": "markdown",
   "metadata": {},
   "source": [
    "**Вывод: аномальных данных не наблюдается**"
   ]
  },
  {
   "cell_type": "markdown",
   "metadata": {},
   "source": [
    "# 2. Обучение и проверка модели<a id=\"step2\"></a>"
   ]
  },
  {
   "cell_type": "markdown",
   "metadata": {},
   "source": [
    "## Исследование региона №1"
   ]
  },
  {
   "cell_type": "code",
   "execution_count": 8,
   "metadata": {},
   "outputs": [],
   "source": [
    "features_0 = df_0.drop(['id', 'product'], axis=1)\n",
    "target_0 = df_0['product']"
   ]
  },
  {
   "cell_type": "code",
   "execution_count": 9,
   "metadata": {},
   "outputs": [],
   "source": [
    "features_train_0, features_valid_0, target_train_0, target_valid_0 = train_test_split(\n",
    "    features_0, target_0, test_size=0.25, random_state=42)"
   ]
  },
  {
   "cell_type": "code",
   "execution_count": 10,
   "metadata": {},
   "outputs": [],
   "source": [
    "model_0 = LinearRegression()\n",
    "model_0.fit(features_train_0, target_train_0)\n",
    "predicted_0 = model_0.predict(features_valid_0)\n",
    "rmse_0 = mean_squared_error(target_valid_0, predicted_0) ** 0.5"
   ]
  },
  {
   "cell_type": "markdown",
   "metadata": {},
   "source": [
    "**Средний запас предсказанного сырья региона №1**"
   ]
  },
  {
   "cell_type": "code",
   "execution_count": 11,
   "metadata": {},
   "outputs": [
    {
     "data": {
      "text/plain": [
       "92.39879990657768"
      ]
     },
     "execution_count": 11,
     "metadata": {},
     "output_type": "execute_result"
    }
   ],
   "source": [
    "predicted_0.mean()"
   ]
  },
  {
   "cell_type": "markdown",
   "metadata": {},
   "source": [
    "**RMSE региона №1**"
   ]
  },
  {
   "cell_type": "code",
   "execution_count": 12,
   "metadata": {},
   "outputs": [
    {
     "data": {
      "text/plain": [
       "37.75660035026169"
      ]
     },
     "execution_count": 12,
     "metadata": {},
     "output_type": "execute_result"
    }
   ],
   "source": [
    "rmse_0"
   ]
  },
  {
   "cell_type": "markdown",
   "metadata": {},
   "source": [
    "## Исследование региона №2"
   ]
  },
  {
   "cell_type": "code",
   "execution_count": 13,
   "metadata": {},
   "outputs": [],
   "source": [
    "features_1 = df_1.drop(['id', 'product'], axis=1)\n",
    "target_1 = df_1['product']"
   ]
  },
  {
   "cell_type": "code",
   "execution_count": 14,
   "metadata": {},
   "outputs": [],
   "source": [
    "features_train_1, features_valid_1, target_train_1, target_valid_1 = train_test_split(\n",
    "    features_1, target_1, test_size=0.25, random_state=42)"
   ]
  },
  {
   "cell_type": "code",
   "execution_count": 15,
   "metadata": {},
   "outputs": [],
   "source": [
    "model_1 = LinearRegression()\n",
    "model_1.fit(features_train_1, target_train_1)\n",
    "predicted_1 = model_1.predict(features_valid_1)\n",
    "rmse_1 = mean_squared_error(target_valid_1, predicted_1) ** 0.5"
   ]
  },
  {
   "cell_type": "markdown",
   "metadata": {},
   "source": [
    "**Средний запас предсказанного сырья региона №2**"
   ]
  },
  {
   "cell_type": "code",
   "execution_count": 16,
   "metadata": {},
   "outputs": [
    {
     "data": {
      "text/plain": [
       "68.71287803913764"
      ]
     },
     "execution_count": 16,
     "metadata": {},
     "output_type": "execute_result"
    }
   ],
   "source": [
    "predicted_1.mean()"
   ]
  },
  {
   "cell_type": "markdown",
   "metadata": {},
   "source": [
    "**RMSE региона №2**"
   ]
  },
  {
   "cell_type": "code",
   "execution_count": 17,
   "metadata": {},
   "outputs": [
    {
     "data": {
      "text/plain": [
       "0.8902801001028828"
      ]
     },
     "execution_count": 17,
     "metadata": {},
     "output_type": "execute_result"
    }
   ],
   "source": [
    "rmse_1"
   ]
  },
  {
   "cell_type": "markdown",
   "metadata": {},
   "source": [
    "## Исследование региона №3"
   ]
  },
  {
   "cell_type": "code",
   "execution_count": 18,
   "metadata": {},
   "outputs": [],
   "source": [
    "features_2 = df_2.drop(['id', 'product'], axis=1)\n",
    "target_2 = df_2['product']"
   ]
  },
  {
   "cell_type": "code",
   "execution_count": 19,
   "metadata": {},
   "outputs": [],
   "source": [
    "features_train_2, features_valid_2, target_train_2, target_valid_2 = train_test_split(\n",
    "    features_2, target_2, test_size=0.25, random_state=42)"
   ]
  },
  {
   "cell_type": "code",
   "execution_count": 20,
   "metadata": {},
   "outputs": [],
   "source": [
    "model_2 = LinearRegression()\n",
    "model_2.fit(features_train_2, target_train_2)\n",
    "predicted_2 = model_2.predict(features_valid_2)\n",
    "rmse_2 = mean_squared_error(target_valid_2, predicted_2) ** 0.5"
   ]
  },
  {
   "cell_type": "markdown",
   "metadata": {},
   "source": [
    "**Средний запас предсказанного сырья региона №3**"
   ]
  },
  {
   "cell_type": "code",
   "execution_count": 21,
   "metadata": {},
   "outputs": [
    {
     "data": {
      "text/plain": [
       "94.77102387765939"
      ]
     },
     "execution_count": 21,
     "metadata": {},
     "output_type": "execute_result"
    }
   ],
   "source": [
    "predicted_2.mean()"
   ]
  },
  {
   "cell_type": "markdown",
   "metadata": {},
   "source": [
    "**RMSE региона №3**"
   ]
  },
  {
   "cell_type": "code",
   "execution_count": 22,
   "metadata": {},
   "outputs": [
    {
     "data": {
      "text/plain": [
       "40.145872311342174"
      ]
     },
     "execution_count": 22,
     "metadata": {},
     "output_type": "execute_result"
    }
   ],
   "source": [
    "rmse_2"
   ]
  },
  {
   "cell_type": "markdown",
   "metadata": {},
   "source": [
    "**Сводная таблица**"
   ]
  },
  {
   "cell_type": "code",
   "execution_count": 23,
   "metadata": {},
   "outputs": [
    {
     "data": {
      "text/html": [
       "<div>\n",
       "<style scoped>\n",
       "    .dataframe tbody tr th:only-of-type {\n",
       "        vertical-align: middle;\n",
       "    }\n",
       "\n",
       "    .dataframe tbody tr th {\n",
       "        vertical-align: top;\n",
       "    }\n",
       "\n",
       "    .dataframe thead th {\n",
       "        text-align: right;\n",
       "    }\n",
       "</style>\n",
       "<table border=\"1\" class=\"dataframe\">\n",
       "  <thead>\n",
       "    <tr style=\"text-align: right;\">\n",
       "      <th></th>\n",
       "      <th>Регион №1</th>\n",
       "      <th>Регион №2</th>\n",
       "      <th>Регион №3</th>\n",
       "    </tr>\n",
       "  </thead>\n",
       "  <tbody>\n",
       "    <tr>\n",
       "      <td>Средний запас предсказанного сырья</td>\n",
       "      <td>92.3988</td>\n",
       "      <td>68.712878</td>\n",
       "      <td>94.771024</td>\n",
       "    </tr>\n",
       "    <tr>\n",
       "      <td>RMSE</td>\n",
       "      <td>37.7566</td>\n",
       "      <td>0.890280</td>\n",
       "      <td>40.145872</td>\n",
       "    </tr>\n",
       "  </tbody>\n",
       "</table>\n",
       "</div>"
      ],
      "text/plain": [
       "                                    Регион №1  Регион №2  Регион №3\n",
       "Средний запас предсказанного сырья    92.3988  68.712878  94.771024\n",
       "RMSE                                  37.7566   0.890280  40.145872"
      ]
     },
     "execution_count": 23,
     "metadata": {},
     "output_type": "execute_result"
    }
   ],
   "source": [
    "data = {\n",
    "    'Регион №1': [predicted_0.mean(), rmse_0],\n",
    "    'Регион №2': [predicted_1.mean(), rmse_1],\n",
    "    'Регион №3': [predicted_2.mean(), rmse_2]\n",
    "}\n",
    "pd.DataFrame(data, index=['Средний запас предсказанного сырья', 'RMSE'])"
   ]
  },
  {
   "cell_type": "markdown",
   "metadata": {},
   "source": [
    "**Вывод:**  \n",
    "_Наибольшим средним предсказанным запасом обладает регион №3, однако модель обладает наименьшей точностью предсказания, и напротив, регион №2 обладает наименьшим средним предсказанным запасом, однако точность предсказания модели на 2 порядка выше, чем у остальных регионов_"
   ]
  },
  {
   "cell_type": "markdown",
   "metadata": {},
   "source": [
    "# 3. Подготовка к расчёту прибыли<a id=\"step3\"></a>"
   ]
  },
  {
   "cell_type": "code",
   "execution_count": 24,
   "metadata": {},
   "outputs": [],
   "source": [
    "# бюджет\n",
    "budget = 10_000_000_000\n",
    "# доход от добычи 1000 баррелей\n",
    "profit_per_barrel = 450_000\n",
    "# количество скавиж для разработки в регионе\n",
    "wells_to_drill = 200\n",
    "# количество скважин для бутстрепа\n",
    "wells_to_check = 500\n",
    "# уровень вероятности для расчета доверительного интервала\n",
    "prob = 0.95"
   ]
  },
  {
   "cell_type": "code",
   "execution_count": 25,
   "metadata": {},
   "outputs": [
    {
     "name": "stdout",
     "output_type": "stream",
     "text": [
      "111.11111111111111\n"
     ]
    }
   ],
   "source": [
    "# достаточный объем для безубыточной разработки скважины\n",
    "decent_vol_per_well = budget / wells_to_drill / profit_per_barrel\n",
    "print(decent_vol_per_well)"
   ]
  },
  {
   "cell_type": "code",
   "execution_count": 26,
   "metadata": {},
   "outputs": [
    {
     "name": "stdout",
     "output_type": "stream",
     "text": [
      "Средние запасы сырья по региону №1: 92.50000000000001\n",
      "Средние запасы сырья по региону №2: 68.82500000000002\n",
      "Средние запасы сырья по региону №3: 95.00000000000004\n"
     ]
    }
   ],
   "source": [
    "for ix, target in enumerate([target_0, target_1, target_2]):\n",
    "    print('Средние запасы сырья по региону №{}: {}'.format(ix + 1, target.mean()))"
   ]
  },
  {
   "cell_type": "markdown",
   "metadata": {},
   "source": [
    "**Вывод:**  \n",
    "_Средние запасы сырья на скважину по всем регионам меньше, чем достаточный объем сырья для безубыточной разработки скважины. Можно заметить, что средние значения запасов по предсказаниям практически идентичны средним реальных запасов сырья_"
   ]
  },
  {
   "cell_type": "markdown",
   "metadata": {},
   "source": [
    "_**Функция get_profit создана для расчета прибыли по 200 лучшим скважинам в соответствии с предсказаниями модели, принимает на вход target (реальные запасы сырья) и prediction (запасы сырья, предсказанные моделью), возвращает profit (прибыль)**_"
   ]
  },
  {
   "cell_type": "code",
   "execution_count": 27,
   "metadata": {},
   "outputs": [],
   "source": [
    "def get_profit(target, prediction):\n",
    "    # сортировка предсказанных запасов сырья по убыванию\n",
    "    predict_sorted = prediction.sort_values(ascending=False)\n",
    "    # отбор 200 лучших скважин\n",
    "    selected = target[predict_sorted.index][:wells_to_drill]\n",
    "    # вычисления прибыли (доход - бюджет)\n",
    "    profit = profit_per_barrel * selected.sum() - budget\n",
    "    return profit"
   ]
  },
  {
   "cell_type": "markdown",
   "metadata": {},
   "source": [
    "# 4. Расчёт прибыли и рисков<a id=\"step4\"></a>"
   ]
  },
  {
   "cell_type": "code",
   "execution_count": 28,
   "metadata": {},
   "outputs": [],
   "source": [
    "state = RandomState(42)"
   ]
  },
  {
   "cell_type": "markdown",
   "metadata": {},
   "source": [
    "_**Функция bootstrap производит процедуру Бутстрап для создания выборки в тысячу элементов возможных вариаций прибыли по региону, принимает на вход target (реальные запасы сырья) и prediction (запасы сырья, предсказанные моделью), возвращает values (возможные значения прибыли по региону)**_"
   ]
  },
  {
   "cell_type": "code",
   "execution_count": 29,
   "metadata": {},
   "outputs": [],
   "source": [
    "def bootstrap(target, prediction):\n",
    "    values = []\n",
    "    target = target.reset_index(drop=True)\n",
    "    prediction = pd.Series(prediction)\n",
    "    for i in range(1000):\n",
    "        target_subsample = target.sample(n=wells_to_check, replace=True, random_state=state)\n",
    "        pred_subsample = prediction[target_subsample.index]\n",
    "        profit = get_profit(target_subsample, pred_subsample)\n",
    "        values.append(profit)\n",
    "    return pd.Series(values)"
   ]
  },
  {
   "cell_type": "markdown",
   "metadata": {},
   "source": [
    "_**Функция get_risk оценивает риск убытков по выборке возможных значений прибыли по региону**_"
   ]
  },
  {
   "cell_type": "code",
   "execution_count": 30,
   "metadata": {},
   "outputs": [],
   "source": [
    "def get_risk(values):\n",
    "    return sum(values < 0) / len(values)"
   ]
  },
  {
   "cell_type": "markdown",
   "metadata": {},
   "source": [
    "## 4.1 Исследование региона №1"
   ]
  },
  {
   "cell_type": "code",
   "execution_count": 31,
   "metadata": {},
   "outputs": [],
   "source": [
    "values_0 = bootstrap(target_valid_0, predicted_0)"
   ]
  },
  {
   "cell_type": "markdown",
   "metadata": {},
   "source": [
    "**Среднее значение прибыли**"
   ]
  },
  {
   "cell_type": "code",
   "execution_count": 32,
   "metadata": {},
   "outputs": [
    {
     "name": "stdout",
     "output_type": "stream",
     "text": [
      "427,847,560\n"
     ]
    }
   ],
   "source": [
    "E_0 = values_0.mean()\n",
    "print('{:,}'.format(int(E_0)))"
   ]
  },
  {
   "cell_type": "markdown",
   "metadata": {},
   "source": [
    "**Доверительный интервал по уровню 95%**"
   ]
  },
  {
   "cell_type": "code",
   "execution_count": 33,
   "metadata": {},
   "outputs": [
    {
     "name": "stdout",
     "output_type": "stream",
     "text": [
      "(-97,249,829  --  954,215,192)\n"
     ]
    }
   ],
   "source": [
    "lower_0 = values_0.quantile((1 - prob) / 2)\n",
    "upper_0 = values_0.quantile((1 + prob) / 2)\n",
    "print('({:,}  --  {:,})'.format(int(lower_0), int(upper_0)))"
   ]
  },
  {
   "cell_type": "markdown",
   "metadata": {},
   "source": [
    "**Риск убытков**"
   ]
  },
  {
   "cell_type": "code",
   "execution_count": 34,
   "metadata": {
    "scrolled": true
   },
   "outputs": [
    {
     "name": "stdout",
     "output_type": "stream",
     "text": [
      "5.5%\n"
     ]
    }
   ],
   "source": [
    "risk_0 = get_risk(values_0)\n",
    "print('{:2.1%}'.format(risk_0))"
   ]
  },
  {
   "cell_type": "markdown",
   "metadata": {},
   "source": [
    "## 4.2 Исследование региона №2"
   ]
  },
  {
   "cell_type": "code",
   "execution_count": 35,
   "metadata": {},
   "outputs": [],
   "source": [
    "values_1 = bootstrap(target_valid_1, predicted_1)"
   ]
  },
  {
   "cell_type": "markdown",
   "metadata": {},
   "source": [
    "**Среднее значение прибыли**"
   ]
  },
  {
   "cell_type": "code",
   "execution_count": 36,
   "metadata": {},
   "outputs": [
    {
     "name": "stdout",
     "output_type": "stream",
     "text": [
      "511,530,218\n"
     ]
    }
   ],
   "source": [
    "E_1 = values_1.mean()\n",
    "print('{:,}'.format(int(E_1)))"
   ]
  },
  {
   "cell_type": "markdown",
   "metadata": {},
   "source": [
    "**Доверительный интервал по уровню 95%**"
   ]
  },
  {
   "cell_type": "code",
   "execution_count": 37,
   "metadata": {},
   "outputs": [
    {
     "name": "stdout",
     "output_type": "stream",
     "text": [
      "(91,700,564  --  921,455,668)\n"
     ]
    }
   ],
   "source": [
    "lower_1 = values_1.quantile((1 - prob) / 2)\n",
    "upper_1 = values_1.quantile((1 + prob) / 2)\n",
    "print('({:,}  --  {:,})'.format(int(lower_1), int(upper_1)))"
   ]
  },
  {
   "cell_type": "markdown",
   "metadata": {},
   "source": [
    "**Риск убытков**"
   ]
  },
  {
   "cell_type": "code",
   "execution_count": 38,
   "metadata": {
    "scrolled": true
   },
   "outputs": [
    {
     "name": "stdout",
     "output_type": "stream",
     "text": [
      "0.6%\n"
     ]
    }
   ],
   "source": [
    "risk_1 = get_risk(values_1)\n",
    "print('{:2.1%}'.format(risk_1))"
   ]
  },
  {
   "cell_type": "markdown",
   "metadata": {},
   "source": [
    "## 4.3 Исследование региона №3"
   ]
  },
  {
   "cell_type": "code",
   "execution_count": 39,
   "metadata": {},
   "outputs": [],
   "source": [
    "values_2 = bootstrap(target_valid_2, predicted_2)"
   ]
  },
  {
   "cell_type": "markdown",
   "metadata": {},
   "source": [
    "**Среднее значение прибыли**"
   ]
  },
  {
   "cell_type": "code",
   "execution_count": 40,
   "metadata": {},
   "outputs": [
    {
     "name": "stdout",
     "output_type": "stream",
     "text": [
      "408,545,681\n"
     ]
    }
   ],
   "source": [
    "E_2 = values_2.mean()\n",
    "print('{:,}'.format(int(E_2)))"
   ]
  },
  {
   "cell_type": "markdown",
   "metadata": {},
   "source": [
    "**Доверительный интервал по уровню 95%**"
   ]
  },
  {
   "cell_type": "code",
   "execution_count": 41,
   "metadata": {},
   "outputs": [
    {
     "name": "stdout",
     "output_type": "stream",
     "text": [
      "(-120,624,872  --  960,859,440)\n"
     ]
    }
   ],
   "source": [
    "lower_2 = values_2.quantile((1 - prob) / 2)\n",
    "upper_2 = values_2.quantile((1 + prob) / 2)\n",
    "print('({:,}  --  {:,})'.format(int(lower_2), int(upper_2)))"
   ]
  },
  {
   "cell_type": "markdown",
   "metadata": {},
   "source": [
    "**Риск убытков**"
   ]
  },
  {
   "cell_type": "code",
   "execution_count": 42,
   "metadata": {
    "scrolled": true
   },
   "outputs": [
    {
     "name": "stdout",
     "output_type": "stream",
     "text": [
      "7.5%\n"
     ]
    }
   ],
   "source": [
    "risk_2 = get_risk(values_2)\n",
    "print('{:2.1%}'.format(risk_2))"
   ]
  },
  {
   "cell_type": "markdown",
   "metadata": {},
   "source": [
    "**Сводная таблица результатов**"
   ]
  },
  {
   "cell_type": "code",
   "execution_count": 43,
   "metadata": {},
   "outputs": [
    {
     "data": {
      "text/html": [
       "<div>\n",
       "<style scoped>\n",
       "    .dataframe tbody tr th:only-of-type {\n",
       "        vertical-align: middle;\n",
       "    }\n",
       "\n",
       "    .dataframe tbody tr th {\n",
       "        vertical-align: top;\n",
       "    }\n",
       "\n",
       "    .dataframe thead th {\n",
       "        text-align: right;\n",
       "    }\n",
       "</style>\n",
       "<table border=\"1\" class=\"dataframe\">\n",
       "  <thead>\n",
       "    <tr style=\"text-align: right;\">\n",
       "      <th></th>\n",
       "      <th>Регион №1</th>\n",
       "      <th>Регион №2</th>\n",
       "      <th>Регион №3</th>\n",
       "    </tr>\n",
       "  </thead>\n",
       "  <tbody>\n",
       "    <tr>\n",
       "      <td>Среднее значение прибыли</td>\n",
       "      <td>427,847,560</td>\n",
       "      <td>511,530,218</td>\n",
       "      <td>408,545,681</td>\n",
       "    </tr>\n",
       "    <tr>\n",
       "      <td>Доверительный интервал (95%)</td>\n",
       "      <td>(-97,249,830 - 954,215,193)</td>\n",
       "      <td>(91,700,564 - 921,455,668)</td>\n",
       "      <td>(-120,624,873 - 960,859,441)</td>\n",
       "    </tr>\n",
       "    <tr>\n",
       "      <td>Риск убытков</td>\n",
       "      <td>5.5%</td>\n",
       "      <td>0.6%</td>\n",
       "      <td>7.5%</td>\n",
       "    </tr>\n",
       "  </tbody>\n",
       "</table>\n",
       "</div>"
      ],
      "text/plain": [
       "                                                Регион №1  \\\n",
       "Среднее значение прибыли                      427,847,560   \n",
       "Доверительный интервал (95%)  (-97,249,830 - 954,215,193)   \n",
       "Риск убытков                                         5.5%   \n",
       "\n",
       "                                               Регион №2  \\\n",
       "Среднее значение прибыли                     511,530,218   \n",
       "Доверительный интервал (95%)  (91,700,564 - 921,455,668)   \n",
       "Риск убытков                                        0.6%   \n",
       "\n",
       "                                                 Регион №3  \n",
       "Среднее значение прибыли                       408,545,681  \n",
       "Доверительный интервал (95%)  (-120,624,873 - 960,859,441)  \n",
       "Риск убытков                                          7.5%  "
      ]
     },
     "execution_count": 43,
     "metadata": {},
     "output_type": "execute_result"
    }
   ],
   "source": [
    "data = {\n",
    "    'Регион №1': ['{:,.0f}'.format(E_0), '({:,.0f} - {:,.0f})'.format(lower_0, upper_0), '{:2.1%}'.format(risk_0)],\n",
    "    'Регион №2': ['{:,.0f}'.format(E_1), '({:,.0f} - {:,.0f})'.format(lower_1, upper_1), '{:2.1%}'.format(risk_1)],\n",
    "    'Регион №3': ['{:,.0f}'.format(E_2), '({:,.0f} - {:,.0f})'.format(lower_2, upper_2), '{:2.1%}'.format(risk_2)]\n",
    "}\n",
    "pd.DataFrame(data, index=['Среднее значение прибыли', 'Доверительный интервал (95%)', 'Риск убытков'])"
   ]
  },
  {
   "cell_type": "markdown",
   "metadata": {},
   "source": [
    "# Вывод<a id=\"step5\"></a>\n",
    "**Самый перспективный регион для разработки месторождений - регион №2, как показал проведенный анализ, данный регион характеризуется самым большим значением возможной средней прибыли, 95% интервал не охватывает отрицательные значения прибыли, а также обладает минимальным риском убытков менее заданного 2,5%**"
   ]
  }
 ],
 "metadata": {
  "kernelspec": {
   "display_name": "Python 3",
   "language": "python",
   "name": "python3"
  },
  "language_info": {
   "codemirror_mode": {
    "name": "ipython",
    "version": 3
   },
   "file_extension": ".py",
   "mimetype": "text/x-python",
   "name": "python",
   "nbconvert_exporter": "python",
   "pygments_lexer": "ipython3",
   "version": "3.8.10"
  },
  "toc": {
   "base_numbering": 1,
   "nav_menu": {},
   "number_sections": true,
   "sideBar": true,
   "skip_h1_title": true,
   "title_cell": "Table of Contents",
   "title_sidebar": "Contents",
   "toc_cell": false,
   "toc_position": {},
   "toc_section_display": true,
   "toc_window_display": false
  }
 },
 "nbformat": 4,
 "nbformat_minor": 2
}
