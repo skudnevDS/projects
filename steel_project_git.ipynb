{
 "cells": [
  {
   "cell_type": "markdown",
   "metadata": {},
   "source": [
    "## Описание задачи\n",
    "\n",
    "Чтобы оптимизировать производственные расходы, металлургический комбинат ООО \"Так закаляем сталь\" решил уменьшить потребление электроэнергии на этапе обработки стали. Требуется построить модель, которая предскажет температуру стали перед переходом на следующий этап обработки\n",
    "\n",
    "### Описание этапа обработки\n",
    "\n",
    "Сталь обрабатывают в металлическом ковше вместимостью около 100 тонн. Чтобы ковш выдерживал высокие температуры, изнутри его облицовывают огнеупорным кирпичом. Расплавленную сталь заливают в ковш и подогревают до нужной температуры графитовыми электродами. Они установлены в крышке ковша.  \n",
    "Из сплава выводится сера (десульфация), добавлением примесей корректируется состав и отбираются пробы. Сталь легируют – изменяют её состав – подавая куски сплава из бункера для сыпучих материалов или проволоку через специальный трайб-аппарат.  \n",
    "Перед тем, как первый раз ввести легирующие добавки, измеряют температуру стали и производят её химический анализ. Потом температуру на несколько минут повышают, добавляют лигирующие материалы и продувают сплав инертным газом. Затем его перемешивают и снова проводят измерения. Такой цикл повторяется до достижения целевого химического состава и оптимальной температуры плавки.  \n",
    "Тогда расплавленная сталь отправляется на доводку металла или поступает в машину непрерывной разливки. Оттуда готовый продукт выходит в виде заготовок-слябов.\n",
    "\n",
    "### Описание данных\n",
    "- data_arc.csv – данные об электродах;\n",
    "- data_bulk.csv – данные о подаче сыпучих материалов (объём);\n",
    "- data_bulk_time.csv – данные о подаче сыпучих материалов (время);\n",
    "- data_gas.csv – данные о продувке сплава газом;\n",
    "- data_temp.csv – данные измерения температуры;\n",
    "- data_wire.csv – данные о проволочных материалах (объём);\n",
    "- data_wire_time.csv – данные о проволочных материалах (время).\n",
    "\n",
    "Во всех файлах столбец `key` содержит номер партии. В файлах может быть несколько строк с одинаковым значением `key`: они соответствуют разным итерациям обработки.\n",
    "\n",
    "### Содержание\n",
    "- [1 Исследовательский анализ данных](#step1)\n",
    "- [2 Подготовка данных для обучения моделей](#step2)\n",
    "- [3 Обучение и тестирование моделей](#step3)\n",
    "- [4 Вывод](#step4)"
   ]
  },
  {
   "cell_type": "markdown",
   "metadata": {},
   "source": [
    "### 1 Исследовательский анализ данных<a id=\"step1\"></a>"
   ]
  },
  {
   "cell_type": "code",
   "execution_count": 1,
   "metadata": {},
   "outputs": [],
   "source": [
    "import pandas as pd\n",
    "import numpy as np\n",
    "import matplotlib.pyplot as plt\n",
    "import pprint\n",
    "\n",
    "from sklearn.linear_model import LinearRegression\n",
    "from sklearn.linear_model import Lasso\n",
    "from sklearn.model_selection import train_test_split\n",
    "from sklearn.model_selection import KFold\n",
    "from sklearn.metrics import mean_absolute_error\n",
    "from sklearn.metrics import r2_score\n",
    "\n",
    "from lightgbm.sklearn import LGBMRegressor\n",
    "\n",
    "from tqdm.notebook import tqdm"
   ]
  },
  {
   "cell_type": "markdown",
   "metadata": {},
   "source": [
    "#### Загрузка данных"
   ]
  },
  {
   "cell_type": "code",
   "execution_count": 2,
   "metadata": {},
   "outputs": [],
   "source": [
    "# Загрузка данных с предварительным преобразованием к временным типам\n",
    "try:\n",
    "    data_arc = pd.read_csv('data_arc.csv', parse_dates=[1, 2])\n",
    "    data_bulk = pd.read_csv('data_bulk.csv')\n",
    "    data_bulk_time = pd.read_csv('data_bulk_time.csv', parse_dates=[1, 2, 3, 4, 5, 6, 7, 8, 9, 10, 11, 12, 13, 14, 15])\n",
    "    data_gas = pd.read_csv('data_gas.csv')\n",
    "    data_temp = pd.read_csv('data_temp.csv', parse_dates=[1])\n",
    "    data_wire = pd.read_csv('data_wire.csv')\n",
    "    data_wire_time = pd.read_csv('data_wire_time.csv', parse_dates=[1, 2, 3, 4, 5, 6, 7, 8, 9])\n",
    "except:\n",
    "    data_arc = pd.read_csv('/datasets/final_steel/data_arc.csv', parse_dates=[1, 2])\n",
    "    data_bulk = pd.read_csv('/datasets/final_steel/data_bulk.csv')\n",
    "    data_bulk_time = pd.read_csv('/datasets/final_steel/data_bulk_time.csv', parse_dates=[1, 2, 3, 4, 5, 6, 7, 8, 9, 10, 11, 12, 13, 14, 15])\n",
    "    data_gas = pd.read_csv('/datasets/final_steel/data_gas.csv')\n",
    "    data_temp = pd.read_csv('/datasets/final_steel/data_temp.csv', parse_dates=[1])\n",
    "    data_wire = pd.read_csv('/datasets/final_steel/data_wire.csv')\n",
    "    data_wire_time = pd.read_csv('/datasets/final_steel/data_wire_time.csv', parse_dates=[1, 2, 3, 4, 5, 6, 7, 8, 9])"
   ]
  },
  {
   "cell_type": "markdown",
   "metadata": {},
   "source": [
    "#### Исследование и предобработка данных об электродах"
   ]
  },
  {
   "cell_type": "code",
   "execution_count": 3,
   "metadata": {},
   "outputs": [
    {
     "data": {
      "text/html": [
       "<div>\n",
       "<style scoped>\n",
       "    .dataframe tbody tr th:only-of-type {\n",
       "        vertical-align: middle;\n",
       "    }\n",
       "\n",
       "    .dataframe tbody tr th {\n",
       "        vertical-align: top;\n",
       "    }\n",
       "\n",
       "    .dataframe thead th {\n",
       "        text-align: right;\n",
       "    }\n",
       "</style>\n",
       "<table border=\"1\" class=\"dataframe\">\n",
       "  <thead>\n",
       "    <tr style=\"text-align: right;\">\n",
       "      <th></th>\n",
       "      <th>key</th>\n",
       "      <th>Начало нагрева дугой</th>\n",
       "      <th>Конец нагрева дугой</th>\n",
       "      <th>Активная мощность</th>\n",
       "      <th>Реактивная мощность</th>\n",
       "    </tr>\n",
       "  </thead>\n",
       "  <tbody>\n",
       "    <tr>\n",
       "      <th>0</th>\n",
       "      <td>1</td>\n",
       "      <td>2019-05-03 11:02:14</td>\n",
       "      <td>2019-05-03 11:06:02</td>\n",
       "      <td>0.976059</td>\n",
       "      <td>0.687084</td>\n",
       "    </tr>\n",
       "    <tr>\n",
       "      <th>1</th>\n",
       "      <td>1</td>\n",
       "      <td>2019-05-03 11:07:28</td>\n",
       "      <td>2019-05-03 11:10:33</td>\n",
       "      <td>0.805607</td>\n",
       "      <td>0.520285</td>\n",
       "    </tr>\n",
       "    <tr>\n",
       "      <th>2</th>\n",
       "      <td>1</td>\n",
       "      <td>2019-05-03 11:11:44</td>\n",
       "      <td>2019-05-03 11:14:36</td>\n",
       "      <td>0.744363</td>\n",
       "      <td>0.498805</td>\n",
       "    </tr>\n",
       "    <tr>\n",
       "      <th>3</th>\n",
       "      <td>1</td>\n",
       "      <td>2019-05-03 11:18:14</td>\n",
       "      <td>2019-05-03 11:24:19</td>\n",
       "      <td>1.659363</td>\n",
       "      <td>1.062669</td>\n",
       "    </tr>\n",
       "    <tr>\n",
       "      <th>4</th>\n",
       "      <td>1</td>\n",
       "      <td>2019-05-03 11:26:09</td>\n",
       "      <td>2019-05-03 11:28:37</td>\n",
       "      <td>0.692755</td>\n",
       "      <td>0.414397</td>\n",
       "    </tr>\n",
       "  </tbody>\n",
       "</table>\n",
       "</div>"
      ],
      "text/plain": [
       "   key Начало нагрева дугой Конец нагрева дугой  Активная мощность  \\\n",
       "0    1  2019-05-03 11:02:14 2019-05-03 11:06:02           0.976059   \n",
       "1    1  2019-05-03 11:07:28 2019-05-03 11:10:33           0.805607   \n",
       "2    1  2019-05-03 11:11:44 2019-05-03 11:14:36           0.744363   \n",
       "3    1  2019-05-03 11:18:14 2019-05-03 11:24:19           1.659363   \n",
       "4    1  2019-05-03 11:26:09 2019-05-03 11:28:37           0.692755   \n",
       "\n",
       "   Реактивная мощность  \n",
       "0             0.687084  \n",
       "1             0.520285  \n",
       "2             0.498805  \n",
       "3             1.062669  \n",
       "4             0.414397  "
      ]
     },
     "execution_count": 3,
     "metadata": {},
     "output_type": "execute_result"
    }
   ],
   "source": [
    "data_arc.head()"
   ]
  },
  {
   "cell_type": "code",
   "execution_count": 4,
   "metadata": {},
   "outputs": [
    {
     "name": "stdout",
     "output_type": "stream",
     "text": [
      "<class 'pandas.core.frame.DataFrame'>\n",
      "RangeIndex: 14876 entries, 0 to 14875\n",
      "Data columns (total 5 columns):\n",
      " #   Column                Non-Null Count  Dtype         \n",
      "---  ------                --------------  -----         \n",
      " 0   key                   14876 non-null  int64         \n",
      " 1   Начало нагрева дугой  14876 non-null  datetime64[ns]\n",
      " 2   Конец нагрева дугой   14876 non-null  datetime64[ns]\n",
      " 3   Активная мощность     14876 non-null  float64       \n",
      " 4   Реактивная мощность   14876 non-null  float64       \n",
      "dtypes: datetime64[ns](2), float64(2), int64(1)\n",
      "memory usage: 581.2 KB\n"
     ]
    }
   ],
   "source": [
    "data_arc.info()"
   ]
  },
  {
   "cell_type": "markdown",
   "metadata": {},
   "source": [
    "***Количество партий***"
   ]
  },
  {
   "cell_type": "code",
   "execution_count": 5,
   "metadata": {},
   "outputs": [
    {
     "data": {
      "text/plain": [
       "3214"
      ]
     },
     "execution_count": 5,
     "metadata": {},
     "output_type": "execute_result"
    }
   ],
   "source": [
    "data_arc.key.unique().size"
   ]
  },
  {
   "cell_type": "markdown",
   "metadata": {},
   "source": [
    "##### Графическое представление данных об активной мощности на электродах"
   ]
  },
  {
   "cell_type": "code",
   "execution_count": 6,
   "metadata": {},
   "outputs": [],
   "source": [
    "# определим функцию data_plotter, представляющую данные графически\n",
    "def data_plotter(data, column_name, x_label):\n",
    "    fig, ax = plt.subplots(2, 1, sharex=True)\n",
    "    ax = ax.flat\n",
    "    ax[0].hist(data[column_name], bins=30)\n",
    "    ax[0].set_title('Гистограмма распределения значений столбца \"%s\"' % column_name)\n",
    "    ax[0].grid(True)\n",
    "\n",
    "    ax[1].boxplot(data[data[column_name].notna()][column_name], vert=False)\n",
    "    ax[1].set_title('Распределение значений значений столбца \"%s\"' % column_name)\n",
    "    ax[1].set_xlabel(x_label)\n",
    "    ax[1].set_yticklabels('')\n",
    "    ax[1].grid(True)\n",
    "\n",
    "    plt.tight_layout()\n",
    "    plt.show()"
   ]
  },
  {
   "cell_type": "code",
   "execution_count": 7,
   "metadata": {},
   "outputs": [
    {
     "data": {
      "image/png": "[encoded data removed]",
      "text/plain": [
       "<Figure size 432x288 with 2 Axes>"
      ]
     },
     "metadata": {
      "needs_background": "light"
     },
     "output_type": "display_data"
    }
   ],
   "source": [
    "data_plotter(data=data_arc, column_name='Активная мощность', x_label='Ед. мощности')"
   ]
  },
  {
   "cell_type": "markdown",
   "metadata": {},
   "source": [
    "**Вывод:** аномальных данных не обнаружено"
   ]
  },
  {
   "cell_type": "markdown",
   "metadata": {},
   "source": [
    "##### Графическое представление данных о реактивной мощности на электродах"
   ]
  },
  {
   "cell_type": "code",
   "execution_count": 8,
   "metadata": {},
   "outputs": [
    {
     "data": {
      "image/png": "[encoded data removed]",
      "text/plain": [
       "<Figure size 432x288 with 2 Axes>"
      ]
     },
     "metadata": {
      "needs_background": "light"
     },
     "output_type": "display_data"
    }
   ],
   "source": [
    "data_plotter(data=data_arc, column_name='Реактивная мощность', x_label='Ед. мощности')"
   ]
  },
  {
   "cell_type": "markdown",
   "metadata": {},
   "source": [
    "**Вывод:** обнаружено аномальное значение в данных "
   ]
  },
  {
   "cell_type": "code",
   "execution_count": 9,
   "metadata": {},
   "outputs": [],
   "source": [
    "# Определение индекса аномальной строки\n",
    "anomaly_ind = data_arc.loc[data_arc['Реактивная мощность'] < -700].index.values.tolist()[0]"
   ]
  },
  {
   "cell_type": "code",
   "execution_count": 10,
   "metadata": {},
   "outputs": [],
   "source": [
    "# Определение значения активной мощности в строке\n",
    "power = data_arc.loc[anomaly_ind, 'Активная мощность']"
   ]
  },
  {
   "cell_type": "code",
   "execution_count": 11,
   "metadata": {},
   "outputs": [
    {
     "data": {
      "text/plain": [
       "(9780, 0.4957824945)"
      ]
     },
     "execution_count": 11,
     "metadata": {},
     "output_type": "execute_result"
    }
   ],
   "source": [
    "# Отображение значений индекса аномальной строки и соответствующего значения активной мощности\n",
    "anomaly_ind, power"
   ]
  },
  {
   "cell_type": "code",
   "execution_count": 12,
   "metadata": {},
   "outputs": [
    {
     "data": {
      "text/html": [
       "<div>\n",
       "<style scoped>\n",
       "    .dataframe tbody tr th:only-of-type {\n",
       "        vertical-align: middle;\n",
       "    }\n",
       "\n",
       "    .dataframe tbody tr th {\n",
       "        vertical-align: top;\n",
       "    }\n",
       "\n",
       "    .dataframe thead th {\n",
       "        text-align: right;\n",
       "    }\n",
       "</style>\n",
       "<table border=\"1\" class=\"dataframe\">\n",
       "  <thead>\n",
       "    <tr style=\"text-align: right;\">\n",
       "      <th></th>\n",
       "      <th>key</th>\n",
       "      <th>Начало нагрева дугой</th>\n",
       "      <th>Конец нагрева дугой</th>\n",
       "      <th>Активная мощность</th>\n",
       "      <th>Реактивная мощность</th>\n",
       "    </tr>\n",
       "  </thead>\n",
       "  <tbody>\n",
       "    <tr>\n",
       "      <th>9779</th>\n",
       "      <td>2116</td>\n",
       "      <td>2019-07-24 00:35:50</td>\n",
       "      <td>2019-07-24 00:38:05</td>\n",
       "      <td>0.620265</td>\n",
       "      <td>0.408352</td>\n",
       "    </tr>\n",
       "    <tr>\n",
       "      <th>9780</th>\n",
       "      <td>2116</td>\n",
       "      <td>2019-07-24 00:44:48</td>\n",
       "      <td>2019-07-24 00:46:37</td>\n",
       "      <td>0.495782</td>\n",
       "      <td>-715.504924</td>\n",
       "    </tr>\n",
       "    <tr>\n",
       "      <th>9781</th>\n",
       "      <td>2116</td>\n",
       "      <td>2019-07-24 00:51:51</td>\n",
       "      <td>2019-07-24 00:52:58</td>\n",
       "      <td>0.299368</td>\n",
       "      <td>0.198796</td>\n",
       "    </tr>\n",
       "  </tbody>\n",
       "</table>\n",
       "</div>"
      ],
      "text/plain": [
       "       key Начало нагрева дугой Конец нагрева дугой  Активная мощность  \\\n",
       "9779  2116  2019-07-24 00:35:50 2019-07-24 00:38:05           0.620265   \n",
       "9780  2116  2019-07-24 00:44:48 2019-07-24 00:46:37           0.495782   \n",
       "9781  2116  2019-07-24 00:51:51 2019-07-24 00:52:58           0.299368   \n",
       "\n",
       "      Реактивная мощность  \n",
       "9779             0.408352  \n",
       "9780          -715.504924  \n",
       "9781             0.198796  "
      ]
     },
     "execution_count": 12,
     "metadata": {},
     "output_type": "execute_result"
    }
   ],
   "source": [
    "# Отображение соседних строк вокруг аномальной\n",
    "data_arc.loc[anomaly_ind-1:anomaly_ind+1]"
   ]
  },
  {
   "cell_type": "code",
   "execution_count": 13,
   "metadata": {},
   "outputs": [
    {
     "data": {
      "text/plain": [
       "0.36203575134999993"
      ]
     },
     "execution_count": 13,
     "metadata": {},
     "output_type": "execute_result"
    }
   ],
   "source": [
    "# Замена аномального значения реактивной мощности будет осуществляться через вычисление медианного\n",
    "# значения в наборе данных ближайших значениий активной мощности\n",
    "repl = (data_arc\n",
    "            .query('`Активная мощность` > @power - 0.01 and `Активная мощность` < @power + 0.01')['Реактивная мощность']\n",
    "            .median()\n",
    "       )\n",
    "repl"
   ]
  },
  {
   "cell_type": "code",
   "execution_count": 14,
   "metadata": {},
   "outputs": [],
   "source": [
    "# Произведение замены\n",
    "data_arc.loc[anomaly_ind, 'Реактивная мощность'] = repl"
   ]
  },
  {
   "cell_type": "markdown",
   "metadata": {},
   "source": [
    "##### Графическое представление исправленных данных о реактивной мощности на электродах"
   ]
  },
  {
   "cell_type": "code",
   "execution_count": 15,
   "metadata": {},
   "outputs": [
    {
     "data": {
      "image/png": "[encoded data removed]",
      "text/plain": [
       "<Figure size 432x288 with 2 Axes>"
      ]
     },
     "metadata": {
      "needs_background": "light"
     },
     "output_type": "display_data"
    }
   ],
   "source": [
    "data_plotter(data=data_arc, column_name='Реактивная мощность', x_label='Ед. мощности')"
   ]
  },
  {
   "cell_type": "markdown",
   "metadata": {},
   "source": [
    "**Вывод**: данные очищены"
   ]
  },
  {
   "cell_type": "markdown",
   "metadata": {},
   "source": [
    "##### Исследование корреляции в данных между активной и реактивной мощностями на электродах"
   ]
  },
  {
   "cell_type": "code",
   "execution_count": 16,
   "metadata": {},
   "outputs": [
    {
     "data": {
      "text/plain": [
       "0.9631823749772016"
      ]
     },
     "execution_count": 16,
     "metadata": {},
     "output_type": "execute_result"
    }
   ],
   "source": [
    "data_arc['Активная мощность'].corr(data_arc['Реактивная мощность'])"
   ]
  },
  {
   "cell_type": "markdown",
   "metadata": {},
   "source": [
    "**Вывод:** данные активной и реактивной мощностей сильно коррелированы (прямопропорционально), это значит, что в качестве фичей можно оставить лишь один из двух столбцов во избежание избыточности признаков"
   ]
  },
  {
   "cell_type": "markdown",
   "metadata": {},
   "source": [
    "#### Исследование данных о подаче сыпучих материалов (объём)"
   ]
  },
  {
   "cell_type": "code",
   "execution_count": 17,
   "metadata": {},
   "outputs": [
    {
     "data": {
      "text/html": [
       "<div>\n",
       "<style scoped>\n",
       "    .dataframe tbody tr th:only-of-type {\n",
       "        vertical-align: middle;\n",
       "    }\n",
       "\n",
       "    .dataframe tbody tr th {\n",
       "        vertical-align: top;\n",
       "    }\n",
       "\n",
       "    .dataframe thead th {\n",
       "        text-align: right;\n",
       "    }\n",
       "</style>\n",
       "<table border=\"1\" class=\"dataframe\">\n",
       "  <thead>\n",
       "    <tr style=\"text-align: right;\">\n",
       "      <th></th>\n",
       "      <th>key</th>\n",
       "      <th>Bulk 1</th>\n",
       "      <th>Bulk 2</th>\n",
       "      <th>Bulk 3</th>\n",
       "      <th>Bulk 4</th>\n",
       "      <th>Bulk 5</th>\n",
       "      <th>Bulk 6</th>\n",
       "      <th>Bulk 7</th>\n",
       "      <th>Bulk 8</th>\n",
       "      <th>Bulk 9</th>\n",
       "      <th>Bulk 10</th>\n",
       "      <th>Bulk 11</th>\n",
       "      <th>Bulk 12</th>\n",
       "      <th>Bulk 13</th>\n",
       "      <th>Bulk 14</th>\n",
       "      <th>Bulk 15</th>\n",
       "    </tr>\n",
       "  </thead>\n",
       "  <tbody>\n",
       "    <tr>\n",
       "      <th>0</th>\n",
       "      <td>1</td>\n",
       "      <td>NaN</td>\n",
       "      <td>NaN</td>\n",
       "      <td>NaN</td>\n",
       "      <td>43.0</td>\n",
       "      <td>NaN</td>\n",
       "      <td>NaN</td>\n",
       "      <td>NaN</td>\n",
       "      <td>NaN</td>\n",
       "      <td>NaN</td>\n",
       "      <td>NaN</td>\n",
       "      <td>NaN</td>\n",
       "      <td>206.0</td>\n",
       "      <td>NaN</td>\n",
       "      <td>150.0</td>\n",
       "      <td>154.0</td>\n",
       "    </tr>\n",
       "    <tr>\n",
       "      <th>1</th>\n",
       "      <td>2</td>\n",
       "      <td>NaN</td>\n",
       "      <td>NaN</td>\n",
       "      <td>NaN</td>\n",
       "      <td>73.0</td>\n",
       "      <td>NaN</td>\n",
       "      <td>NaN</td>\n",
       "      <td>NaN</td>\n",
       "      <td>NaN</td>\n",
       "      <td>NaN</td>\n",
       "      <td>NaN</td>\n",
       "      <td>NaN</td>\n",
       "      <td>206.0</td>\n",
       "      <td>NaN</td>\n",
       "      <td>149.0</td>\n",
       "      <td>154.0</td>\n",
       "    </tr>\n",
       "    <tr>\n",
       "      <th>2</th>\n",
       "      <td>3</td>\n",
       "      <td>NaN</td>\n",
       "      <td>NaN</td>\n",
       "      <td>NaN</td>\n",
       "      <td>34.0</td>\n",
       "      <td>NaN</td>\n",
       "      <td>NaN</td>\n",
       "      <td>NaN</td>\n",
       "      <td>NaN</td>\n",
       "      <td>NaN</td>\n",
       "      <td>NaN</td>\n",
       "      <td>NaN</td>\n",
       "      <td>205.0</td>\n",
       "      <td>NaN</td>\n",
       "      <td>152.0</td>\n",
       "      <td>153.0</td>\n",
       "    </tr>\n",
       "    <tr>\n",
       "      <th>3</th>\n",
       "      <td>4</td>\n",
       "      <td>NaN</td>\n",
       "      <td>NaN</td>\n",
       "      <td>NaN</td>\n",
       "      <td>81.0</td>\n",
       "      <td>NaN</td>\n",
       "      <td>NaN</td>\n",
       "      <td>NaN</td>\n",
       "      <td>NaN</td>\n",
       "      <td>NaN</td>\n",
       "      <td>NaN</td>\n",
       "      <td>NaN</td>\n",
       "      <td>207.0</td>\n",
       "      <td>NaN</td>\n",
       "      <td>153.0</td>\n",
       "      <td>154.0</td>\n",
       "    </tr>\n",
       "    <tr>\n",
       "      <th>4</th>\n",
       "      <td>5</td>\n",
       "      <td>NaN</td>\n",
       "      <td>NaN</td>\n",
       "      <td>NaN</td>\n",
       "      <td>78.0</td>\n",
       "      <td>NaN</td>\n",
       "      <td>NaN</td>\n",
       "      <td>NaN</td>\n",
       "      <td>NaN</td>\n",
       "      <td>NaN</td>\n",
       "      <td>NaN</td>\n",
       "      <td>NaN</td>\n",
       "      <td>203.0</td>\n",
       "      <td>NaN</td>\n",
       "      <td>151.0</td>\n",
       "      <td>152.0</td>\n",
       "    </tr>\n",
       "  </tbody>\n",
       "</table>\n",
       "</div>"
      ],
      "text/plain": [
       "   key  Bulk 1  Bulk 2  Bulk 3  Bulk 4  Bulk 5  Bulk 6  Bulk 7  Bulk 8  \\\n",
       "0    1     NaN     NaN     NaN    43.0     NaN     NaN     NaN     NaN   \n",
       "1    2     NaN     NaN     NaN    73.0     NaN     NaN     NaN     NaN   \n",
       "2    3     NaN     NaN     NaN    34.0     NaN     NaN     NaN     NaN   \n",
       "3    4     NaN     NaN     NaN    81.0     NaN     NaN     NaN     NaN   \n",
       "4    5     NaN     NaN     NaN    78.0     NaN     NaN     NaN     NaN   \n",
       "\n",
       "   Bulk 9  Bulk 10  Bulk 11  Bulk 12  Bulk 13  Bulk 14  Bulk 15  \n",
       "0     NaN      NaN      NaN    206.0      NaN    150.0    154.0  \n",
       "1     NaN      NaN      NaN    206.0      NaN    149.0    154.0  \n",
       "2     NaN      NaN      NaN    205.0      NaN    152.0    153.0  \n",
       "3     NaN      NaN      NaN    207.0      NaN    153.0    154.0  \n",
       "4     NaN      NaN      NaN    203.0      NaN    151.0    152.0  "
      ]
     },
     "execution_count": 17,
     "metadata": {},
     "output_type": "execute_result"
    }
   ],
   "source": [
    "data_bulk.head()"
   ]
  },
  {
   "cell_type": "code",
   "execution_count": 18,
   "metadata": {},
   "outputs": [],
   "source": [
    "# Замена пробелов в названиях столбцов\n",
    "data_bulk.columns = ['_'.join(col.split()) for col in data_bulk.columns]"
   ]
  },
  {
   "cell_type": "code",
   "execution_count": 19,
   "metadata": {},
   "outputs": [
    {
     "name": "stdout",
     "output_type": "stream",
     "text": [
      "<class 'pandas.core.frame.DataFrame'>\n",
      "RangeIndex: 3129 entries, 0 to 3128\n",
      "Data columns (total 16 columns):\n",
      " #   Column   Non-Null Count  Dtype  \n",
      "---  ------   --------------  -----  \n",
      " 0   key      3129 non-null   int64  \n",
      " 1   Bulk_1   252 non-null    float64\n",
      " 2   Bulk_2   22 non-null     float64\n",
      " 3   Bulk_3   1298 non-null   float64\n",
      " 4   Bulk_4   1014 non-null   float64\n",
      " 5   Bulk_5   77 non-null     float64\n",
      " 6   Bulk_6   576 non-null    float64\n",
      " 7   Bulk_7   25 non-null     float64\n",
      " 8   Bulk_8   1 non-null      float64\n",
      " 9   Bulk_9   19 non-null     float64\n",
      " 10  Bulk_10  176 non-null    float64\n",
      " 11  Bulk_11  177 non-null    float64\n",
      " 12  Bulk_12  2450 non-null   float64\n",
      " 13  Bulk_13  18 non-null     float64\n",
      " 14  Bulk_14  2806 non-null   float64\n",
      " 15  Bulk_15  2248 non-null   float64\n",
      "dtypes: float64(15), int64(1)\n",
      "memory usage: 391.2 KB\n"
     ]
    }
   ],
   "source": [
    "data_bulk.info()"
   ]
  },
  {
   "cell_type": "markdown",
   "metadata": {},
   "source": [
    "##### Графическое представление данных о подаче сыпучих материалов"
   ]
  },
  {
   "cell_type": "code",
   "execution_count": 20,
   "metadata": {},
   "outputs": [],
   "source": [
    "# Определим вторую функцию data_plotter_2, графически отображающую распределение множественных признаков\n",
    "def data_plotter_2(data, shape, figsize):\n",
    "    fig, ax = plt.subplots(*shape, figsize=figsize)\n",
    "    ax = ax.flat\n",
    "    for i, col in enumerate(data.columns[1:]):\n",
    "        ax[i].hist(data[col])\n",
    "        ax[i].set_title(col)\n",
    "        ax[i].grid(True)\n",
    "\n",
    "    plt.tight_layout()\n",
    "    plt.show()"
   ]
  },
  {
   "cell_type": "code",
   "execution_count": 21,
   "metadata": {},
   "outputs": [
    {
     "data": {
      "image/png": "[encoded data removed]",
      "text/plain": [
       "<Figure size 936x576 with 15 Axes>"
      ]
     },
     "metadata": {
      "needs_background": "light"
     },
     "output_type": "display_data"
    }
   ],
   "source": [
    "data_plotter_2(data=data_bulk, shape=(3, 5), figsize=(13, 8))"
   ]
  },
  {
   "cell_type": "markdown",
   "metadata": {},
   "source": [
    "**Вывод:** аномальных данных не обнаружено"
   ]
  },
  {
   "cell_type": "markdown",
   "metadata": {},
   "source": [
    "##### Замена пропусков в данных о подаче сыпучих материалов\n",
    "Пропуски в данных можно расценивать как отсутствие подачи соответствующих сыпучих материалов, поэтому правомочно заменить пропуски нулями"
   ]
  },
  {
   "cell_type": "code",
   "execution_count": 22,
   "metadata": {},
   "outputs": [],
   "source": [
    "data_bulk = data_bulk.fillna(0).astype(int)"
   ]
  },
  {
   "cell_type": "markdown",
   "metadata": {},
   "source": [
    "#### Исследование данных о подаче сыпучих материалов (время)"
   ]
  },
  {
   "cell_type": "code",
   "execution_count": 23,
   "metadata": {},
   "outputs": [
    {
     "data": {
      "text/html": [
       "<div>\n",
       "<style scoped>\n",
       "    .dataframe tbody tr th:only-of-type {\n",
       "        vertical-align: middle;\n",
       "    }\n",
       "\n",
       "    .dataframe tbody tr th {\n",
       "        vertical-align: top;\n",
       "    }\n",
       "\n",
       "    .dataframe thead th {\n",
       "        text-align: right;\n",
       "    }\n",
       "</style>\n",
       "<table border=\"1\" class=\"dataframe\">\n",
       "  <thead>\n",
       "    <tr style=\"text-align: right;\">\n",
       "      <th></th>\n",
       "      <th>key</th>\n",
       "      <th>Bulk 1</th>\n",
       "      <th>Bulk 2</th>\n",
       "      <th>Bulk 3</th>\n",
       "      <th>Bulk 4</th>\n",
       "      <th>Bulk 5</th>\n",
       "      <th>Bulk 6</th>\n",
       "      <th>Bulk 7</th>\n",
       "      <th>Bulk 8</th>\n",
       "      <th>Bulk 9</th>\n",
       "      <th>Bulk 10</th>\n",
       "      <th>Bulk 11</th>\n",
       "      <th>Bulk 12</th>\n",
       "      <th>Bulk 13</th>\n",
       "      <th>Bulk 14</th>\n",
       "      <th>Bulk 15</th>\n",
       "    </tr>\n",
       "  </thead>\n",
       "  <tbody>\n",
       "    <tr>\n",
       "      <th>0</th>\n",
       "      <td>1</td>\n",
       "      <td>NaT</td>\n",
       "      <td>NaT</td>\n",
       "      <td>NaT</td>\n",
       "      <td>2019-05-03 11:21:30</td>\n",
       "      <td>NaT</td>\n",
       "      <td>NaT</td>\n",
       "      <td>NaT</td>\n",
       "      <td>NaT</td>\n",
       "      <td>NaT</td>\n",
       "      <td>NaT</td>\n",
       "      <td>NaT</td>\n",
       "      <td>2019-05-03 11:03:52</td>\n",
       "      <td>NaT</td>\n",
       "      <td>2019-05-03 11:03:52</td>\n",
       "      <td>2019-05-03 11:03:52</td>\n",
       "    </tr>\n",
       "    <tr>\n",
       "      <th>1</th>\n",
       "      <td>2</td>\n",
       "      <td>NaT</td>\n",
       "      <td>NaT</td>\n",
       "      <td>NaT</td>\n",
       "      <td>2019-05-03 11:46:38</td>\n",
       "      <td>NaT</td>\n",
       "      <td>NaT</td>\n",
       "      <td>NaT</td>\n",
       "      <td>NaT</td>\n",
       "      <td>NaT</td>\n",
       "      <td>NaT</td>\n",
       "      <td>NaT</td>\n",
       "      <td>2019-05-03 11:40:20</td>\n",
       "      <td>NaT</td>\n",
       "      <td>2019-05-03 11:40:20</td>\n",
       "      <td>2019-05-03 11:40:20</td>\n",
       "    </tr>\n",
       "    <tr>\n",
       "      <th>2</th>\n",
       "      <td>3</td>\n",
       "      <td>NaT</td>\n",
       "      <td>NaT</td>\n",
       "      <td>NaT</td>\n",
       "      <td>2019-05-03 12:31:06</td>\n",
       "      <td>NaT</td>\n",
       "      <td>NaT</td>\n",
       "      <td>NaT</td>\n",
       "      <td>NaT</td>\n",
       "      <td>NaT</td>\n",
       "      <td>NaT</td>\n",
       "      <td>NaT</td>\n",
       "      <td>2019-05-03 12:09:40</td>\n",
       "      <td>NaT</td>\n",
       "      <td>2019-05-03 12:09:40</td>\n",
       "      <td>2019-05-03 12:09:40</td>\n",
       "    </tr>\n",
       "    <tr>\n",
       "      <th>3</th>\n",
       "      <td>4</td>\n",
       "      <td>NaT</td>\n",
       "      <td>NaT</td>\n",
       "      <td>NaT</td>\n",
       "      <td>2019-05-03 12:48:43</td>\n",
       "      <td>NaT</td>\n",
       "      <td>NaT</td>\n",
       "      <td>NaT</td>\n",
       "      <td>NaT</td>\n",
       "      <td>NaT</td>\n",
       "      <td>NaT</td>\n",
       "      <td>NaT</td>\n",
       "      <td>2019-05-03 12:41:24</td>\n",
       "      <td>NaT</td>\n",
       "      <td>2019-05-03 12:41:24</td>\n",
       "      <td>2019-05-03 12:41:24</td>\n",
       "    </tr>\n",
       "    <tr>\n",
       "      <th>4</th>\n",
       "      <td>5</td>\n",
       "      <td>NaT</td>\n",
       "      <td>NaT</td>\n",
       "      <td>NaT</td>\n",
       "      <td>2019-05-03 13:18:50</td>\n",
       "      <td>NaT</td>\n",
       "      <td>NaT</td>\n",
       "      <td>NaT</td>\n",
       "      <td>NaT</td>\n",
       "      <td>NaT</td>\n",
       "      <td>NaT</td>\n",
       "      <td>NaT</td>\n",
       "      <td>2019-05-03 13:12:56</td>\n",
       "      <td>NaT</td>\n",
       "      <td>2019-05-03 13:12:56</td>\n",
       "      <td>2019-05-03 13:12:56</td>\n",
       "    </tr>\n",
       "  </tbody>\n",
       "</table>\n",
       "</div>"
      ],
      "text/plain": [
       "   key Bulk 1 Bulk 2 Bulk 3              Bulk 4 Bulk 5 Bulk 6 Bulk 7 Bulk 8  \\\n",
       "0    1    NaT    NaT    NaT 2019-05-03 11:21:30    NaT    NaT    NaT    NaT   \n",
       "1    2    NaT    NaT    NaT 2019-05-03 11:46:38    NaT    NaT    NaT    NaT   \n",
       "2    3    NaT    NaT    NaT 2019-05-03 12:31:06    NaT    NaT    NaT    NaT   \n",
       "3    4    NaT    NaT    NaT 2019-05-03 12:48:43    NaT    NaT    NaT    NaT   \n",
       "4    5    NaT    NaT    NaT 2019-05-03 13:18:50    NaT    NaT    NaT    NaT   \n",
       "\n",
       "  Bulk 9 Bulk 10 Bulk 11             Bulk 12 Bulk 13             Bulk 14  \\\n",
       "0    NaT     NaT     NaT 2019-05-03 11:03:52     NaT 2019-05-03 11:03:52   \n",
       "1    NaT     NaT     NaT 2019-05-03 11:40:20     NaT 2019-05-03 11:40:20   \n",
       "2    NaT     NaT     NaT 2019-05-03 12:09:40     NaT 2019-05-03 12:09:40   \n",
       "3    NaT     NaT     NaT 2019-05-03 12:41:24     NaT 2019-05-03 12:41:24   \n",
       "4    NaT     NaT     NaT 2019-05-03 13:12:56     NaT 2019-05-03 13:12:56   \n",
       "\n",
       "              Bulk 15  \n",
       "0 2019-05-03 11:03:52  \n",
       "1 2019-05-03 11:40:20  \n",
       "2 2019-05-03 12:09:40  \n",
       "3 2019-05-03 12:41:24  \n",
       "4 2019-05-03 13:12:56  "
      ]
     },
     "execution_count": 23,
     "metadata": {},
     "output_type": "execute_result"
    }
   ],
   "source": [
    "data_bulk_time.head()"
   ]
  },
  {
   "cell_type": "code",
   "execution_count": 24,
   "metadata": {},
   "outputs": [],
   "source": [
    "data_bulk_time.columns = ['_'.join(col.split()) for col in data_bulk_time.columns]"
   ]
  },
  {
   "cell_type": "code",
   "execution_count": 25,
   "metadata": {},
   "outputs": [
    {
     "name": "stdout",
     "output_type": "stream",
     "text": [
      "<class 'pandas.core.frame.DataFrame'>\n",
      "RangeIndex: 3129 entries, 0 to 3128\n",
      "Data columns (total 16 columns):\n",
      " #   Column   Non-Null Count  Dtype         \n",
      "---  ------   --------------  -----         \n",
      " 0   key      3129 non-null   int64         \n",
      " 1   Bulk_1   252 non-null    datetime64[ns]\n",
      " 2   Bulk_2   22 non-null     datetime64[ns]\n",
      " 3   Bulk_3   1298 non-null   datetime64[ns]\n",
      " 4   Bulk_4   1014 non-null   datetime64[ns]\n",
      " 5   Bulk_5   77 non-null     datetime64[ns]\n",
      " 6   Bulk_6   576 non-null    datetime64[ns]\n",
      " 7   Bulk_7   25 non-null     datetime64[ns]\n",
      " 8   Bulk_8   1 non-null      datetime64[ns]\n",
      " 9   Bulk_9   19 non-null     datetime64[ns]\n",
      " 10  Bulk_10  176 non-null    datetime64[ns]\n",
      " 11  Bulk_11  177 non-null    datetime64[ns]\n",
      " 12  Bulk_12  2450 non-null   datetime64[ns]\n",
      " 13  Bulk_13  18 non-null     datetime64[ns]\n",
      " 14  Bulk_14  2806 non-null   datetime64[ns]\n",
      " 15  Bulk_15  2248 non-null   datetime64[ns]\n",
      "dtypes: datetime64[ns](15), int64(1)\n",
      "memory usage: 391.2 KB\n"
     ]
    }
   ],
   "source": [
    "data_bulk_time.info()"
   ]
  },
  {
   "cell_type": "markdown",
   "metadata": {},
   "source": [
    "**Вывод:** аномальных данных не обнаружено, пропуски в данных можно трактовать, как отсутствие подачи соответствующих сыпучих материалов, заполнять временные пропуски не нужно"
   ]
  },
  {
   "cell_type": "markdown",
   "metadata": {},
   "source": [
    "#### Исследование данных о подаче газа"
   ]
  },
  {
   "cell_type": "code",
   "execution_count": 26,
   "metadata": {},
   "outputs": [
    {
     "data": {
      "text/html": [
       "<div>\n",
       "<style scoped>\n",
       "    .dataframe tbody tr th:only-of-type {\n",
       "        vertical-align: middle;\n",
       "    }\n",
       "\n",
       "    .dataframe tbody tr th {\n",
       "        vertical-align: top;\n",
       "    }\n",
       "\n",
       "    .dataframe thead th {\n",
       "        text-align: right;\n",
       "    }\n",
       "</style>\n",
       "<table border=\"1\" class=\"dataframe\">\n",
       "  <thead>\n",
       "    <tr style=\"text-align: right;\">\n",
       "      <th></th>\n",
       "      <th>key</th>\n",
       "      <th>Газ 1</th>\n",
       "    </tr>\n",
       "  </thead>\n",
       "  <tbody>\n",
       "    <tr>\n",
       "      <th>0</th>\n",
       "      <td>1</td>\n",
       "      <td>29.749986</td>\n",
       "    </tr>\n",
       "    <tr>\n",
       "      <th>1</th>\n",
       "      <td>2</td>\n",
       "      <td>12.555561</td>\n",
       "    </tr>\n",
       "    <tr>\n",
       "      <th>2</th>\n",
       "      <td>3</td>\n",
       "      <td>28.554793</td>\n",
       "    </tr>\n",
       "    <tr>\n",
       "      <th>3</th>\n",
       "      <td>4</td>\n",
       "      <td>18.841219</td>\n",
       "    </tr>\n",
       "    <tr>\n",
       "      <th>4</th>\n",
       "      <td>5</td>\n",
       "      <td>5.413692</td>\n",
       "    </tr>\n",
       "  </tbody>\n",
       "</table>\n",
       "</div>"
      ],
      "text/plain": [
       "   key      Газ 1\n",
       "0    1  29.749986\n",
       "1    2  12.555561\n",
       "2    3  28.554793\n",
       "3    4  18.841219\n",
       "4    5   5.413692"
      ]
     },
     "execution_count": 26,
     "metadata": {},
     "output_type": "execute_result"
    }
   ],
   "source": [
    "data_gas.head()"
   ]
  },
  {
   "cell_type": "code",
   "execution_count": 27,
   "metadata": {},
   "outputs": [],
   "source": [
    "data_gas.columns = ['_'.join(col.split()) for col in data_gas.columns]"
   ]
  },
  {
   "cell_type": "code",
   "execution_count": 28,
   "metadata": {},
   "outputs": [
    {
     "name": "stdout",
     "output_type": "stream",
     "text": [
      "<class 'pandas.core.frame.DataFrame'>\n",
      "RangeIndex: 3239 entries, 0 to 3238\n",
      "Data columns (total 2 columns):\n",
      " #   Column  Non-Null Count  Dtype  \n",
      "---  ------  --------------  -----  \n",
      " 0   key     3239 non-null   int64  \n",
      " 1   Газ_1   3239 non-null   float64\n",
      "dtypes: float64(1), int64(1)\n",
      "memory usage: 50.7 KB\n"
     ]
    }
   ],
   "source": [
    "data_gas.info()"
   ]
  },
  {
   "cell_type": "markdown",
   "metadata": {},
   "source": [
    "##### Графическое представление данных о подаче газа"
   ]
  },
  {
   "cell_type": "code",
   "execution_count": 29,
   "metadata": {},
   "outputs": [
    {
     "data": {
      "image/png": "[encoded data removed]",
      "text/plain": [
       "<Figure size 432x288 with 2 Axes>"
      ]
     },
     "metadata": {
      "needs_background": "light"
     },
     "output_type": "display_data"
    }
   ],
   "source": [
    "data_plotter(data=data_gas, column_name='Газ_1', x_label='Ед. объёма газа')"
   ]
  },
  {
   "cell_type": "markdown",
   "metadata": {},
   "source": [
    "**Вывод:** аномальных данных не обнаружено"
   ]
  },
  {
   "cell_type": "markdown",
   "metadata": {},
   "source": [
    "#### Исследование данных о проволочных материалах (объём)"
   ]
  },
  {
   "cell_type": "code",
   "execution_count": 30,
   "metadata": {},
   "outputs": [
    {
     "data": {
      "text/html": [
       "<div>\n",
       "<style scoped>\n",
       "    .dataframe tbody tr th:only-of-type {\n",
       "        vertical-align: middle;\n",
       "    }\n",
       "\n",
       "    .dataframe tbody tr th {\n",
       "        vertical-align: top;\n",
       "    }\n",
       "\n",
       "    .dataframe thead th {\n",
       "        text-align: right;\n",
       "    }\n",
       "</style>\n",
       "<table border=\"1\" class=\"dataframe\">\n",
       "  <thead>\n",
       "    <tr style=\"text-align: right;\">\n",
       "      <th></th>\n",
       "      <th>key</th>\n",
       "      <th>Wire 1</th>\n",
       "      <th>Wire 2</th>\n",
       "      <th>Wire 3</th>\n",
       "      <th>Wire 4</th>\n",
       "      <th>Wire 5</th>\n",
       "      <th>Wire 6</th>\n",
       "      <th>Wire 7</th>\n",
       "      <th>Wire 8</th>\n",
       "      <th>Wire 9</th>\n",
       "    </tr>\n",
       "  </thead>\n",
       "  <tbody>\n",
       "    <tr>\n",
       "      <th>0</th>\n",
       "      <td>1</td>\n",
       "      <td>60.059998</td>\n",
       "      <td>NaN</td>\n",
       "      <td>NaN</td>\n",
       "      <td>NaN</td>\n",
       "      <td>NaN</td>\n",
       "      <td>NaN</td>\n",
       "      <td>NaN</td>\n",
       "      <td>NaN</td>\n",
       "      <td>NaN</td>\n",
       "    </tr>\n",
       "    <tr>\n",
       "      <th>1</th>\n",
       "      <td>2</td>\n",
       "      <td>96.052315</td>\n",
       "      <td>NaN</td>\n",
       "      <td>NaN</td>\n",
       "      <td>NaN</td>\n",
       "      <td>NaN</td>\n",
       "      <td>NaN</td>\n",
       "      <td>NaN</td>\n",
       "      <td>NaN</td>\n",
       "      <td>NaN</td>\n",
       "    </tr>\n",
       "    <tr>\n",
       "      <th>2</th>\n",
       "      <td>3</td>\n",
       "      <td>91.160157</td>\n",
       "      <td>NaN</td>\n",
       "      <td>NaN</td>\n",
       "      <td>NaN</td>\n",
       "      <td>NaN</td>\n",
       "      <td>NaN</td>\n",
       "      <td>NaN</td>\n",
       "      <td>NaN</td>\n",
       "      <td>NaN</td>\n",
       "    </tr>\n",
       "    <tr>\n",
       "      <th>3</th>\n",
       "      <td>4</td>\n",
       "      <td>89.063515</td>\n",
       "      <td>NaN</td>\n",
       "      <td>NaN</td>\n",
       "      <td>NaN</td>\n",
       "      <td>NaN</td>\n",
       "      <td>NaN</td>\n",
       "      <td>NaN</td>\n",
       "      <td>NaN</td>\n",
       "      <td>NaN</td>\n",
       "    </tr>\n",
       "    <tr>\n",
       "      <th>4</th>\n",
       "      <td>5</td>\n",
       "      <td>89.238236</td>\n",
       "      <td>9.11456</td>\n",
       "      <td>NaN</td>\n",
       "      <td>NaN</td>\n",
       "      <td>NaN</td>\n",
       "      <td>NaN</td>\n",
       "      <td>NaN</td>\n",
       "      <td>NaN</td>\n",
       "      <td>NaN</td>\n",
       "    </tr>\n",
       "  </tbody>\n",
       "</table>\n",
       "</div>"
      ],
      "text/plain": [
       "   key     Wire 1   Wire 2  Wire 3  Wire 4  Wire 5  Wire 6  Wire 7  Wire 8  \\\n",
       "0    1  60.059998      NaN     NaN     NaN     NaN     NaN     NaN     NaN   \n",
       "1    2  96.052315      NaN     NaN     NaN     NaN     NaN     NaN     NaN   \n",
       "2    3  91.160157      NaN     NaN     NaN     NaN     NaN     NaN     NaN   \n",
       "3    4  89.063515      NaN     NaN     NaN     NaN     NaN     NaN     NaN   \n",
       "4    5  89.238236  9.11456     NaN     NaN     NaN     NaN     NaN     NaN   \n",
       "\n",
       "   Wire 9  \n",
       "0     NaN  \n",
       "1     NaN  \n",
       "2     NaN  \n",
       "3     NaN  \n",
       "4     NaN  "
      ]
     },
     "execution_count": 30,
     "metadata": {},
     "output_type": "execute_result"
    }
   ],
   "source": [
    "data_wire.head(5)"
   ]
  },
  {
   "cell_type": "code",
   "execution_count": 31,
   "metadata": {},
   "outputs": [],
   "source": [
    "data_wire.columns = ['_'.join(col.split()) for col in data_wire.columns]"
   ]
  },
  {
   "cell_type": "code",
   "execution_count": 32,
   "metadata": {},
   "outputs": [
    {
     "name": "stdout",
     "output_type": "stream",
     "text": [
      "<class 'pandas.core.frame.DataFrame'>\n",
      "RangeIndex: 3081 entries, 0 to 3080\n",
      "Data columns (total 10 columns):\n",
      " #   Column  Non-Null Count  Dtype  \n",
      "---  ------  --------------  -----  \n",
      " 0   key     3081 non-null   int64  \n",
      " 1   Wire_1  3055 non-null   float64\n",
      " 2   Wire_2  1079 non-null   float64\n",
      " 3   Wire_3  63 non-null     float64\n",
      " 4   Wire_4  14 non-null     float64\n",
      " 5   Wire_5  1 non-null      float64\n",
      " 6   Wire_6  73 non-null     float64\n",
      " 7   Wire_7  11 non-null     float64\n",
      " 8   Wire_8  19 non-null     float64\n",
      " 9   Wire_9  29 non-null     float64\n",
      "dtypes: float64(9), int64(1)\n",
      "memory usage: 240.8 KB\n"
     ]
    }
   ],
   "source": [
    "data_wire.info()"
   ]
  },
  {
   "cell_type": "markdown",
   "metadata": {},
   "source": [
    "##### Графическое представление данных о проволочных материалах"
   ]
  },
  {
   "cell_type": "code",
   "execution_count": 33,
   "metadata": {},
   "outputs": [
    {
     "data": {
      "image/png": "[encoded data removed]",
      "text/plain": [
       "<Figure size 720x720 with 9 Axes>"
      ]
     },
     "metadata": {
      "needs_background": "light"
     },
     "output_type": "display_data"
    }
   ],
   "source": [
    "data_plotter_2(data=data_wire, shape=(3, 3), figsize=(10, 10))"
   ]
  },
  {
   "cell_type": "markdown",
   "metadata": {},
   "source": [
    "**Вывод:** аномальных данных не обнаружено"
   ]
  },
  {
   "cell_type": "markdown",
   "metadata": {},
   "source": [
    "##### Замена пропусков в данных о проволочных материалах\n",
    "Пропуски в данных можно расценивать как отсутствие подачи соответствующих проволочных материалов, поэтому правомочно заменить пропуски нулями"
   ]
  },
  {
   "cell_type": "code",
   "execution_count": 34,
   "metadata": {},
   "outputs": [],
   "source": [
    "data_wire = data_wire.fillna(0)"
   ]
  },
  {
   "cell_type": "markdown",
   "metadata": {},
   "source": [
    "#### Исследование данных о проволочных материалах (время)"
   ]
  },
  {
   "cell_type": "code",
   "execution_count": 35,
   "metadata": {},
   "outputs": [
    {
     "data": {
      "text/html": [
       "<div>\n",
       "<style scoped>\n",
       "    .dataframe tbody tr th:only-of-type {\n",
       "        vertical-align: middle;\n",
       "    }\n",
       "\n",
       "    .dataframe tbody tr th {\n",
       "        vertical-align: top;\n",
       "    }\n",
       "\n",
       "    .dataframe thead th {\n",
       "        text-align: right;\n",
       "    }\n",
       "</style>\n",
       "<table border=\"1\" class=\"dataframe\">\n",
       "  <thead>\n",
       "    <tr style=\"text-align: right;\">\n",
       "      <th></th>\n",
       "      <th>key</th>\n",
       "      <th>Wire 1</th>\n",
       "      <th>Wire 2</th>\n",
       "      <th>Wire 3</th>\n",
       "      <th>Wire 4</th>\n",
       "      <th>Wire 5</th>\n",
       "      <th>Wire 6</th>\n",
       "      <th>Wire 7</th>\n",
       "      <th>Wire 8</th>\n",
       "      <th>Wire 9</th>\n",
       "    </tr>\n",
       "  </thead>\n",
       "  <tbody>\n",
       "    <tr>\n",
       "      <th>0</th>\n",
       "      <td>1</td>\n",
       "      <td>2019-05-03 11:11:41</td>\n",
       "      <td>NaT</td>\n",
       "      <td>NaT</td>\n",
       "      <td>NaT</td>\n",
       "      <td>NaT</td>\n",
       "      <td>NaT</td>\n",
       "      <td>NaT</td>\n",
       "      <td>NaT</td>\n",
       "      <td>NaT</td>\n",
       "    </tr>\n",
       "    <tr>\n",
       "      <th>1</th>\n",
       "      <td>2</td>\n",
       "      <td>2019-05-03 11:46:10</td>\n",
       "      <td>NaT</td>\n",
       "      <td>NaT</td>\n",
       "      <td>NaT</td>\n",
       "      <td>NaT</td>\n",
       "      <td>NaT</td>\n",
       "      <td>NaT</td>\n",
       "      <td>NaT</td>\n",
       "      <td>NaT</td>\n",
       "    </tr>\n",
       "    <tr>\n",
       "      <th>2</th>\n",
       "      <td>3</td>\n",
       "      <td>2019-05-03 12:13:47</td>\n",
       "      <td>NaT</td>\n",
       "      <td>NaT</td>\n",
       "      <td>NaT</td>\n",
       "      <td>NaT</td>\n",
       "      <td>NaT</td>\n",
       "      <td>NaT</td>\n",
       "      <td>NaT</td>\n",
       "      <td>NaT</td>\n",
       "    </tr>\n",
       "    <tr>\n",
       "      <th>3</th>\n",
       "      <td>4</td>\n",
       "      <td>2019-05-03 12:48:05</td>\n",
       "      <td>NaT</td>\n",
       "      <td>NaT</td>\n",
       "      <td>NaT</td>\n",
       "      <td>NaT</td>\n",
       "      <td>NaT</td>\n",
       "      <td>NaT</td>\n",
       "      <td>NaT</td>\n",
       "      <td>NaT</td>\n",
       "    </tr>\n",
       "    <tr>\n",
       "      <th>4</th>\n",
       "      <td>5</td>\n",
       "      <td>2019-05-03 13:18:15</td>\n",
       "      <td>2019-05-03 13:32:06</td>\n",
       "      <td>NaT</td>\n",
       "      <td>NaT</td>\n",
       "      <td>NaT</td>\n",
       "      <td>NaT</td>\n",
       "      <td>NaT</td>\n",
       "      <td>NaT</td>\n",
       "      <td>NaT</td>\n",
       "    </tr>\n",
       "  </tbody>\n",
       "</table>\n",
       "</div>"
      ],
      "text/plain": [
       "   key              Wire 1              Wire 2 Wire 3 Wire 4 Wire 5 Wire 6  \\\n",
       "0    1 2019-05-03 11:11:41                 NaT    NaT    NaT    NaT    NaT   \n",
       "1    2 2019-05-03 11:46:10                 NaT    NaT    NaT    NaT    NaT   \n",
       "2    3 2019-05-03 12:13:47                 NaT    NaT    NaT    NaT    NaT   \n",
       "3    4 2019-05-03 12:48:05                 NaT    NaT    NaT    NaT    NaT   \n",
       "4    5 2019-05-03 13:18:15 2019-05-03 13:32:06    NaT    NaT    NaT    NaT   \n",
       "\n",
       "  Wire 7 Wire 8 Wire 9  \n",
       "0    NaT    NaT    NaT  \n",
       "1    NaT    NaT    NaT  \n",
       "2    NaT    NaT    NaT  \n",
       "3    NaT    NaT    NaT  \n",
       "4    NaT    NaT    NaT  "
      ]
     },
     "execution_count": 35,
     "metadata": {},
     "output_type": "execute_result"
    }
   ],
   "source": [
    "data_wire_time.head()"
   ]
  },
  {
   "cell_type": "code",
   "execution_count": 36,
   "metadata": {},
   "outputs": [],
   "source": [
    "data_wire_time.columns = ['_'.join(col.split()) for col in data_wire_time.columns]"
   ]
  },
  {
   "cell_type": "code",
   "execution_count": 37,
   "metadata": {},
   "outputs": [
    {
     "name": "stdout",
     "output_type": "stream",
     "text": [
      "<class 'pandas.core.frame.DataFrame'>\n",
      "RangeIndex: 3081 entries, 0 to 3080\n",
      "Data columns (total 10 columns):\n",
      " #   Column  Non-Null Count  Dtype         \n",
      "---  ------  --------------  -----         \n",
      " 0   key     3081 non-null   int64         \n",
      " 1   Wire_1  3055 non-null   datetime64[ns]\n",
      " 2   Wire_2  1079 non-null   datetime64[ns]\n",
      " 3   Wire_3  63 non-null     datetime64[ns]\n",
      " 4   Wire_4  14 non-null     datetime64[ns]\n",
      " 5   Wire_5  1 non-null      datetime64[ns]\n",
      " 6   Wire_6  73 non-null     datetime64[ns]\n",
      " 7   Wire_7  11 non-null     datetime64[ns]\n",
      " 8   Wire_8  19 non-null     datetime64[ns]\n",
      " 9   Wire_9  29 non-null     datetime64[ns]\n",
      "dtypes: datetime64[ns](9), int64(1)\n",
      "memory usage: 240.8 KB\n"
     ]
    }
   ],
   "source": [
    "data_wire_time.info()"
   ]
  },
  {
   "cell_type": "markdown",
   "metadata": {},
   "source": [
    "**Вывод:** аномальных данных не обнаружено"
   ]
  },
  {
   "cell_type": "markdown",
   "metadata": {},
   "source": [
    "#### Исследование данных о замерах температуры"
   ]
  },
  {
   "cell_type": "code",
   "execution_count": 38,
   "metadata": {},
   "outputs": [
    {
     "data": {
      "text/html": [
       "<div>\n",
       "<style scoped>\n",
       "    .dataframe tbody tr th:only-of-type {\n",
       "        vertical-align: middle;\n",
       "    }\n",
       "\n",
       "    .dataframe tbody tr th {\n",
       "        vertical-align: top;\n",
       "    }\n",
       "\n",
       "    .dataframe thead th {\n",
       "        text-align: right;\n",
       "    }\n",
       "</style>\n",
       "<table border=\"1\" class=\"dataframe\">\n",
       "  <thead>\n",
       "    <tr style=\"text-align: right;\">\n",
       "      <th></th>\n",
       "      <th>key</th>\n",
       "      <th>Время замера</th>\n",
       "      <th>Температура</th>\n",
       "    </tr>\n",
       "  </thead>\n",
       "  <tbody>\n",
       "    <tr>\n",
       "      <th>0</th>\n",
       "      <td>1</td>\n",
       "      <td>2019-05-03 11:16:18</td>\n",
       "      <td>1571.0</td>\n",
       "    </tr>\n",
       "    <tr>\n",
       "      <th>1</th>\n",
       "      <td>1</td>\n",
       "      <td>2019-05-03 11:25:53</td>\n",
       "      <td>1604.0</td>\n",
       "    </tr>\n",
       "    <tr>\n",
       "      <th>2</th>\n",
       "      <td>1</td>\n",
       "      <td>2019-05-03 11:29:11</td>\n",
       "      <td>1618.0</td>\n",
       "    </tr>\n",
       "    <tr>\n",
       "      <th>3</th>\n",
       "      <td>1</td>\n",
       "      <td>2019-05-03 11:30:01</td>\n",
       "      <td>1601.0</td>\n",
       "    </tr>\n",
       "    <tr>\n",
       "      <th>4</th>\n",
       "      <td>1</td>\n",
       "      <td>2019-05-03 11:30:39</td>\n",
       "      <td>1613.0</td>\n",
       "    </tr>\n",
       "  </tbody>\n",
       "</table>\n",
       "</div>"
      ],
      "text/plain": [
       "   key        Время замера  Температура\n",
       "0    1 2019-05-03 11:16:18       1571.0\n",
       "1    1 2019-05-03 11:25:53       1604.0\n",
       "2    1 2019-05-03 11:29:11       1618.0\n",
       "3    1 2019-05-03 11:30:01       1601.0\n",
       "4    1 2019-05-03 11:30:39       1613.0"
      ]
     },
     "execution_count": 38,
     "metadata": {},
     "output_type": "execute_result"
    }
   ],
   "source": [
    "data_temp.head()"
   ]
  },
  {
   "cell_type": "code",
   "execution_count": 39,
   "metadata": {},
   "outputs": [
    {
     "name": "stdout",
     "output_type": "stream",
     "text": [
      "<class 'pandas.core.frame.DataFrame'>\n",
      "RangeIndex: 15907 entries, 0 to 15906\n",
      "Data columns (total 3 columns):\n",
      " #   Column        Non-Null Count  Dtype         \n",
      "---  ------        --------------  -----         \n",
      " 0   key           15907 non-null  int64         \n",
      " 1   Время замера  15907 non-null  datetime64[ns]\n",
      " 2   Температура   13006 non-null  float64       \n",
      "dtypes: datetime64[ns](1), float64(1), int64(1)\n",
      "memory usage: 372.9 KB\n"
     ]
    }
   ],
   "source": [
    "data_temp.info()"
   ]
  },
  {
   "cell_type": "markdown",
   "metadata": {},
   "source": [
    "##### Графическое представление данных о замеренной температуре"
   ]
  },
  {
   "cell_type": "code",
   "execution_count": 40,
   "metadata": {},
   "outputs": [
    {
     "data": {
      "image/png": "[encoded data removed]",
      "text/plain": [
       "<Figure size 432x288 with 2 Axes>"
      ]
     },
     "metadata": {
      "needs_background": "light"
     },
     "output_type": "display_data"
    }
   ],
   "source": [
    "data_plotter(data=data_temp, column_name='Температура', x_label='Ед. измерения температуры')"
   ]
  },
  {
   "cell_type": "markdown",
   "metadata": {},
   "source": [
    "**Вывод:** обнаружены аномалии – предполачается, что сталь в ковше находится в расплавленном состоянии, при этом диапазон температуры плавления различных марок стали составляет 1350-1530 градусов по Цельсию, а стало быть, измеренные значения являются следствием сбоя датчика температуры"
   ]
  },
  {
   "cell_type": "code",
   "execution_count": 41,
   "metadata": {},
   "outputs": [
    {
     "data": {
      "text/html": [
       "<div>\n",
       "<style scoped>\n",
       "    .dataframe tbody tr th:only-of-type {\n",
       "        vertical-align: middle;\n",
       "    }\n",
       "\n",
       "    .dataframe tbody tr th {\n",
       "        vertical-align: top;\n",
       "    }\n",
       "\n",
       "    .dataframe thead th {\n",
       "        text-align: right;\n",
       "    }\n",
       "</style>\n",
       "<table border=\"1\" class=\"dataframe\">\n",
       "  <thead>\n",
       "    <tr style=\"text-align: right;\">\n",
       "      <th></th>\n",
       "      <th>key</th>\n",
       "      <th>Время замера</th>\n",
       "      <th>Температура</th>\n",
       "    </tr>\n",
       "  </thead>\n",
       "  <tbody>\n",
       "    <tr>\n",
       "      <th>4350</th>\n",
       "      <td>867</td>\n",
       "      <td>2019-06-04 14:21:00</td>\n",
       "      <td>1191.0</td>\n",
       "    </tr>\n",
       "    <tr>\n",
       "      <th>5978</th>\n",
       "      <td>1214</td>\n",
       "      <td>2019-06-16 05:32:00</td>\n",
       "      <td>1208.0</td>\n",
       "    </tr>\n",
       "    <tr>\n",
       "      <th>7958</th>\n",
       "      <td>1619</td>\n",
       "      <td>2019-06-30 11:03:54</td>\n",
       "      <td>1218.0</td>\n",
       "    </tr>\n",
       "    <tr>\n",
       "      <th>8913</th>\n",
       "      <td>1818</td>\n",
       "      <td>2019-07-07 00:30:49</td>\n",
       "      <td>1383.0</td>\n",
       "    </tr>\n",
       "    <tr>\n",
       "      <th>8914</th>\n",
       "      <td>1818</td>\n",
       "      <td>2019-07-07 00:31:40</td>\n",
       "      <td>1383.0</td>\n",
       "    </tr>\n",
       "    <tr>\n",
       "      <th>10127</th>\n",
       "      <td>2052</td>\n",
       "      <td>2019-07-21 14:51:40</td>\n",
       "      <td>1227.0</td>\n",
       "    </tr>\n",
       "    <tr>\n",
       "      <th>12564</th>\n",
       "      <td>2561</td>\n",
       "      <td>2019-08-08 07:34:15</td>\n",
       "      <td>1204.0</td>\n",
       "    </tr>\n",
       "  </tbody>\n",
       "</table>\n",
       "</div>"
      ],
      "text/plain": [
       "        key        Время замера  Температура\n",
       "4350    867 2019-06-04 14:21:00       1191.0\n",
       "5978   1214 2019-06-16 05:32:00       1208.0\n",
       "7958   1619 2019-06-30 11:03:54       1218.0\n",
       "8913   1818 2019-07-07 00:30:49       1383.0\n",
       "8914   1818 2019-07-07 00:31:40       1383.0\n",
       "10127  2052 2019-07-21 14:51:40       1227.0\n",
       "12564  2561 2019-08-08 07:34:15       1204.0"
      ]
     },
     "execution_count": 41,
     "metadata": {},
     "output_type": "execute_result"
    }
   ],
   "source": [
    "# Отобразим данные с аномально низкой температурой\n",
    "data_anomaly_temp = data_temp.loc[data_temp['Температура'] < 1500]\n",
    "data_anomaly_temp"
   ]
  },
  {
   "cell_type": "code",
   "execution_count": 42,
   "metadata": {},
   "outputs": [
    {
     "data": {
      "text/html": [
       "<div>\n",
       "<style scoped>\n",
       "    .dataframe tbody tr th:only-of-type {\n",
       "        vertical-align: middle;\n",
       "    }\n",
       "\n",
       "    .dataframe tbody tr th {\n",
       "        vertical-align: top;\n",
       "    }\n",
       "\n",
       "    .dataframe thead th {\n",
       "        text-align: right;\n",
       "    }\n",
       "</style>\n",
       "<table border=\"1\" class=\"dataframe\">\n",
       "  <thead>\n",
       "    <tr style=\"text-align: right;\">\n",
       "      <th></th>\n",
       "      <th>Время первого замера</th>\n",
       "      <th>Время последнего замера</th>\n",
       "    </tr>\n",
       "    <tr>\n",
       "      <th>key</th>\n",
       "      <th></th>\n",
       "      <th></th>\n",
       "    </tr>\n",
       "  </thead>\n",
       "  <tbody>\n",
       "    <tr>\n",
       "      <th>867</th>\n",
       "      <td>2019-06-04 14:21:00</td>\n",
       "      <td>2019-06-04 14:57:17</td>\n",
       "    </tr>\n",
       "    <tr>\n",
       "      <th>1214</th>\n",
       "      <td>2019-06-16 05:32:00</td>\n",
       "      <td>2019-06-16 06:14:45</td>\n",
       "    </tr>\n",
       "    <tr>\n",
       "      <th>1619</th>\n",
       "      <td>2019-06-30 11:03:54</td>\n",
       "      <td>2019-06-30 11:21:54</td>\n",
       "    </tr>\n",
       "    <tr>\n",
       "      <th>1818</th>\n",
       "      <td>2019-07-07 00:00:14</td>\n",
       "      <td>2019-07-07 00:38:50</td>\n",
       "    </tr>\n",
       "    <tr>\n",
       "      <th>1818</th>\n",
       "      <td>2019-07-07 00:00:14</td>\n",
       "      <td>2019-07-07 00:38:50</td>\n",
       "    </tr>\n",
       "    <tr>\n",
       "      <th>2052</th>\n",
       "      <td>2019-07-21 14:51:40</td>\n",
       "      <td>2019-07-21 15:24:06</td>\n",
       "    </tr>\n",
       "    <tr>\n",
       "      <th>2561</th>\n",
       "      <td>2019-08-08 07:34:15</td>\n",
       "      <td>2019-08-08 07:56:57</td>\n",
       "    </tr>\n",
       "  </tbody>\n",
       "</table>\n",
       "</div>"
      ],
      "text/plain": [
       "     Время первого замера Время последнего замера\n",
       "key                                              \n",
       "867   2019-06-04 14:21:00     2019-06-04 14:57:17\n",
       "1214  2019-06-16 05:32:00     2019-06-16 06:14:45\n",
       "1619  2019-06-30 11:03:54     2019-06-30 11:21:54\n",
       "1818  2019-07-07 00:00:14     2019-07-07 00:38:50\n",
       "1818  2019-07-07 00:00:14     2019-07-07 00:38:50\n",
       "2052  2019-07-21 14:51:40     2019-07-21 15:24:06\n",
       "2561  2019-08-08 07:34:15     2019-08-08 07:56:57"
      ]
     },
     "execution_count": 42,
     "metadata": {},
     "output_type": "execute_result"
    }
   ],
   "source": [
    "# Отобразим время первого и последнего замеров температуры для аномальных партий\n",
    "temp = data_temp.pivot_table(index='key', values=['Время замера'], aggfunc=['min', 'max'])\n",
    "temp.columns = ['Время первого замера', 'Время последнего замера']\n",
    "temp.loc[data_anomaly_temp.key]"
   ]
  },
  {
   "cell_type": "markdown",
   "metadata": {},
   "source": [
    "**Вывод:** почти во всех случаях аномальная температура выдаётся датчиком во время первого замера, это можно списать на сбой работы датчика и удалить данные из дальнейшего анализа"
   ]
  },
  {
   "cell_type": "code",
   "execution_count": 43,
   "metadata": {},
   "outputs": [],
   "source": [
    "# Удалим данные с аномально низкой температурой\n",
    "data_temp.loc[data_temp['Температура'] < 1500, 'Температура'] = -999"
   ]
  },
  {
   "cell_type": "code",
   "execution_count": 44,
   "metadata": {},
   "outputs": [],
   "source": [
    "data_temp = data_temp.query('`Температура` > 0').reset_index(drop=True)"
   ]
  },
  {
   "cell_type": "markdown",
   "metadata": {},
   "source": [
    "##### Графическое представление исправленных данных о замеренной температуре"
   ]
  },
  {
   "cell_type": "code",
   "execution_count": 45,
   "metadata": {},
   "outputs": [
    {
     "data": {
      "image/png": "[encoded data removed]",
      "text/plain": [
       "<Figure size 432x288 with 2 Axes>"
      ]
     },
     "metadata": {
      "needs_background": "light"
     },
     "output_type": "display_data"
    }
   ],
   "source": [
    "data_plotter(data=data_temp, column_name='Температура', x_label='Ед. измерения температуры')"
   ]
  },
  {
   "cell_type": "markdown",
   "metadata": {},
   "source": [
    "**Вывод:** аномальных данных не обнаружено"
   ]
  },
  {
   "cell_type": "markdown",
   "metadata": {},
   "source": [
    "##### Очистка данных от непригодоных для анализа партий"
   ]
  },
  {
   "cell_type": "code",
   "execution_count": 46,
   "metadata": {},
   "outputs": [
    {
     "data": {
      "text/html": [
       "<div>\n",
       "<style scoped>\n",
       "    .dataframe tbody tr th:only-of-type {\n",
       "        vertical-align: middle;\n",
       "    }\n",
       "\n",
       "    .dataframe tbody tr th {\n",
       "        vertical-align: top;\n",
       "    }\n",
       "\n",
       "    .dataframe thead th {\n",
       "        text-align: right;\n",
       "    }\n",
       "</style>\n",
       "<table border=\"1\" class=\"dataframe\">\n",
       "  <thead>\n",
       "    <tr style=\"text-align: right;\">\n",
       "      <th></th>\n",
       "      <th>Min temp</th>\n",
       "      <th>Max temp</th>\n",
       "      <th>Count</th>\n",
       "    </tr>\n",
       "    <tr>\n",
       "      <th>key</th>\n",
       "      <th></th>\n",
       "      <th></th>\n",
       "      <th></th>\n",
       "    </tr>\n",
       "  </thead>\n",
       "  <tbody>\n",
       "    <tr>\n",
       "      <th>195</th>\n",
       "      <td>1583.0</td>\n",
       "      <td>1583.0</td>\n",
       "      <td>1</td>\n",
       "    </tr>\n",
       "    <tr>\n",
       "      <th>279</th>\n",
       "      <td>1603.0</td>\n",
       "      <td>1603.0</td>\n",
       "      <td>1</td>\n",
       "    </tr>\n",
       "    <tr>\n",
       "      <th>632</th>\n",
       "      <td>1579.0</td>\n",
       "      <td>1579.0</td>\n",
       "      <td>3</td>\n",
       "    </tr>\n",
       "    <tr>\n",
       "      <th>2254</th>\n",
       "      <td>1592.0</td>\n",
       "      <td>1592.0</td>\n",
       "      <td>2</td>\n",
       "    </tr>\n",
       "    <tr>\n",
       "      <th>2312</th>\n",
       "      <td>1591.0</td>\n",
       "      <td>1591.0</td>\n",
       "      <td>2</td>\n",
       "    </tr>\n",
       "    <tr>\n",
       "      <th>...</th>\n",
       "      <td>...</td>\n",
       "      <td>...</td>\n",
       "      <td>...</td>\n",
       "    </tr>\n",
       "    <tr>\n",
       "      <th>3237</th>\n",
       "      <td>1569.0</td>\n",
       "      <td>1569.0</td>\n",
       "      <td>1</td>\n",
       "    </tr>\n",
       "    <tr>\n",
       "      <th>3238</th>\n",
       "      <td>1584.0</td>\n",
       "      <td>1584.0</td>\n",
       "      <td>1</td>\n",
       "    </tr>\n",
       "    <tr>\n",
       "      <th>3239</th>\n",
       "      <td>1598.0</td>\n",
       "      <td>1598.0</td>\n",
       "      <td>1</td>\n",
       "    </tr>\n",
       "    <tr>\n",
       "      <th>3240</th>\n",
       "      <td>1617.0</td>\n",
       "      <td>1617.0</td>\n",
       "      <td>1</td>\n",
       "    </tr>\n",
       "    <tr>\n",
       "      <th>3241</th>\n",
       "      <td>1586.0</td>\n",
       "      <td>1586.0</td>\n",
       "      <td>1</td>\n",
       "    </tr>\n",
       "  </tbody>\n",
       "</table>\n",
       "<p>743 rows × 3 columns</p>\n",
       "</div>"
      ],
      "text/plain": [
       "      Min temp  Max temp  Count\n",
       "key                            \n",
       "195     1583.0    1583.0      1\n",
       "279     1603.0    1603.0      1\n",
       "632     1579.0    1579.0      3\n",
       "2254    1592.0    1592.0      2\n",
       "2312    1591.0    1591.0      2\n",
       "...        ...       ...    ...\n",
       "3237    1569.0    1569.0      1\n",
       "3238    1584.0    1584.0      1\n",
       "3239    1598.0    1598.0      1\n",
       "3240    1617.0    1617.0      1\n",
       "3241    1586.0    1586.0      1\n",
       "\n",
       "[743 rows x 3 columns]"
      ]
     },
     "execution_count": 46,
     "metadata": {},
     "output_type": "execute_result"
    }
   ],
   "source": [
    "# Оценим количество партий с неменяющейся температурой\n",
    "temp_df = data_temp.pivot_table(index='key', values=['Температура'], aggfunc=['min', 'max', 'count'])\n",
    "temp_df.columns = ['Min temp', 'Max temp', 'Count']\n",
    "temp_df = temp_df.query('`Min temp` == `Max temp`') # .sort_values(by='Count')\n",
    "temp_df"
   ]
  },
  {
   "cell_type": "code",
   "execution_count": 47,
   "metadata": {},
   "outputs": [],
   "source": [
    "datas = ['data_arc', 'data_bulk', 'data_bulk_time', 'data_gas', 'data_temp', 'data_wire', 'data_wire']\n",
    "for data in datas:\n",
    "    cmd = \"{0} = {0}.loc[~{0}['key'].isin(temp_df.index)].reset_index(drop=True)\".format(data)\n",
    "    exec(cmd)  "
   ]
  },
  {
   "cell_type": "code",
   "execution_count": 48,
   "metadata": {},
   "outputs": [
    {
     "data": {
      "text/plain": [
       "0"
      ]
     },
     "execution_count": 48,
     "metadata": {},
     "output_type": "execute_result"
    }
   ],
   "source": [
    "# Оценка пропусков в данных\n",
    "data_temp['Температура'].isna().sum()"
   ]
  },
  {
   "cell_type": "markdown",
   "metadata": {},
   "source": [
    "**Вывод:** пропуски были удалены вместе с партиями, в которых температура на датчиках оставалась постоянной"
   ]
  },
  {
   "cell_type": "markdown",
   "metadata": {},
   "source": [
    "### 2 Подготовка данных для обучения моделей<a id=\"step2\"></a>"
   ]
  },
  {
   "cell_type": "markdown",
   "metadata": {},
   "source": [
    "**Добавление новых признаков**"
   ]
  },
  {
   "cell_type": "markdown",
   "metadata": {},
   "source": [
    "***Вычисление длительности нагрева в секундах***"
   ]
  },
  {
   "cell_type": "code",
   "execution_count": 49,
   "metadata": {},
   "outputs": [],
   "source": [
    "timedelta = data_arc['Конец нагрева дугой'] - data_arc['Начало нагрева дугой']\n",
    "seconds_list = [x.seconds for x in timedelta]\n",
    "\n",
    "data_arc['Время нагрева'] = pd.Series(seconds_list)"
   ]
  },
  {
   "cell_type": "markdown",
   "metadata": {},
   "source": [
    "***Вычисление отношения активной и реактивной мощностей***"
   ]
  },
  {
   "cell_type": "code",
   "execution_count": 50,
   "metadata": {},
   "outputs": [],
   "source": [
    "data_arc['Power ratio'] = data_arc['Активная мощность'] / data_arc['Реактивная мощность']"
   ]
  },
  {
   "cell_type": "code",
   "execution_count": 51,
   "metadata": {},
   "outputs": [
    {
     "data": {
      "text/html": [
       "<div>\n",
       "<style scoped>\n",
       "    .dataframe tbody tr th:only-of-type {\n",
       "        vertical-align: middle;\n",
       "    }\n",
       "\n",
       "    .dataframe tbody tr th {\n",
       "        vertical-align: top;\n",
       "    }\n",
       "\n",
       "    .dataframe thead th {\n",
       "        text-align: right;\n",
       "    }\n",
       "</style>\n",
       "<table border=\"1\" class=\"dataframe\">\n",
       "  <thead>\n",
       "    <tr style=\"text-align: right;\">\n",
       "      <th></th>\n",
       "      <th>key</th>\n",
       "      <th>Начало нагрева дугой</th>\n",
       "      <th>Конец нагрева дугой</th>\n",
       "      <th>Активная мощность</th>\n",
       "      <th>Реактивная мощность</th>\n",
       "      <th>Время нагрева</th>\n",
       "      <th>Power ratio</th>\n",
       "    </tr>\n",
       "  </thead>\n",
       "  <tbody>\n",
       "    <tr>\n",
       "      <th>0</th>\n",
       "      <td>1</td>\n",
       "      <td>2019-05-03 11:02:14</td>\n",
       "      <td>2019-05-03 11:06:02</td>\n",
       "      <td>0.976059</td>\n",
       "      <td>0.687084</td>\n",
       "      <td>228</td>\n",
       "      <td>1.420582</td>\n",
       "    </tr>\n",
       "    <tr>\n",
       "      <th>1</th>\n",
       "      <td>1</td>\n",
       "      <td>2019-05-03 11:07:28</td>\n",
       "      <td>2019-05-03 11:10:33</td>\n",
       "      <td>0.805607</td>\n",
       "      <td>0.520285</td>\n",
       "      <td>185</td>\n",
       "      <td>1.548395</td>\n",
       "    </tr>\n",
       "    <tr>\n",
       "      <th>2</th>\n",
       "      <td>1</td>\n",
       "      <td>2019-05-03 11:11:44</td>\n",
       "      <td>2019-05-03 11:14:36</td>\n",
       "      <td>0.744363</td>\n",
       "      <td>0.498805</td>\n",
       "      <td>172</td>\n",
       "      <td>1.492292</td>\n",
       "    </tr>\n",
       "    <tr>\n",
       "      <th>3</th>\n",
       "      <td>1</td>\n",
       "      <td>2019-05-03 11:18:14</td>\n",
       "      <td>2019-05-03 11:24:19</td>\n",
       "      <td>1.659363</td>\n",
       "      <td>1.062669</td>\n",
       "      <td>365</td>\n",
       "      <td>1.561504</td>\n",
       "    </tr>\n",
       "    <tr>\n",
       "      <th>4</th>\n",
       "      <td>1</td>\n",
       "      <td>2019-05-03 11:26:09</td>\n",
       "      <td>2019-05-03 11:28:37</td>\n",
       "      <td>0.692755</td>\n",
       "      <td>0.414397</td>\n",
       "      <td>148</td>\n",
       "      <td>1.671717</td>\n",
       "    </tr>\n",
       "  </tbody>\n",
       "</table>\n",
       "</div>"
      ],
      "text/plain": [
       "   key Начало нагрева дугой Конец нагрева дугой  Активная мощность  \\\n",
       "0    1  2019-05-03 11:02:14 2019-05-03 11:06:02           0.976059   \n",
       "1    1  2019-05-03 11:07:28 2019-05-03 11:10:33           0.805607   \n",
       "2    1  2019-05-03 11:11:44 2019-05-03 11:14:36           0.744363   \n",
       "3    1  2019-05-03 11:18:14 2019-05-03 11:24:19           1.659363   \n",
       "4    1  2019-05-03 11:26:09 2019-05-03 11:28:37           0.692755   \n",
       "\n",
       "   Реактивная мощность  Время нагрева  Power ratio  \n",
       "0             0.687084            228     1.420582  \n",
       "1             0.520285            185     1.548395  \n",
       "2             0.498805            172     1.492292  \n",
       "3             1.062669            365     1.561504  \n",
       "4             0.414397            148     1.671717  "
      ]
     },
     "execution_count": 51,
     "metadata": {},
     "output_type": "execute_result"
    }
   ],
   "source": [
    "data_arc.head()"
   ]
  },
  {
   "cell_type": "code",
   "execution_count": 52,
   "metadata": {},
   "outputs": [
    {
     "data": {
      "text/plain": [
       "2472"
      ]
     },
     "execution_count": 52,
     "metadata": {},
     "output_type": "execute_result"
    }
   ],
   "source": [
    "# Количество оставшихся партий\n",
    "data_temp.key.unique().size"
   ]
  },
  {
   "cell_type": "code",
   "execution_count": 53,
   "metadata": {},
   "outputs": [],
   "source": [
    "# Номера оставшихся партий\n",
    "batch_nums = data_temp.key.unique()"
   ]
  },
  {
   "cell_type": "markdown",
   "metadata": {},
   "source": [
    "#### Генерация признаков и целевых признаков для обучения и тестирования моделей ML  \n",
    "Для увеличения информативности обучающей выборки, датасет будет увеличен в длину следующим образом: в качестве наблюдений в рамках одной партии будут создаваться наблюдения между начальной температурой замера и каждой следующей промежуточной вплоть до финальной с описанием состояния стали о количестве нагревов стали дугой, о мощности и длительности нагрева (общее количество полученной энергии), о длительности времени, в течение которого сталь не нагревалась, о времени и длительности между замерами температуры, о среднем соотношении активной и реактивной мощностей, о количестве присыпок и проволок в промежутке между замерами температуры. Также вводится разметка `last` для указания наблюдения, включающего в себя информацию о состоянии стали между начальным и конечным замером температуры в партии"
   ]
  },
  {
   "cell_type": "code",
   "execution_count": 54,
   "metadata": {
    "scrolled": true
   },
   "outputs": [
    {
     "data": {
      "application/vnd.jupyter.widget-view+json": {
       "model_id": "b2da620ba695452f88e5f652b5df3c14",
       "version_major": 2,
       "version_minor": 0
      },
      "text/plain": [
       "HBox(children=(HTML(value=''), FloatProgress(value=0.0, max=2472.0), HTML(value='')))"
      ]
     },
     "metadata": {},
     "output_type": "display_data"
    },
    {
     "name": "stdout",
     "output_type": "stream",
     "text": [
      "\n"
     ]
    }
   ],
   "source": [
    "# batches - список обработанных партий\n",
    "batches = []\n",
    "for num in tqdm(batch_nums):\n",
    "    # batch - dataframe с информацией о партии стали\n",
    "    # Добавление информаци о температуре и времени замера\n",
    "    batch = data_temp.loc[data_temp.key == num]\n",
    "    batch.columns = ['key', 'init_time', 'init_temp']\n",
    "    # Добавление целевого признака (температуры) и времени замера\n",
    "    shifted_time = pd.DataFrame({'target_time': batch.loc[:, 'init_time'].shift(-1)})\n",
    "    shifted_temp = pd.DataFrame({'target_temp': batch.loc[:, 'init_temp'].shift(-1)})\n",
    "    batch = pd.concat([batch, shifted_time, shifted_temp], axis=1)\n",
    "    # Установка в качестве признака начальной температуры во всех наблюдениях внутри партии стали\n",
    "    batch.loc[:, 'init_time'] = batch.loc[batch.index[0], 'init_time']\n",
    "    batch.loc[:, 'init_temp'] = batch.loc[batch.index[0], 'init_temp']\n",
    "    batch = batch.iloc[:-1]\n",
    "    \n",
    "    # Выделение флагом True финальной температуры партии и флагом False всех остальных \n",
    "    mark = [False if i != batch.index[-1] else True for i in batch.index]\n",
    "    mark_df = pd.DataFrame({'last': mark}, index=batch.index)\n",
    "    batch = pd.concat([batch, mark_df], axis=1)\n",
    "    \n",
    "    # Добавление информации о нагреве дугой\n",
    "    energy_taken = [] # энергия, сообщённая партии стали\n",
    "    arc_batch = data_arc.loc[data_arc.key == num]\n",
    "    arcs = pd.DataFrame(\n",
    "        0,\n",
    "        columns=['total_time','total_heat_time', 'energy_taken', 'total_downtime', 'heat_count', 'mean_power_ratio'],\n",
    "        index=batch.index\n",
    "    )\n",
    "    \n",
    "    # Добавление информации о присыпках\n",
    "    bulk_batch = data_bulk.loc[data_bulk.key == num]\n",
    "    bulk_batch_time = data_bulk_time.loc[data_bulk_time.key == num]\n",
    "    bulks = pd.DataFrame(0, columns=data_bulk.columns[1:], index=batch.index)\n",
    "    if not bulk_batch.empty:\n",
    "        bulk_cols = {col: False for col in bulks.columns if bulk_batch.loc[bulk_batch.index[0], col] > 0}\n",
    "    else:\n",
    "        bulk_cols = {}\n",
    "    \n",
    "    # Добавление информации о проводах\n",
    "    wire_batch = data_wire.loc[data_wire.key == num]\n",
    "    wire_batch_time = data_wire_time.loc[data_wire_time.key == num]\n",
    "    wires = pd.DataFrame(0, columns=data_wire.columns[1:], index=batch.index)\n",
    "    if not wire_batch.empty:\n",
    "        wire_cols = {col: False for col in wires.columns if wire_batch.loc[wire_batch.index[0], col] > 0}\n",
    "    else:\n",
    "        wire_cols = {}\n",
    "    \n",
    "    # Расчет информации о нагреве партии стали дугой\n",
    "    t_measure_0 = batch.loc[batch.index[0], 'init_time'] # время первого замера температуры в партии стали\n",
    "    for i in batch.index:        \n",
    "        t_measure_1 = batch.loc[i, 'target_time'] # время текущего замера целевой температуры\n",
    "        dt = (t_measure_1 - t_measure_0).seconds # длительность интервала между измерениями \n",
    "                                                 # температуры внутри одного наблюдения в секундах\n",
    "        heat_time = [] # список длительности нагревов стали\n",
    "        power = [] # список активных мощностей во время данных нагревов стали\n",
    "        power_ratio = [] # список отношений активной мощности к реактивной во время нагревов\n",
    "        heat_count = 0 # количество нагревов\n",
    "        j = arc_batch.index[0]\n",
    "        while j <= arc_batch.index[-1]:\n",
    "            t_arc_0 = arc_batch.loc[j, 'Начало нагрева дугой'] # время начала нагрева\n",
    "            t_arc_1 = arc_batch.loc[j, 'Конец нагрева дугой'] # время окончания нагрева\n",
    "            # если интервал нагрева оказался внутри интервала замера температуры\n",
    "            if (t_measure_0 <= t_arc_0) and (t_arc_1  <= t_measure_1): \n",
    "                heat_time.append(arc_batch.loc[j, 'Время нагрева'])\n",
    "                power.append(arc_batch.loc[j, 'Активная мощность'])\n",
    "                power_ratio.append(arc_batch.loc[j, 'Power ratio'])\n",
    "                heat_count += 1\n",
    "            # если интервал нагрева своей левой границей оказался вне интервала замера температуры\n",
    "            elif (t_arc_0 <= t_measure_0) and (t_measure_0 < t_arc_1 < t_measure_1):\n",
    "                heat_time.append((t_arc_1 - t_measure_0).seconds)\n",
    "                power.append(arc_batch.loc[j, 'Активная мощность'])\n",
    "                power_ratio.append(arc_batch.loc[j, 'Power ratio'])\n",
    "                heat_count += 1\n",
    "            # если интервал нагрева своей правой границей оказался вне интервала замера температуры\n",
    "            elif (t_measure_0 < t_arc_0 < t_measure_1) and (t_measure_1 <= t_arc_1):\n",
    "                heat_time.append((t_measure_1 - t_arc_0).seconds)\n",
    "                power.append(arc_batch.loc[j, 'Активная мощность'])\n",
    "                power_ratio.append(arc_batch.loc[j, 'Power ratio'])\n",
    "                heat_count += 1\n",
    "            # если интервал нагрева оказался вне интервала замера температуры слева\n",
    "            elif t_arc_1 < t_measure_0:\n",
    "                heat_time.append(0)\n",
    "                power.append(0)\n",
    "            # если интервал нагрева оказался вне интервала замера температуры слева\n",
    "            elif t_measure_1 < t_arc_0:\n",
    "                break # нет смысла дальше перебирать интервалы нагрева\n",
    "            j += 1\n",
    "        # вычисление суммарного времени нагрева внутри одного наблюдения\n",
    "        total_heat_time = np.array(heat_time).sum() \n",
    "        # вычисление суммарной полученной сталью энергии внутри одного наблюдения\n",
    "        energy_taken = np.array(heat_time).dot(np.array(power)) \n",
    "        # вычисление суммарного времени остывания стали внутри одного наблюдения\n",
    "        total_downtime = dt - total_heat_time\n",
    "        # вычисление среднего отношения активной мощности к реактивной внутри одного наблюдения\n",
    "        if power_ratio:\n",
    "            mean_power_ratio = np.array(power_ratio).mean()\n",
    "        else:\n",
    "            mean_power_ratio = 0\n",
    "        arcs.loc[i, 'total_time'] = dt\n",
    "        arcs.loc[i, 'total_heat_time'] = total_heat_time\n",
    "        arcs.loc[i, 'energy_taken'] = energy_taken\n",
    "        arcs.loc[i, 'total_downtime'] = total_downtime\n",
    "        arcs.loc[i, 'heat_count'] = heat_count\n",
    "        arcs.loc[i, 'mean_power_ratio'] = mean_power_ratio\n",
    "        \n",
    "        # Расчет сыпучих материалов\n",
    "        for col in bulk_cols:\n",
    "            if bulk_batch_time[col].notna().tolist()[0] and not bulk_cols[col]:\n",
    "                bulk_time = bulk_batch_time.loc[bulk_batch_time.index[0], col]\n",
    "                if bulk_time < t_measure_1:\n",
    "                    bulks.loc[i:, col] = bulk_batch.loc[bulk_batch.index[0], col]\n",
    "                    bulk_cols[col] = True\n",
    "        \n",
    "        # Расчет проволок  \n",
    "        for col in wire_cols:\n",
    "            if wire_batch_time[col].notna().tolist()[0] and not wire_cols[col]:\n",
    "                wire_time = wire_batch_time.loc[wire_batch_time.index[0], col]\n",
    "                if wire_time < t_measure_1:\n",
    "                    wires.loc[i:, col] = wire_batch.loc[wire_batch.index[0], col]\n",
    "                    wire_cols[col] = True\n",
    "    \n",
    "    # добавление всей расчитанной информации\n",
    "    batch = pd.concat([batch, arcs, bulks, wires], axis=1)\n",
    "    batches.append(batch)\n",
    "    \n",
    "# объединение партий в единый датасет\n",
    "data_full = pd.concat(batches, axis=0)\n",
    "data_full = data_full.reset_index(drop=True)"
   ]
  },
  {
   "cell_type": "code",
   "execution_count": 55,
   "metadata": {},
   "outputs": [],
   "source": [
    "# преобразование типов\n",
    "for col in ['init_temp', 'target_temp', 'total_heat_time', 'total_downtime']:\n",
    "    cmd = \"data_full['{0}'] = data_full['{0}'].astype(int)\".format(col)\n",
    "    exec(cmd)"
   ]
  },
  {
   "cell_type": "code",
   "execution_count": 56,
   "metadata": {},
   "outputs": [
    {
     "data": {
      "text/html": [
       "<div>\n",
       "<style scoped>\n",
       "    .dataframe tbody tr th:only-of-type {\n",
       "        vertical-align: middle;\n",
       "    }\n",
       "\n",
       "    .dataframe tbody tr th {\n",
       "        vertical-align: top;\n",
       "    }\n",
       "\n",
       "    .dataframe thead th {\n",
       "        text-align: right;\n",
       "    }\n",
       "</style>\n",
       "<table border=\"1\" class=\"dataframe\">\n",
       "  <thead>\n",
       "    <tr style=\"text-align: right;\">\n",
       "      <th></th>\n",
       "      <th>key</th>\n",
       "      <th>init_time</th>\n",
       "      <th>init_temp</th>\n",
       "      <th>target_time</th>\n",
       "      <th>target_temp</th>\n",
       "      <th>last</th>\n",
       "      <th>total_time</th>\n",
       "      <th>total_heat_time</th>\n",
       "      <th>energy_taken</th>\n",
       "      <th>total_downtime</th>\n",
       "    </tr>\n",
       "  </thead>\n",
       "  <tbody>\n",
       "    <tr>\n",
       "      <th>0</th>\n",
       "      <td>1</td>\n",
       "      <td>2019-05-03 11:16:18</td>\n",
       "      <td>1571</td>\n",
       "      <td>2019-05-03 11:25:53</td>\n",
       "      <td>1604</td>\n",
       "      <td>False</td>\n",
       "      <td>575</td>\n",
       "      <td>365</td>\n",
       "      <td>605.667332</td>\n",
       "      <td>210</td>\n",
       "    </tr>\n",
       "    <tr>\n",
       "      <th>1</th>\n",
       "      <td>1</td>\n",
       "      <td>2019-05-03 11:16:18</td>\n",
       "      <td>1571</td>\n",
       "      <td>2019-05-03 11:29:11</td>\n",
       "      <td>1618</td>\n",
       "      <td>False</td>\n",
       "      <td>773</td>\n",
       "      <td>513</td>\n",
       "      <td>708.195035</td>\n",
       "      <td>260</td>\n",
       "    </tr>\n",
       "    <tr>\n",
       "      <th>2</th>\n",
       "      <td>1</td>\n",
       "      <td>2019-05-03 11:16:18</td>\n",
       "      <td>1571</td>\n",
       "      <td>2019-05-03 11:30:01</td>\n",
       "      <td>1601</td>\n",
       "      <td>False</td>\n",
       "      <td>823</td>\n",
       "      <td>513</td>\n",
       "      <td>708.195035</td>\n",
       "      <td>310</td>\n",
       "    </tr>\n",
       "    <tr>\n",
       "      <th>3</th>\n",
       "      <td>1</td>\n",
       "      <td>2019-05-03 11:16:18</td>\n",
       "      <td>1571</td>\n",
       "      <td>2019-05-03 11:30:39</td>\n",
       "      <td>1613</td>\n",
       "      <td>True</td>\n",
       "      <td>861</td>\n",
       "      <td>513</td>\n",
       "      <td>708.195035</td>\n",
       "      <td>348</td>\n",
       "    </tr>\n",
       "    <tr>\n",
       "      <th>4</th>\n",
       "      <td>2</td>\n",
       "      <td>2019-05-03 11:37:27</td>\n",
       "      <td>1581</td>\n",
       "      <td>2019-05-03 11:38:00</td>\n",
       "      <td>1577</td>\n",
       "      <td>False</td>\n",
       "      <td>33</td>\n",
       "      <td>0</td>\n",
       "      <td>0.000000</td>\n",
       "      <td>33</td>\n",
       "    </tr>\n",
       "    <tr>\n",
       "      <th>5</th>\n",
       "      <td>2</td>\n",
       "      <td>2019-05-03 11:37:27</td>\n",
       "      <td>1581</td>\n",
       "      <td>2019-05-03 11:49:38</td>\n",
       "      <td>1589</td>\n",
       "      <td>False</td>\n",
       "      <td>731</td>\n",
       "      <td>464</td>\n",
       "      <td>499.975751</td>\n",
       "      <td>267</td>\n",
       "    </tr>\n",
       "    <tr>\n",
       "      <th>6</th>\n",
       "      <td>2</td>\n",
       "      <td>2019-05-03 11:37:27</td>\n",
       "      <td>1581</td>\n",
       "      <td>2019-05-03 11:55:50</td>\n",
       "      <td>1604</td>\n",
       "      <td>False</td>\n",
       "      <td>1103</td>\n",
       "      <td>674</td>\n",
       "      <td>673.801792</td>\n",
       "      <td>429</td>\n",
       "    </tr>\n",
       "    <tr>\n",
       "      <th>7</th>\n",
       "      <td>2</td>\n",
       "      <td>2019-05-03 11:37:27</td>\n",
       "      <td>1581</td>\n",
       "      <td>2019-05-03 11:58:24</td>\n",
       "      <td>1608</td>\n",
       "      <td>False</td>\n",
       "      <td>1257</td>\n",
       "      <td>674</td>\n",
       "      <td>673.801792</td>\n",
       "      <td>583</td>\n",
       "    </tr>\n",
       "    <tr>\n",
       "      <th>8</th>\n",
       "      <td>2</td>\n",
       "      <td>2019-05-03 11:37:27</td>\n",
       "      <td>1581</td>\n",
       "      <td>2019-05-03 11:59:12</td>\n",
       "      <td>1602</td>\n",
       "      <td>True</td>\n",
       "      <td>1305</td>\n",
       "      <td>674</td>\n",
       "      <td>673.801792</td>\n",
       "      <td>631</td>\n",
       "    </tr>\n",
       "    <tr>\n",
       "      <th>9</th>\n",
       "      <td>3</td>\n",
       "      <td>2019-05-03 12:13:17</td>\n",
       "      <td>1596</td>\n",
       "      <td>2019-05-03 12:18:36</td>\n",
       "      <td>1597</td>\n",
       "      <td>False</td>\n",
       "      <td>319</td>\n",
       "      <td>124</td>\n",
       "      <td>60.041495</td>\n",
       "      <td>195</td>\n",
       "    </tr>\n",
       "  </tbody>\n",
       "</table>\n",
       "</div>"
      ],
      "text/plain": [
       "   key           init_time  init_temp         target_time  target_temp   last  \\\n",
       "0    1 2019-05-03 11:16:18       1571 2019-05-03 11:25:53         1604  False   \n",
       "1    1 2019-05-03 11:16:18       1571 2019-05-03 11:29:11         1618  False   \n",
       "2    1 2019-05-03 11:16:18       1571 2019-05-03 11:30:01         1601  False   \n",
       "3    1 2019-05-03 11:16:18       1571 2019-05-03 11:30:39         1613   True   \n",
       "4    2 2019-05-03 11:37:27       1581 2019-05-03 11:38:00         1577  False   \n",
       "5    2 2019-05-03 11:37:27       1581 2019-05-03 11:49:38         1589  False   \n",
       "6    2 2019-05-03 11:37:27       1581 2019-05-03 11:55:50         1604  False   \n",
       "7    2 2019-05-03 11:37:27       1581 2019-05-03 11:58:24         1608  False   \n",
       "8    2 2019-05-03 11:37:27       1581 2019-05-03 11:59:12         1602   True   \n",
       "9    3 2019-05-03 12:13:17       1596 2019-05-03 12:18:36         1597  False   \n",
       "\n",
       "   total_time  total_heat_time  energy_taken  total_downtime  \n",
       "0         575              365    605.667332             210  \n",
       "1         773              513    708.195035             260  \n",
       "2         823              513    708.195035             310  \n",
       "3         861              513    708.195035             348  \n",
       "4          33                0      0.000000              33  \n",
       "5         731              464    499.975751             267  \n",
       "6        1103              674    673.801792             429  \n",
       "7        1257              674    673.801792             583  \n",
       "8        1305              674    673.801792             631  \n",
       "9         319              124     60.041495             195  "
      ]
     },
     "execution_count": 56,
     "metadata": {},
     "output_type": "execute_result"
    }
   ],
   "source": [
    "# Отображение получившегося датасета\n",
    "data_full.iloc[:10, :10]"
   ]
  },
  {
   "cell_type": "markdown",
   "metadata": {},
   "source": [
    "Видно, что в качестве температуры первого замера на интервалах всегда указана температура первого замера в партии"
   ]
  },
  {
   "cell_type": "markdown",
   "metadata": {},
   "source": [
    "**part1 - обучающая+тестовая выборки, полученная в результате раздувания набора данных**"
   ]
  },
  {
   "cell_type": "code",
   "execution_count": 57,
   "metadata": {},
   "outputs": [],
   "source": [
    "part1 = data_full.loc[~data_full['last']]"
   ]
  },
  {
   "cell_type": "markdown",
   "metadata": {},
   "source": [
    "**part2 - информация о состоянии стали между начальным и финальным замером температуры в партиях**"
   ]
  },
  {
   "cell_type": "code",
   "execution_count": 58,
   "metadata": {},
   "outputs": [],
   "source": [
    "part2 = data_full.loc[data_full['last']]"
   ]
  },
  {
   "cell_type": "markdown",
   "metadata": {},
   "source": [
    "### 3 Обучение и тестрирование моделей ML<a id=\"step3\"></a>"
   ]
  },
  {
   "cell_type": "markdown",
   "metadata": {},
   "source": [
    "**разбиение part2 на обучающую и тестовую выборки**"
   ]
  },
  {
   "cell_type": "code",
   "execution_count": 56,
   "metadata": {},
   "outputs": [],
   "source": [
    "train_valid_part2, test = train_test_split(part2, test_size=0.20, random_state=42)"
   ]
  },
  {
   "cell_type": "markdown",
   "metadata": {},
   "source": [
    "**Оценка корреляции признаков**"
   ]
  },
  {
   "cell_type": "code",
   "execution_count": 57,
   "metadata": {},
   "outputs": [
    {
     "data": {
      "text/html": [
       "<div>\n",
       "<style scoped>\n",
       "    .dataframe tbody tr th:only-of-type {\n",
       "        vertical-align: middle;\n",
       "    }\n",
       "\n",
       "    .dataframe tbody tr th {\n",
       "        vertical-align: top;\n",
       "    }\n",
       "\n",
       "    .dataframe thead th {\n",
       "        text-align: right;\n",
       "    }\n",
       "</style>\n",
       "<table border=\"1\" class=\"dataframe\">\n",
       "  <thead>\n",
       "    <tr style=\"text-align: right;\">\n",
       "      <th></th>\n",
       "      <th>total_time</th>\n",
       "      <th>total_heat_time</th>\n",
       "      <th>energy_taken</th>\n",
       "      <th>total_downtime</th>\n",
       "      <th>heat_count</th>\n",
       "      <th>mean_power_ratio</th>\n",
       "      <th>Bulk_1</th>\n",
       "      <th>Bulk_2</th>\n",
       "      <th>Bulk_3</th>\n",
       "      <th>Bulk_4</th>\n",
       "      <th>...</th>\n",
       "      <th>Bulk_15</th>\n",
       "      <th>Wire_1</th>\n",
       "      <th>Wire_2</th>\n",
       "      <th>Wire_3</th>\n",
       "      <th>Wire_4</th>\n",
       "      <th>Wire_5</th>\n",
       "      <th>Wire_6</th>\n",
       "      <th>Wire_7</th>\n",
       "      <th>Wire_8</th>\n",
       "      <th>Wire_9</th>\n",
       "    </tr>\n",
       "  </thead>\n",
       "  <tbody>\n",
       "    <tr>\n",
       "      <td>total_time</td>\n",
       "      <td>1.000000</td>\n",
       "      <td>0.690905</td>\n",
       "      <td>0.589323</td>\n",
       "      <td>0.976727</td>\n",
       "      <td>0.695356</td>\n",
       "      <td>0.226911</td>\n",
       "      <td>0.166570</td>\n",
       "      <td>0.247488</td>\n",
       "      <td>0.091172</td>\n",
       "      <td>0.080164</td>\n",
       "      <td>...</td>\n",
       "      <td>0.180819</td>\n",
       "      <td>0.211995</td>\n",
       "      <td>0.095904</td>\n",
       "      <td>0.127100</td>\n",
       "      <td>0.273749</td>\n",
       "      <td>NaN</td>\n",
       "      <td>0.180407</td>\n",
       "      <td>0.141470</td>\n",
       "      <td>0.003989</td>\n",
       "      <td>0.007749</td>\n",
       "    </tr>\n",
       "    <tr>\n",
       "      <td>total_heat_time</td>\n",
       "      <td>0.690905</td>\n",
       "      <td>1.000000</td>\n",
       "      <td>0.889354</td>\n",
       "      <td>0.519764</td>\n",
       "      <td>0.851368</td>\n",
       "      <td>0.415225</td>\n",
       "      <td>0.121539</td>\n",
       "      <td>0.044801</td>\n",
       "      <td>0.164333</td>\n",
       "      <td>0.074530</td>\n",
       "      <td>...</td>\n",
       "      <td>0.320741</td>\n",
       "      <td>0.180446</td>\n",
       "      <td>0.088260</td>\n",
       "      <td>0.050410</td>\n",
       "      <td>0.076755</td>\n",
       "      <td>NaN</td>\n",
       "      <td>0.049594</td>\n",
       "      <td>0.027238</td>\n",
       "      <td>0.018504</td>\n",
       "      <td>-0.014075</td>\n",
       "    </tr>\n",
       "    <tr>\n",
       "      <td>energy_taken</td>\n",
       "      <td>0.589323</td>\n",
       "      <td>0.889354</td>\n",
       "      <td>1.000000</td>\n",
       "      <td>0.432550</td>\n",
       "      <td>0.575820</td>\n",
       "      <td>0.315426</td>\n",
       "      <td>0.062001</td>\n",
       "      <td>0.007130</td>\n",
       "      <td>0.101015</td>\n",
       "      <td>0.019482</td>\n",
       "      <td>...</td>\n",
       "      <td>0.300012</td>\n",
       "      <td>0.083044</td>\n",
       "      <td>0.020385</td>\n",
       "      <td>0.008508</td>\n",
       "      <td>0.030596</td>\n",
       "      <td>NaN</td>\n",
       "      <td>0.022292</td>\n",
       "      <td>-0.002743</td>\n",
       "      <td>0.002907</td>\n",
       "      <td>-0.019645</td>\n",
       "    </tr>\n",
       "    <tr>\n",
       "      <td>total_downtime</td>\n",
       "      <td>0.976727</td>\n",
       "      <td>0.519764</td>\n",
       "      <td>0.432550</td>\n",
       "      <td>1.000000</td>\n",
       "      <td>0.569121</td>\n",
       "      <td>0.144952</td>\n",
       "      <td>0.160778</td>\n",
       "      <td>0.279166</td>\n",
       "      <td>0.058984</td>\n",
       "      <td>0.072619</td>\n",
       "      <td>...</td>\n",
       "      <td>0.118516</td>\n",
       "      <td>0.196980</td>\n",
       "      <td>0.087146</td>\n",
       "      <td>0.135239</td>\n",
       "      <td>0.300720</td>\n",
       "      <td>NaN</td>\n",
       "      <td>0.198474</td>\n",
       "      <td>0.159095</td>\n",
       "      <td>-0.000776</td>\n",
       "      <td>0.013333</td>\n",
       "    </tr>\n",
       "    <tr>\n",
       "      <td>heat_count</td>\n",
       "      <td>0.695356</td>\n",
       "      <td>0.851368</td>\n",
       "      <td>0.575820</td>\n",
       "      <td>0.569121</td>\n",
       "      <td>1.000000</td>\n",
       "      <td>0.440173</td>\n",
       "      <td>0.133748</td>\n",
       "      <td>0.112580</td>\n",
       "      <td>0.205770</td>\n",
       "      <td>0.119473</td>\n",
       "      <td>...</td>\n",
       "      <td>0.245120</td>\n",
       "      <td>0.254304</td>\n",
       "      <td>0.141060</td>\n",
       "      <td>0.102333</td>\n",
       "      <td>0.147041</td>\n",
       "      <td>NaN</td>\n",
       "      <td>0.097370</td>\n",
       "      <td>0.077320</td>\n",
       "      <td>0.041307</td>\n",
       "      <td>-0.014504</td>\n",
       "    </tr>\n",
       "    <tr>\n",
       "      <td>mean_power_ratio</td>\n",
       "      <td>0.226911</td>\n",
       "      <td>0.415225</td>\n",
       "      <td>0.315426</td>\n",
       "      <td>0.144952</td>\n",
       "      <td>0.440173</td>\n",
       "      <td>1.000000</td>\n",
       "      <td>0.021906</td>\n",
       "      <td>-0.010270</td>\n",
       "      <td>0.176855</td>\n",
       "      <td>0.119652</td>\n",
       "      <td>...</td>\n",
       "      <td>0.326049</td>\n",
       "      <td>0.260738</td>\n",
       "      <td>0.089315</td>\n",
       "      <td>0.030178</td>\n",
       "      <td>0.005348</td>\n",
       "      <td>NaN</td>\n",
       "      <td>0.025954</td>\n",
       "      <td>-0.002925</td>\n",
       "      <td>0.032154</td>\n",
       "      <td>-0.029566</td>\n",
       "    </tr>\n",
       "    <tr>\n",
       "      <td>Bulk_1</td>\n",
       "      <td>0.166570</td>\n",
       "      <td>0.121539</td>\n",
       "      <td>0.062001</td>\n",
       "      <td>0.160778</td>\n",
       "      <td>0.133748</td>\n",
       "      <td>0.021906</td>\n",
       "      <td>1.000000</td>\n",
       "      <td>0.298498</td>\n",
       "      <td>-0.008905</td>\n",
       "      <td>0.042562</td>\n",
       "      <td>...</td>\n",
       "      <td>0.011661</td>\n",
       "      <td>0.005408</td>\n",
       "      <td>0.030229</td>\n",
       "      <td>0.078446</td>\n",
       "      <td>0.216115</td>\n",
       "      <td>NaN</td>\n",
       "      <td>0.217110</td>\n",
       "      <td>0.078076</td>\n",
       "      <td>-0.014045</td>\n",
       "      <td>-0.002599</td>\n",
       "    </tr>\n",
       "    <tr>\n",
       "      <td>Bulk_2</td>\n",
       "      <td>0.247488</td>\n",
       "      <td>0.044801</td>\n",
       "      <td>0.007130</td>\n",
       "      <td>0.279166</td>\n",
       "      <td>0.112580</td>\n",
       "      <td>-0.010270</td>\n",
       "      <td>0.298498</td>\n",
       "      <td>1.000000</td>\n",
       "      <td>-0.048734</td>\n",
       "      <td>0.085340</td>\n",
       "      <td>...</td>\n",
       "      <td>-0.115018</td>\n",
       "      <td>-0.147961</td>\n",
       "      <td>-0.042188</td>\n",
       "      <td>0.339055</td>\n",
       "      <td>0.728047</td>\n",
       "      <td>NaN</td>\n",
       "      <td>0.672362</td>\n",
       "      <td>0.388171</td>\n",
       "      <td>-0.004985</td>\n",
       "      <td>-0.008241</td>\n",
       "    </tr>\n",
       "    <tr>\n",
       "      <td>Bulk_3</td>\n",
       "      <td>0.091172</td>\n",
       "      <td>0.164333</td>\n",
       "      <td>0.101015</td>\n",
       "      <td>0.058984</td>\n",
       "      <td>0.205770</td>\n",
       "      <td>0.176855</td>\n",
       "      <td>-0.008905</td>\n",
       "      <td>-0.048734</td>\n",
       "      <td>1.000000</td>\n",
       "      <td>-0.178155</td>\n",
       "      <td>...</td>\n",
       "      <td>0.064075</td>\n",
       "      <td>0.160037</td>\n",
       "      <td>0.119962</td>\n",
       "      <td>0.014545</td>\n",
       "      <td>-0.041505</td>\n",
       "      <td>NaN</td>\n",
       "      <td>0.004752</td>\n",
       "      <td>-0.018077</td>\n",
       "      <td>0.009953</td>\n",
       "      <td>-0.005101</td>\n",
       "    </tr>\n",
       "    <tr>\n",
       "      <td>Bulk_4</td>\n",
       "      <td>0.080164</td>\n",
       "      <td>0.074530</td>\n",
       "      <td>0.019482</td>\n",
       "      <td>0.072619</td>\n",
       "      <td>0.119473</td>\n",
       "      <td>0.119652</td>\n",
       "      <td>0.042562</td>\n",
       "      <td>0.085340</td>\n",
       "      <td>-0.178155</td>\n",
       "      <td>1.000000</td>\n",
       "      <td>...</td>\n",
       "      <td>0.126107</td>\n",
       "      <td>0.285904</td>\n",
       "      <td>-0.168242</td>\n",
       "      <td>0.004146</td>\n",
       "      <td>0.081785</td>\n",
       "      <td>NaN</td>\n",
       "      <td>0.047127</td>\n",
       "      <td>0.052759</td>\n",
       "      <td>0.015792</td>\n",
       "      <td>-0.044191</td>\n",
       "    </tr>\n",
       "    <tr>\n",
       "      <td>Bulk_5</td>\n",
       "      <td>0.151140</td>\n",
       "      <td>0.031010</td>\n",
       "      <td>-0.018813</td>\n",
       "      <td>0.169404</td>\n",
       "      <td>0.115059</td>\n",
       "      <td>0.000886</td>\n",
       "      <td>0.140118</td>\n",
       "      <td>0.543379</td>\n",
       "      <td>-0.033440</td>\n",
       "      <td>0.070964</td>\n",
       "      <td>...</td>\n",
       "      <td>-0.073880</td>\n",
       "      <td>-0.014036</td>\n",
       "      <td>-0.012413</td>\n",
       "      <td>0.177900</td>\n",
       "      <td>0.410561</td>\n",
       "      <td>NaN</td>\n",
       "      <td>0.378713</td>\n",
       "      <td>0.245784</td>\n",
       "      <td>-0.007120</td>\n",
       "      <td>-0.011771</td>\n",
       "    </tr>\n",
       "    <tr>\n",
       "      <td>Bulk_6</td>\n",
       "      <td>0.206206</td>\n",
       "      <td>0.188757</td>\n",
       "      <td>0.151783</td>\n",
       "      <td>0.187674</td>\n",
       "      <td>0.194078</td>\n",
       "      <td>0.089716</td>\n",
       "      <td>-0.016883</td>\n",
       "      <td>-0.035291</td>\n",
       "      <td>0.080103</td>\n",
       "      <td>-0.183960</td>\n",
       "      <td>...</td>\n",
       "      <td>-0.031203</td>\n",
       "      <td>-0.075495</td>\n",
       "      <td>0.229072</td>\n",
       "      <td>-0.039060</td>\n",
       "      <td>-0.030056</td>\n",
       "      <td>NaN</td>\n",
       "      <td>-0.027982</td>\n",
       "      <td>-0.013090</td>\n",
       "      <td>-0.019718</td>\n",
       "      <td>-0.017823</td>\n",
       "    </tr>\n",
       "    <tr>\n",
       "      <td>Bulk_7</td>\n",
       "      <td>0.262822</td>\n",
       "      <td>0.100392</td>\n",
       "      <td>0.042241</td>\n",
       "      <td>0.280794</td>\n",
       "      <td>0.166785</td>\n",
       "      <td>0.000503</td>\n",
       "      <td>0.340268</td>\n",
       "      <td>0.714627</td>\n",
       "      <td>-0.031063</td>\n",
       "      <td>0.088026</td>\n",
       "      <td>...</td>\n",
       "      <td>-0.104568</td>\n",
       "      <td>-0.134039</td>\n",
       "      <td>0.018646</td>\n",
       "      <td>0.258474</td>\n",
       "      <td>0.771880</td>\n",
       "      <td>NaN</td>\n",
       "      <td>0.572265</td>\n",
       "      <td>0.330449</td>\n",
       "      <td>-0.004613</td>\n",
       "      <td>-0.007626</td>\n",
       "    </tr>\n",
       "    <tr>\n",
       "      <td>Bulk_8</td>\n",
       "      <td>0.000690</td>\n",
       "      <td>0.000112</td>\n",
       "      <td>-0.001455</td>\n",
       "      <td>0.000782</td>\n",
       "      <td>0.002862</td>\n",
       "      <td>-0.000763</td>\n",
       "      <td>-0.002762</td>\n",
       "      <td>-0.000980</td>\n",
       "      <td>0.012698</td>\n",
       "      <td>-0.005278</td>\n",
       "      <td>...</td>\n",
       "      <td>-0.012638</td>\n",
       "      <td>0.015575</td>\n",
       "      <td>0.010614</td>\n",
       "      <td>-0.001088</td>\n",
       "      <td>-0.000835</td>\n",
       "      <td>NaN</td>\n",
       "      <td>-0.001267</td>\n",
       "      <td>-0.000364</td>\n",
       "      <td>0.212024</td>\n",
       "      <td>-0.000906</td>\n",
       "    </tr>\n",
       "    <tr>\n",
       "      <td>Bulk_9</td>\n",
       "      <td>0.001901</td>\n",
       "      <td>0.015839</td>\n",
       "      <td>0.001497</td>\n",
       "      <td>-0.002453</td>\n",
       "      <td>0.037801</td>\n",
       "      <td>0.031103</td>\n",
       "      <td>-0.013993</td>\n",
       "      <td>-0.004966</td>\n",
       "      <td>0.014738</td>\n",
       "      <td>0.008018</td>\n",
       "      <td>...</td>\n",
       "      <td>-0.058939</td>\n",
       "      <td>0.024881</td>\n",
       "      <td>0.056621</td>\n",
       "      <td>-0.005511</td>\n",
       "      <td>-0.004230</td>\n",
       "      <td>NaN</td>\n",
       "      <td>-0.006418</td>\n",
       "      <td>-0.001842</td>\n",
       "      <td>0.965709</td>\n",
       "      <td>-0.004587</td>\n",
       "    </tr>\n",
       "    <tr>\n",
       "      <td>Bulk_10</td>\n",
       "      <td>0.032549</td>\n",
       "      <td>0.052120</td>\n",
       "      <td>0.035875</td>\n",
       "      <td>0.023000</td>\n",
       "      <td>0.069306</td>\n",
       "      <td>0.066912</td>\n",
       "      <td>0.004286</td>\n",
       "      <td>-0.018941</td>\n",
       "      <td>-0.047222</td>\n",
       "      <td>-0.049504</td>\n",
       "      <td>...</td>\n",
       "      <td>0.079660</td>\n",
       "      <td>0.101486</td>\n",
       "      <td>-0.073149</td>\n",
       "      <td>-0.021019</td>\n",
       "      <td>-0.016131</td>\n",
       "      <td>NaN</td>\n",
       "      <td>-0.019130</td>\n",
       "      <td>-0.007026</td>\n",
       "      <td>-0.010583</td>\n",
       "      <td>-0.017496</td>\n",
       "    </tr>\n",
       "    <tr>\n",
       "      <td>Bulk_11</td>\n",
       "      <td>0.052672</td>\n",
       "      <td>0.068264</td>\n",
       "      <td>0.048750</td>\n",
       "      <td>0.041990</td>\n",
       "      <td>0.071722</td>\n",
       "      <td>0.028821</td>\n",
       "      <td>-0.031097</td>\n",
       "      <td>-0.000392</td>\n",
       "      <td>0.021020</td>\n",
       "      <td>-0.085875</td>\n",
       "      <td>...</td>\n",
       "      <td>-0.022117</td>\n",
       "      <td>-0.042117</td>\n",
       "      <td>0.069136</td>\n",
       "      <td>-0.017779</td>\n",
       "      <td>-0.013646</td>\n",
       "      <td>NaN</td>\n",
       "      <td>0.009792</td>\n",
       "      <td>-0.005944</td>\n",
       "      <td>-0.008952</td>\n",
       "      <td>-0.014801</td>\n",
       "    </tr>\n",
       "    <tr>\n",
       "      <td>Bulk_12</td>\n",
       "      <td>0.239714</td>\n",
       "      <td>0.456476</td>\n",
       "      <td>0.453254</td>\n",
       "      <td>0.147843</td>\n",
       "      <td>0.313491</td>\n",
       "      <td>0.293770</td>\n",
       "      <td>0.348611</td>\n",
       "      <td>-0.109027</td>\n",
       "      <td>0.068198</td>\n",
       "      <td>0.107527</td>\n",
       "      <td>...</td>\n",
       "      <td>0.628843</td>\n",
       "      <td>0.196163</td>\n",
       "      <td>-0.035246</td>\n",
       "      <td>-0.103834</td>\n",
       "      <td>-0.092853</td>\n",
       "      <td>NaN</td>\n",
       "      <td>-0.057365</td>\n",
       "      <td>-0.040441</td>\n",
       "      <td>-0.036107</td>\n",
       "      <td>-0.051738</td>\n",
       "    </tr>\n",
       "    <tr>\n",
       "      <td>Bulk_13</td>\n",
       "      <td>0.315555</td>\n",
       "      <td>0.174636</td>\n",
       "      <td>0.246930</td>\n",
       "      <td>0.321082</td>\n",
       "      <td>0.126841</td>\n",
       "      <td>0.021415</td>\n",
       "      <td>-0.002073</td>\n",
       "      <td>-0.007665</td>\n",
       "      <td>-0.021308</td>\n",
       "      <td>0.011108</td>\n",
       "      <td>...</td>\n",
       "      <td>0.044928</td>\n",
       "      <td>0.055181</td>\n",
       "      <td>0.006340</td>\n",
       "      <td>-0.008506</td>\n",
       "      <td>-0.006528</td>\n",
       "      <td>NaN</td>\n",
       "      <td>-0.009906</td>\n",
       "      <td>-0.002843</td>\n",
       "      <td>-0.004282</td>\n",
       "      <td>-0.007080</td>\n",
       "    </tr>\n",
       "    <tr>\n",
       "      <td>Bulk_14</td>\n",
       "      <td>0.230741</td>\n",
       "      <td>0.456898</td>\n",
       "      <td>0.409104</td>\n",
       "      <td>0.137114</td>\n",
       "      <td>0.355243</td>\n",
       "      <td>0.411999</td>\n",
       "      <td>0.192513</td>\n",
       "      <td>-0.149680</td>\n",
       "      <td>0.078588</td>\n",
       "      <td>-0.031264</td>\n",
       "      <td>...</td>\n",
       "      <td>0.364635</td>\n",
       "      <td>0.105555</td>\n",
       "      <td>0.068057</td>\n",
       "      <td>-0.025859</td>\n",
       "      <td>-0.127476</td>\n",
       "      <td>NaN</td>\n",
       "      <td>-0.075606</td>\n",
       "      <td>-0.055521</td>\n",
       "      <td>0.031384</td>\n",
       "      <td>-0.014568</td>\n",
       "    </tr>\n",
       "    <tr>\n",
       "      <td>Bulk_15</td>\n",
       "      <td>0.180819</td>\n",
       "      <td>0.320741</td>\n",
       "      <td>0.300012</td>\n",
       "      <td>0.118516</td>\n",
       "      <td>0.245120</td>\n",
       "      <td>0.326049</td>\n",
       "      <td>0.011661</td>\n",
       "      <td>-0.115018</td>\n",
       "      <td>0.064075</td>\n",
       "      <td>0.126107</td>\n",
       "      <td>...</td>\n",
       "      <td>1.000000</td>\n",
       "      <td>0.228345</td>\n",
       "      <td>-0.045724</td>\n",
       "      <td>-0.096286</td>\n",
       "      <td>-0.097956</td>\n",
       "      <td>NaN</td>\n",
       "      <td>-0.053532</td>\n",
       "      <td>-0.042664</td>\n",
       "      <td>-0.057782</td>\n",
       "      <td>-0.046047</td>\n",
       "    </tr>\n",
       "    <tr>\n",
       "      <td>Wire_1</td>\n",
       "      <td>0.211995</td>\n",
       "      <td>0.180446</td>\n",
       "      <td>0.083044</td>\n",
       "      <td>0.196980</td>\n",
       "      <td>0.254304</td>\n",
       "      <td>0.260738</td>\n",
       "      <td>0.005408</td>\n",
       "      <td>-0.147961</td>\n",
       "      <td>0.160037</td>\n",
       "      <td>0.285904</td>\n",
       "      <td>...</td>\n",
       "      <td>0.228345</td>\n",
       "      <td>1.000000</td>\n",
       "      <td>0.054663</td>\n",
       "      <td>0.006026</td>\n",
       "      <td>-0.123446</td>\n",
       "      <td>NaN</td>\n",
       "      <td>-0.100570</td>\n",
       "      <td>-0.051588</td>\n",
       "      <td>0.022122</td>\n",
       "      <td>0.033320</td>\n",
       "    </tr>\n",
       "    <tr>\n",
       "      <td>Wire_2</td>\n",
       "      <td>0.095904</td>\n",
       "      <td>0.088260</td>\n",
       "      <td>0.020385</td>\n",
       "      <td>0.087146</td>\n",
       "      <td>0.141060</td>\n",
       "      <td>0.089315</td>\n",
       "      <td>0.030229</td>\n",
       "      <td>-0.042188</td>\n",
       "      <td>0.119962</td>\n",
       "      <td>-0.168242</td>\n",
       "      <td>...</td>\n",
       "      <td>-0.045724</td>\n",
       "      <td>0.054663</td>\n",
       "      <td>1.000000</td>\n",
       "      <td>0.069266</td>\n",
       "      <td>-0.035930</td>\n",
       "      <td>NaN</td>\n",
       "      <td>-0.054296</td>\n",
       "      <td>-0.015649</td>\n",
       "      <td>0.058303</td>\n",
       "      <td>0.220900</td>\n",
       "    </tr>\n",
       "    <tr>\n",
       "      <td>Wire_3</td>\n",
       "      <td>0.127100</td>\n",
       "      <td>0.050410</td>\n",
       "      <td>0.008508</td>\n",
       "      <td>0.135239</td>\n",
       "      <td>0.102333</td>\n",
       "      <td>0.030178</td>\n",
       "      <td>0.078446</td>\n",
       "      <td>0.339055</td>\n",
       "      <td>0.014545</td>\n",
       "      <td>0.004146</td>\n",
       "      <td>...</td>\n",
       "      <td>-0.096286</td>\n",
       "      <td>0.006026</td>\n",
       "      <td>0.069266</td>\n",
       "      <td>1.000000</td>\n",
       "      <td>0.282073</td>\n",
       "      <td>NaN</td>\n",
       "      <td>0.275983</td>\n",
       "      <td>0.145645</td>\n",
       "      <td>-0.005532</td>\n",
       "      <td>-0.009145</td>\n",
       "    </tr>\n",
       "    <tr>\n",
       "      <td>Wire_4</td>\n",
       "      <td>0.273749</td>\n",
       "      <td>0.076755</td>\n",
       "      <td>0.030596</td>\n",
       "      <td>0.300720</td>\n",
       "      <td>0.147041</td>\n",
       "      <td>0.005348</td>\n",
       "      <td>0.216115</td>\n",
       "      <td>0.728047</td>\n",
       "      <td>-0.041505</td>\n",
       "      <td>0.081785</td>\n",
       "      <td>...</td>\n",
       "      <td>-0.097956</td>\n",
       "      <td>-0.123446</td>\n",
       "      <td>-0.035930</td>\n",
       "      <td>0.282073</td>\n",
       "      <td>1.000000</td>\n",
       "      <td>NaN</td>\n",
       "      <td>0.575220</td>\n",
       "      <td>0.471660</td>\n",
       "      <td>-0.004245</td>\n",
       "      <td>-0.007019</td>\n",
       "    </tr>\n",
       "    <tr>\n",
       "      <td>Wire_5</td>\n",
       "      <td>NaN</td>\n",
       "      <td>NaN</td>\n",
       "      <td>NaN</td>\n",
       "      <td>NaN</td>\n",
       "      <td>NaN</td>\n",
       "      <td>NaN</td>\n",
       "      <td>NaN</td>\n",
       "      <td>NaN</td>\n",
       "      <td>NaN</td>\n",
       "      <td>NaN</td>\n",
       "      <td>...</td>\n",
       "      <td>NaN</td>\n",
       "      <td>NaN</td>\n",
       "      <td>NaN</td>\n",
       "      <td>NaN</td>\n",
       "      <td>NaN</td>\n",
       "      <td>NaN</td>\n",
       "      <td>NaN</td>\n",
       "      <td>NaN</td>\n",
       "      <td>NaN</td>\n",
       "      <td>NaN</td>\n",
       "    </tr>\n",
       "    <tr>\n",
       "      <td>Wire_6</td>\n",
       "      <td>0.180407</td>\n",
       "      <td>0.049594</td>\n",
       "      <td>0.022292</td>\n",
       "      <td>0.198474</td>\n",
       "      <td>0.097370</td>\n",
       "      <td>0.025954</td>\n",
       "      <td>0.217110</td>\n",
       "      <td>0.672362</td>\n",
       "      <td>0.004752</td>\n",
       "      <td>0.047127</td>\n",
       "      <td>...</td>\n",
       "      <td>-0.053532</td>\n",
       "      <td>-0.100570</td>\n",
       "      <td>-0.054296</td>\n",
       "      <td>0.275983</td>\n",
       "      <td>0.575220</td>\n",
       "      <td>NaN</td>\n",
       "      <td>1.000000</td>\n",
       "      <td>0.353293</td>\n",
       "      <td>-0.006442</td>\n",
       "      <td>-0.010651</td>\n",
       "    </tr>\n",
       "    <tr>\n",
       "      <td>Wire_7</td>\n",
       "      <td>0.141470</td>\n",
       "      <td>0.027238</td>\n",
       "      <td>-0.002743</td>\n",
       "      <td>0.159095</td>\n",
       "      <td>0.077320</td>\n",
       "      <td>-0.002925</td>\n",
       "      <td>0.078076</td>\n",
       "      <td>0.388171</td>\n",
       "      <td>-0.018077</td>\n",
       "      <td>0.052759</td>\n",
       "      <td>...</td>\n",
       "      <td>-0.042664</td>\n",
       "      <td>-0.051588</td>\n",
       "      <td>-0.015649</td>\n",
       "      <td>0.145645</td>\n",
       "      <td>0.471660</td>\n",
       "      <td>NaN</td>\n",
       "      <td>0.353293</td>\n",
       "      <td>1.000000</td>\n",
       "      <td>-0.001849</td>\n",
       "      <td>-0.003057</td>\n",
       "    </tr>\n",
       "    <tr>\n",
       "      <td>Wire_8</td>\n",
       "      <td>0.003989</td>\n",
       "      <td>0.018504</td>\n",
       "      <td>0.002907</td>\n",
       "      <td>-0.000776</td>\n",
       "      <td>0.041307</td>\n",
       "      <td>0.032154</td>\n",
       "      <td>-0.014045</td>\n",
       "      <td>-0.004985</td>\n",
       "      <td>0.009953</td>\n",
       "      <td>0.015792</td>\n",
       "      <td>...</td>\n",
       "      <td>-0.057782</td>\n",
       "      <td>0.022122</td>\n",
       "      <td>0.058303</td>\n",
       "      <td>-0.005532</td>\n",
       "      <td>-0.004245</td>\n",
       "      <td>NaN</td>\n",
       "      <td>-0.006442</td>\n",
       "      <td>-0.001849</td>\n",
       "      <td>1.000000</td>\n",
       "      <td>-0.004604</td>\n",
       "    </tr>\n",
       "    <tr>\n",
       "      <td>Wire_9</td>\n",
       "      <td>0.007749</td>\n",
       "      <td>-0.014075</td>\n",
       "      <td>-0.019645</td>\n",
       "      <td>0.013333</td>\n",
       "      <td>-0.014504</td>\n",
       "      <td>-0.029566</td>\n",
       "      <td>-0.002599</td>\n",
       "      <td>-0.008241</td>\n",
       "      <td>-0.005101</td>\n",
       "      <td>-0.044191</td>\n",
       "      <td>...</td>\n",
       "      <td>-0.046047</td>\n",
       "      <td>0.033320</td>\n",
       "      <td>0.220900</td>\n",
       "      <td>-0.009145</td>\n",
       "      <td>-0.007019</td>\n",
       "      <td>NaN</td>\n",
       "      <td>-0.010651</td>\n",
       "      <td>-0.003057</td>\n",
       "      <td>-0.004604</td>\n",
       "      <td>1.000000</td>\n",
       "    </tr>\n",
       "  </tbody>\n",
       "</table>\n",
       "<p>30 rows × 30 columns</p>\n",
       "</div>"
      ],
      "text/plain": [
       "                  total_time  total_heat_time  energy_taken  total_downtime  \\\n",
       "total_time          1.000000         0.690905      0.589323        0.976727   \n",
       "total_heat_time     0.690905         1.000000      0.889354        0.519764   \n",
       "energy_taken        0.589323         0.889354      1.000000        0.432550   \n",
       "total_downtime      0.976727         0.519764      0.432550        1.000000   \n",
       "heat_count          0.695356         0.851368      0.575820        0.569121   \n",
       "mean_power_ratio    0.226911         0.415225      0.315426        0.144952   \n",
       "Bulk_1              0.166570         0.121539      0.062001        0.160778   \n",
       "Bulk_2              0.247488         0.044801      0.007130        0.279166   \n",
       "Bulk_3              0.091172         0.164333      0.101015        0.058984   \n",
       "Bulk_4              0.080164         0.074530      0.019482        0.072619   \n",
       "Bulk_5              0.151140         0.031010     -0.018813        0.169404   \n",
       "Bulk_6              0.206206         0.188757      0.151783        0.187674   \n",
       "Bulk_7              0.262822         0.100392      0.042241        0.280794   \n",
       "Bulk_8              0.000690         0.000112     -0.001455        0.000782   \n",
       "Bulk_9              0.001901         0.015839      0.001497       -0.002453   \n",
       "Bulk_10             0.032549         0.052120      0.035875        0.023000   \n",
       "Bulk_11             0.052672         0.068264      0.048750        0.041990   \n",
       "Bulk_12             0.239714         0.456476      0.453254        0.147843   \n",
       "Bulk_13             0.315555         0.174636      0.246930        0.321082   \n",
       "Bulk_14             0.230741         0.456898      0.409104        0.137114   \n",
       "Bulk_15             0.180819         0.320741      0.300012        0.118516   \n",
       "Wire_1              0.211995         0.180446      0.083044        0.196980   \n",
       "Wire_2              0.095904         0.088260      0.020385        0.087146   \n",
       "Wire_3              0.127100         0.050410      0.008508        0.135239   \n",
       "Wire_4              0.273749         0.076755      0.030596        0.300720   \n",
       "Wire_5                   NaN              NaN           NaN             NaN   \n",
       "Wire_6              0.180407         0.049594      0.022292        0.198474   \n",
       "Wire_7              0.141470         0.027238     -0.002743        0.159095   \n",
       "Wire_8              0.003989         0.018504      0.002907       -0.000776   \n",
       "Wire_9              0.007749        -0.014075     -0.019645        0.013333   \n",
       "\n",
       "                  heat_count  mean_power_ratio    Bulk_1    Bulk_2    Bulk_3  \\\n",
       "total_time          0.695356          0.226911  0.166570  0.247488  0.091172   \n",
       "total_heat_time     0.851368          0.415225  0.121539  0.044801  0.164333   \n",
       "energy_taken        0.575820          0.315426  0.062001  0.007130  0.101015   \n",
       "total_downtime      0.569121          0.144952  0.160778  0.279166  0.058984   \n",
       "heat_count          1.000000          0.440173  0.133748  0.112580  0.205770   \n",
       "mean_power_ratio    0.440173          1.000000  0.021906 -0.010270  0.176855   \n",
       "Bulk_1              0.133748          0.021906  1.000000  0.298498 -0.008905   \n",
       "Bulk_2              0.112580         -0.010270  0.298498  1.000000 -0.048734   \n",
       "Bulk_3              0.205770          0.176855 -0.008905 -0.048734  1.000000   \n",
       "Bulk_4              0.119473          0.119652  0.042562  0.085340 -0.178155   \n",
       "Bulk_5              0.115059          0.000886  0.140118  0.543379 -0.033440   \n",
       "Bulk_6              0.194078          0.089716 -0.016883 -0.035291  0.080103   \n",
       "Bulk_7              0.166785          0.000503  0.340268  0.714627 -0.031063   \n",
       "Bulk_8              0.002862         -0.000763 -0.002762 -0.000980  0.012698   \n",
       "Bulk_9              0.037801          0.031103 -0.013993 -0.004966  0.014738   \n",
       "Bulk_10             0.069306          0.066912  0.004286 -0.018941 -0.047222   \n",
       "Bulk_11             0.071722          0.028821 -0.031097 -0.000392  0.021020   \n",
       "Bulk_12             0.313491          0.293770  0.348611 -0.109027  0.068198   \n",
       "Bulk_13             0.126841          0.021415 -0.002073 -0.007665 -0.021308   \n",
       "Bulk_14             0.355243          0.411999  0.192513 -0.149680  0.078588   \n",
       "Bulk_15             0.245120          0.326049  0.011661 -0.115018  0.064075   \n",
       "Wire_1              0.254304          0.260738  0.005408 -0.147961  0.160037   \n",
       "Wire_2              0.141060          0.089315  0.030229 -0.042188  0.119962   \n",
       "Wire_3              0.102333          0.030178  0.078446  0.339055  0.014545   \n",
       "Wire_4              0.147041          0.005348  0.216115  0.728047 -0.041505   \n",
       "Wire_5                   NaN               NaN       NaN       NaN       NaN   \n",
       "Wire_6              0.097370          0.025954  0.217110  0.672362  0.004752   \n",
       "Wire_7              0.077320         -0.002925  0.078076  0.388171 -0.018077   \n",
       "Wire_8              0.041307          0.032154 -0.014045 -0.004985  0.009953   \n",
       "Wire_9             -0.014504         -0.029566 -0.002599 -0.008241 -0.005101   \n",
       "\n",
       "                    Bulk_4  ...   Bulk_15    Wire_1    Wire_2    Wire_3  \\\n",
       "total_time        0.080164  ...  0.180819  0.211995  0.095904  0.127100   \n",
       "total_heat_time   0.074530  ...  0.320741  0.180446  0.088260  0.050410   \n",
       "energy_taken      0.019482  ...  0.300012  0.083044  0.020385  0.008508   \n",
       "total_downtime    0.072619  ...  0.118516  0.196980  0.087146  0.135239   \n",
       "heat_count        0.119473  ...  0.245120  0.254304  0.141060  0.102333   \n",
       "mean_power_ratio  0.119652  ...  0.326049  0.260738  0.089315  0.030178   \n",
       "Bulk_1            0.042562  ...  0.011661  0.005408  0.030229  0.078446   \n",
       "Bulk_2            0.085340  ... -0.115018 -0.147961 -0.042188  0.339055   \n",
       "Bulk_3           -0.178155  ...  0.064075  0.160037  0.119962  0.014545   \n",
       "Bulk_4            1.000000  ...  0.126107  0.285904 -0.168242  0.004146   \n",
       "Bulk_5            0.070964  ... -0.073880 -0.014036 -0.012413  0.177900   \n",
       "Bulk_6           -0.183960  ... -0.031203 -0.075495  0.229072 -0.039060   \n",
       "Bulk_7            0.088026  ... -0.104568 -0.134039  0.018646  0.258474   \n",
       "Bulk_8           -0.005278  ... -0.012638  0.015575  0.010614 -0.001088   \n",
       "Bulk_9            0.008018  ... -0.058939  0.024881  0.056621 -0.005511   \n",
       "Bulk_10          -0.049504  ...  0.079660  0.101486 -0.073149 -0.021019   \n",
       "Bulk_11          -0.085875  ... -0.022117 -0.042117  0.069136 -0.017779   \n",
       "Bulk_12           0.107527  ...  0.628843  0.196163 -0.035246 -0.103834   \n",
       "Bulk_13           0.011108  ...  0.044928  0.055181  0.006340 -0.008506   \n",
       "Bulk_14          -0.031264  ...  0.364635  0.105555  0.068057 -0.025859   \n",
       "Bulk_15           0.126107  ...  1.000000  0.228345 -0.045724 -0.096286   \n",
       "Wire_1            0.285904  ...  0.228345  1.000000  0.054663  0.006026   \n",
       "Wire_2           -0.168242  ... -0.045724  0.054663  1.000000  0.069266   \n",
       "Wire_3            0.004146  ... -0.096286  0.006026  0.069266  1.000000   \n",
       "Wire_4            0.081785  ... -0.097956 -0.123446 -0.035930  0.282073   \n",
       "Wire_5                 NaN  ...       NaN       NaN       NaN       NaN   \n",
       "Wire_6            0.047127  ... -0.053532 -0.100570 -0.054296  0.275983   \n",
       "Wire_7            0.052759  ... -0.042664 -0.051588 -0.015649  0.145645   \n",
       "Wire_8            0.015792  ... -0.057782  0.022122  0.058303 -0.005532   \n",
       "Wire_9           -0.044191  ... -0.046047  0.033320  0.220900 -0.009145   \n",
       "\n",
       "                    Wire_4  Wire_5    Wire_6    Wire_7    Wire_8    Wire_9  \n",
       "total_time        0.273749     NaN  0.180407  0.141470  0.003989  0.007749  \n",
       "total_heat_time   0.076755     NaN  0.049594  0.027238  0.018504 -0.014075  \n",
       "energy_taken      0.030596     NaN  0.022292 -0.002743  0.002907 -0.019645  \n",
       "total_downtime    0.300720     NaN  0.198474  0.159095 -0.000776  0.013333  \n",
       "heat_count        0.147041     NaN  0.097370  0.077320  0.041307 -0.014504  \n",
       "mean_power_ratio  0.005348     NaN  0.025954 -0.002925  0.032154 -0.029566  \n",
       "Bulk_1            0.216115     NaN  0.217110  0.078076 -0.014045 -0.002599  \n",
       "Bulk_2            0.728047     NaN  0.672362  0.388171 -0.004985 -0.008241  \n",
       "Bulk_3           -0.041505     NaN  0.004752 -0.018077  0.009953 -0.005101  \n",
       "Bulk_4            0.081785     NaN  0.047127  0.052759  0.015792 -0.044191  \n",
       "Bulk_5            0.410561     NaN  0.378713  0.245784 -0.007120 -0.011771  \n",
       "Bulk_6           -0.030056     NaN -0.027982 -0.013090 -0.019718 -0.017823  \n",
       "Bulk_7            0.771880     NaN  0.572265  0.330449 -0.004613 -0.007626  \n",
       "Bulk_8           -0.000835     NaN -0.001267 -0.000364  0.212024 -0.000906  \n",
       "Bulk_9           -0.004230     NaN -0.006418 -0.001842  0.965709 -0.004587  \n",
       "Bulk_10          -0.016131     NaN -0.019130 -0.007026 -0.010583 -0.017496  \n",
       "Bulk_11          -0.013646     NaN  0.009792 -0.005944 -0.008952 -0.014801  \n",
       "Bulk_12          -0.092853     NaN -0.057365 -0.040441 -0.036107 -0.051738  \n",
       "Bulk_13          -0.006528     NaN -0.009906 -0.002843 -0.004282 -0.007080  \n",
       "Bulk_14          -0.127476     NaN -0.075606 -0.055521  0.031384 -0.014568  \n",
       "Bulk_15          -0.097956     NaN -0.053532 -0.042664 -0.057782 -0.046047  \n",
       "Wire_1           -0.123446     NaN -0.100570 -0.051588  0.022122  0.033320  \n",
       "Wire_2           -0.035930     NaN -0.054296 -0.015649  0.058303  0.220900  \n",
       "Wire_3            0.282073     NaN  0.275983  0.145645 -0.005532 -0.009145  \n",
       "Wire_4            1.000000     NaN  0.575220  0.471660 -0.004245 -0.007019  \n",
       "Wire_5                 NaN     NaN       NaN       NaN       NaN       NaN  \n",
       "Wire_6            0.575220     NaN  1.000000  0.353293 -0.006442 -0.010651  \n",
       "Wire_7            0.471660     NaN  0.353293  1.000000 -0.001849 -0.003057  \n",
       "Wire_8           -0.004245     NaN -0.006442 -0.001849  1.000000 -0.004604  \n",
       "Wire_9           -0.007019     NaN -0.010651 -0.003057 -0.004604  1.000000  \n",
       "\n",
       "[30 rows x 30 columns]"
      ]
     },
     "execution_count": 57,
     "metadata": {},
     "output_type": "execute_result"
    }
   ],
   "source": [
    "pd.concat([part1, train_valid_part2], axis=0).drop(['key', 'init_temp', 'target_temp', 'last'], axis=1).corr()"
   ]
  },
  {
   "cell_type": "markdown",
   "metadata": {},
   "source": [
    "**Вывод:** В силу высокой коррелированности можно отбросить следующие признаки: `total_heat_time`. Признак `total_down_time` хоть и коррелирован с другими признаками, удаление его, как показывает дальнейший эксперимент, ухудшает целевую метрику, поэтому принято решение оставить его (его важность обусловлена физическим смыслом: чем больше этот показатель, тем больше остывает сталь)"
   ]
  },
  {
   "cell_type": "markdown",
   "metadata": {},
   "source": [
    "#### Линейная регрессия"
   ]
  },
  {
   "cell_type": "markdown",
   "metadata": {},
   "source": [
    "##### Кросс-валидация"
   ]
  },
  {
   "cell_type": "code",
   "execution_count": 58,
   "metadata": {},
   "outputs": [
    {
     "name": "stdout",
     "output_type": "stream",
     "text": [
      "{'mae': [7.432998629901968,\n",
      "         7.561360019922375,\n",
      "         7.928495942194714,\n",
      "         7.44627371773584],\n",
      " 'r2': [0.6061658162869571,\n",
      "        0.5977525408740401,\n",
      "        0.5712126003797338,\n",
      "        0.6534332911555691]}\n",
      "mae: 7.592282077438725\n",
      "r2: 0.6071410621740749\n"
     ]
    }
   ],
   "source": [
    "# Отбрасываемые признаки\n",
    "cols_to_drop = ['key', 'init_time', 'target_time', 'target_temp', 'last', 'total_heat_time']\n",
    "\n",
    "model = LinearRegression()\n",
    "scores = {'mae': [], 'r2': []}\n",
    "for train_index, valid_index in KFold(4).split(train_valid_part2):\n",
    "    train = pd.concat([part1, train_valid_part2.iloc[train_index]], axis=0)\n",
    "    valid = train_valid_part2.iloc[valid_index]\n",
    "    features_train = train.drop(cols_to_drop, axis=1)\n",
    "    features_valid = valid.drop(cols_to_drop, axis=1)\n",
    "    target_train = train['target_temp']\n",
    "    target_valid = valid['target_temp']\n",
    "    model.fit(features_train, target_train)\n",
    "    predicts = model.predict(features_valid)\n",
    "    mae = mean_absolute_error(target_valid, predicts)\n",
    "    r2 = r2_score(target_valid, predicts)\n",
    "    scores['mae'].append(mae)\n",
    "    scores['r2'].append(r2)\n",
    "\n",
    "pprint.pprint(scores)\n",
    "print('mae:', pd.Series(scores['mae']).mean())\n",
    "print('r2:', pd.Series(scores['r2']).mean())"
   ]
  },
  {
   "cell_type": "markdown",
   "metadata": {},
   "source": [
    "##### Тестирование"
   ]
  },
  {
   "cell_type": "code",
   "execution_count": 59,
   "metadata": {},
   "outputs": [
    {
     "name": "stdout",
     "output_type": "stream",
     "text": [
      "mae: 7.24369863547719\n",
      "r2: 0.5738016901024148\n"
     ]
    }
   ],
   "source": [
    "train = pd.concat([part1, train_valid_part2], axis=0)\n",
    "features_train = train.drop(cols_to_drop, axis=1)\n",
    "features_test = test.drop(cols_to_drop, axis=1)\n",
    "target_train = train['target_temp']\n",
    "target_test = test['target_temp']\n",
    "\n",
    "model.fit(features_train, target_train)\n",
    "predicts = model.predict(features_test)\n",
    "mae = mean_absolute_error(target_test, predicts)\n",
    "r2 = r2_score(target_test, predicts)\n",
    "                   \n",
    "print('mae:', mae)\n",
    "print('r2:', r2)"
   ]
  },
  {
   "cell_type": "markdown",
   "metadata": {},
   "source": [
    "**Вывод:** Финальная метрика MAE: 7.243."
   ]
  },
  {
   "cell_type": "markdown",
   "metadata": {},
   "source": [
    "#### Линейная регрессия с L1-регуляризацией"
   ]
  },
  {
   "cell_type": "markdown",
   "metadata": {},
   "source": [
    "##### Кросс-валидация"
   ]
  },
  {
   "cell_type": "raw",
   "metadata": {
    "scrolled": true
   },
   "source": [
    "cols_to_drop = ['key', 'init_time', 'target_time', 'target_temp', 'last', 'total_heat_time']\n",
    "\n",
    "mae_best = 1000\n",
    "scores = {'mae': [], 'r2': []}\n",
    "# Подбор коэффициента регуляризации\n",
    "for alpha in tqdm(np.linspace(0.1, 2., 20)):\n",
    "    model = Lasso(alpha=alpha, max_iter=5000, random_state=42)\n",
    "    scores = {'mae': [], 'r2': []}\n",
    "    for train_index, valid_index in KFold(4).split(train_valid_part2):\n",
    "        train = pd.concat([part1, train_valid_part2.iloc[train_index]], axis=0)\n",
    "        valid = train_valid_part2.iloc[valid_index]\n",
    "        features_train = train.drop(cols_to_drop, axis=1)\n",
    "        features_valid = valid.drop(cols_to_drop, axis=1)\n",
    "        target_train = train['target_temp']\n",
    "        target_valid = valid['target_temp']\n",
    "        model.fit(features_train, target_train)\n",
    "        predicts = model.predict(features_valid)\n",
    "        \n",
    "        mae = mean_absolute_error(target_valid, predicts)\n",
    "        r2 = r2_score(target_valid, predicts)\n",
    "        scores['mae'].append(mae)\n",
    "        scores['r2'].append(r2)\n",
    "\n",
    "    mean_mae = pd.Series(scores['mae']).mean()\n",
    "    mean_r2 = pd.Series(scores['r2']).mean()\n",
    "\n",
    "    if mean_mae < mae_best:\n",
    "        mae_best = mean_mae\n",
    "        alpha_best = alpha\n",
    "        \n",
    "print('Best MAE:',mae_best, 'alpha =', alpha_best)"
   ]
  },
  {
   "cell_type": "markdown",
   "metadata": {},
   "source": [
    "**Best MAE: 7.604676319223658 alpha = 0.1**"
   ]
  },
  {
   "cell_type": "markdown",
   "metadata": {},
   "source": [
    "##### Тестирование"
   ]
  },
  {
   "cell_type": "code",
   "execution_count": 62,
   "metadata": {},
   "outputs": [
    {
     "name": "stdout",
     "output_type": "stream",
     "text": [
      "mae: 7.253166947523834\n",
      "r2: 0.5726126730544978\n"
     ]
    }
   ],
   "source": [
    "alpha_best = 0.1\n",
    "\n",
    "train = pd.concat([part1, train_valid_part2], axis=0)\n",
    "features_train = train.drop(cols_to_drop, axis=1)\n",
    "features_test = test.drop(cols_to_drop, axis=1)\n",
    "target_train = train['target_temp']\n",
    "target_test = test['target_temp']\n",
    "\n",
    "model = Lasso(alpha=alpha_best, max_iter=5000, random_state=42)\n",
    "model.fit(features_train, target_train)\n",
    "predicts = model.predict(features_test)\n",
    "mae = mean_absolute_error(target_test, predicts)\n",
    "r2 = r2_score(target_test, predicts)\n",
    "                   \n",
    "print('mae:', mae)\n",
    "print('r2:', r2)"
   ]
  },
  {
   "cell_type": "markdown",
   "metadata": {},
   "source": [
    "**Вывод:** Введение L1-регуляризации не улучшило качество модели"
   ]
  },
  {
   "cell_type": "markdown",
   "metadata": {},
   "source": [
    "#### LGBMRegressor"
   ]
  },
  {
   "cell_type": "markdown",
   "metadata": {},
   "source": [
    "##### Кросс-валидация"
   ]
  },
  {
   "cell_type": "raw",
   "metadata": {
    "scrolled": true
   },
   "source": [
    "cols_to_drop = ['key', 'init_time', 'target_time', 'target_temp', 'last', 'total_heat_time']\n",
    "\n",
    "best_mae = 1000\n",
    "for num_leaves in tqdm(np.arange(31, 35, 1)):\n",
    "    parameters = {\n",
    "        'num_leaves': num_leaves,\n",
    "        'learning_rate': 0.10528268497385247,\n",
    "        'n_estimators': 1000,\n",
    "        'reg_alpha': 0.69,\n",
    "        'objective': 'mae',\n",
    "        'force_row_wise': True,\n",
    "        'silent': False,\n",
    "        'random_state': 42\n",
    "    }\n",
    "\n",
    "    model = LGBMRegressor(**parameters)\n",
    "    scores = {'mae': [], 'r2': []}\n",
    "    for train_index, valid_index in KFold(4).split(train_valid_part2):\n",
    "        train = pd.concat([part1, train_valid_part2.iloc[train_index]], axis=0)\n",
    "        valid = train_valid_part2.iloc[valid_index]\n",
    "        features_train = train.drop(cols_to_drop, axis=1)\n",
    "        features_valid = valid.drop(cols_to_drop, axis=1)\n",
    "        target_train = train['target_temp']\n",
    "        target_valid = valid['target_temp']\n",
    "        model.fit(features_train, target_train)\n",
    "        predicts = model.predict(features_valid)\n",
    "        mae = mean_absolute_error(target_valid, predicts)\n",
    "        r2 = r2_score(target_valid, predicts)\n",
    "        scores['mae'].append(mae)\n",
    "        scores['r2'].append(r2)\n",
    "        mean_mae = pd.Series(scores['mae']).mean()\n",
    "        mean_r2 = pd.Series(scores['r2']).mean()\n",
    "\n",
    "    if mean_mae < best_mae:\n",
    "        best_mae = mean_mae\n",
    "        r2_too = mean_r2\n",
    "#         best_reg_alpha = reg_alpha\n",
    "#         best_learn_rate = learn_rate\n",
    "        best_leaves = num_leaves\n",
    "\n",
    "print(best_mae, mean_r2, best_leaves)"
   ]
  },
  {
   "cell_type": "markdown",
   "metadata": {},
   "source": [
    "Отметки о промежуточных показателях при переборе параметров модели  \n",
    "**best MAE: 4.143636120465429  (num_leaves: 40)**  \n",
    "**best MAE: 4.6929207798355055 (reg_alpha: 0.69, num_leaves: 35)**  \n",
    "**best MAE: 4.168393976279727  (r2: 0.8619187792216988, reg_alpha: 0.69, num_leaves: 35, learn_rate: 0.10528268497385247)**"
   ]
  },
  {
   "cell_type": "code",
   "execution_count": 67,
   "metadata": {},
   "outputs": [
    {
     "name": "stdout",
     "output_type": "stream",
     "text": [
      "[LightGBM] [Info] Total Bins 3187\n",
      "[LightGBM] [Info] Number of data points in the train set: 9285, number of used features: 27\n",
      "[LightGBM] [Info] Start training from score 1591.000000\n",
      "mae: 4.146892814134213\n",
      "r2: 0.8433590647792633\n"
     ]
    }
   ],
   "source": [
    "train = pd.concat([part1, train_valid_part2], axis=0)\n",
    "features_train = train.drop(cols_to_drop, axis=1)\n",
    "features_test = test.drop(cols_to_drop, axis=1)\n",
    "target_train = train['target_temp']\n",
    "target_test = test['target_temp']\n",
    "\n",
    "parameters = {\n",
    "        'num_leaves': 35,\n",
    "        'learning_rate': 0.10528268497385247,\n",
    "        'n_estimators': 1000,\n",
    "        'reg_alpha': 0.69,\n",
    "        'objective': 'mae',\n",
    "        'force_row_wise': True,\n",
    "        'silent': False,\n",
    "        'random_state': 42\n",
    "    }\n",
    "model = LGBMRegressor(**parameters)\n",
    "model.fit(features_train, target_train)\n",
    "predicts = model.predict(features_test)\n",
    "mae = mean_absolute_error(target_test, predicts)\n",
    "r2 = r2_score(target_test, predicts)\n",
    "                   \n",
    "print('mae:', mae)\n",
    "print('r2:', r2)"
   ]
  },
  {
   "cell_type": "markdown",
   "metadata": {},
   "source": [
    "**МАЕ: 4.162**\n",
    "(к сожалению, при таких параметрах модель обучается очень долго на сервере Яндекс.Практикума, данные показатели качества я получил на локальной машине и скопировал результат в данный отчет)"
   ]
  },
  {
   "cell_type": "markdown",
   "metadata": {},
   "source": [
    "**График важности фичей**"
   ]
  },
  {
   "cell_type": "code",
   "execution_count": 63,
   "metadata": {},
   "outputs": [
    {
     "data": {
      "image/png": "[encoded data removed]",
      "text/plain": [
       "<Figure size 432x1008 with 1 Axes>"
      ]
     },
     "metadata": {
      "needs_background": "light"
     },
     "output_type": "display_data"
    }
   ],
   "source": [
    "fig, ax = plt.subplots(figsize=(6, 14))\n",
    "feat_importance_df = pd.DataFrame({'val': model.feature_importances_}, index=model.feature_name_)\n",
    "feat_importance_df = feat_importance_df.sort_values('val', ascending=True)\n",
    "ax.barh(feat_importance_df.index, feat_importance_df.val)\n",
    "ax.grid(True, axis='x')"
   ]
  },
  {
   "cell_type": "code",
   "execution_count": 64,
   "metadata": {},
   "outputs": [
    {
     "data": {
      "text/plain": [
       "['Bulk_11',\n",
       " 'Bulk_1',\n",
       " 'Bulk_10',\n",
       " 'Bulk_6',\n",
       " 'heat_count',\n",
       " 'Bulk_4',\n",
       " 'Wire_2',\n",
       " 'Bulk_3',\n",
       " 'Bulk_15',\n",
       " 'Bulk_12',\n",
       " 'Bulk_14',\n",
       " 'Wire_1',\n",
       " 'total_time',\n",
       " 'init_temp',\n",
       " 'energy_taken',\n",
       " 'total_downtime',\n",
       " 'mean_power_ratio']"
      ]
     },
     "execution_count": 64,
     "metadata": {},
     "output_type": "execute_result"
    }
   ],
   "source": [
    "# Список фичей, представляющих наибольший вклад в результат\n",
    "important_features = feat_importance_df.index[-17:].tolist()\n",
    "important_features"
   ]
  },
  {
   "cell_type": "markdown",
   "metadata": {},
   "source": [
    "##### Тестирование"
   ]
  },
  {
   "cell_type": "code",
   "execution_count": 65,
   "metadata": {},
   "outputs": [
    {
     "name": "stdout",
     "output_type": "stream",
     "text": [
      "[LightGBM] [Info] Total Bins 3008\n",
      "[LightGBM] [Info] Number of data points in the train set: 9285, number of used features: 17\n",
      "[LightGBM] [Info] Start training from score 1591.000000\n",
      "mae: 4.08948004723877\n",
      "r2: 0.8464512308763189\n"
     ]
    }
   ],
   "source": [
    "train = pd.concat([part1, train_valid_part2], axis=0)\n",
    "features_train = train.loc[:, important_features]\n",
    "features_test = test.loc[:, important_features]\n",
    "target_train = train['target_temp']\n",
    "target_test = test['target_temp']\n",
    "\n",
    "parameters = {\n",
    "        'num_leaves': 35,\n",
    "        'learning_rate': 0.10528268497385247,\n",
    "        'n_estimators': 1000,\n",
    "        'reg_alpha': 0.69,\n",
    "        'objective': 'mae',\n",
    "        'force_row_wise': True,\n",
    "        'silent': False,\n",
    "        'random_state': 42\n",
    "    }\n",
    "model = LGBMRegressor(**parameters)\n",
    "model.fit(features_train, target_train)\n",
    "predicts = model.predict(features_test)\n",
    "mae = mean_absolute_error(target_test, predicts)\n",
    "r2 = r2_score(target_test, predicts)\n",
    "                   \n",
    "print('mae:', mae)\n",
    "print('r2:', r2)"
   ]
  },
  {
   "cell_type": "markdown",
   "metadata": {},
   "source": [
    "**Вывод:** Финальный МАЕ: 4.089 (результат несколько улучшился после оставления только тех фичей, которые вносят значительный вклад)"
   ]
  },
  {
   "cell_type": "markdown",
   "metadata": {},
   "source": [
    "### 4 Вывод<a id=\"step4\"></a>\n",
    "\n",
    "Зачетными показателями качества обладает модель LGBMRegressor (MAE = 4.089), при этом модель обладает высоким коэффициентом детерминации (R2 = 84%)"
   ]
  }
 ],
 "metadata": {
  "kernelspec": {
   "display_name": "Python 3",
   "language": "python",
   "name": "python3"
  },
  "language_info": {
   "codemirror_mode": {
    "name": "ipython",
    "version": 3
   },
   "file_extension": ".py",
   "mimetype": "text/x-python",
   "name": "python",
   "nbconvert_exporter": "python",
   "pygments_lexer": "ipython3",
   "version": "3.8.10"
  },
  "toc": {
   "base_numbering": 1,
   "nav_menu": {},
   "number_sections": true,
   "sideBar": true,
   "skip_h1_title": false,
   "title_cell": "Table of Contents",
   "title_sidebar": "Contents",
   "toc_cell": false,
   "toc_position": {},
   "toc_section_display": true,
   "toc_window_display": false
  }
 },
 "nbformat": 4,
 "nbformat_minor": 4
}
