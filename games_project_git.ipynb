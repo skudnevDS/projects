{
 "cells": [
  {
   "cell_type": "markdown",
   "metadata": {},
   "source": [
    "# Описание проекта\n",
    "\n",
    "Интернет-магазину \"Стримчик\", продающему компьютерные игры по всему миру, требуется сделать ставку на потенциально популярный продукт и спланировать рекламные кампании на 2017й год по данным о продажах игр, оценках пользователей и экспертов, жанрах и платформах за 2016й год. Нужно выявить определяющие успешность игры закономерности.\n",
    "\n",
    "**Описание данных**\n",
    "- Name — название игры\n",
    "- Platform — платформа\n",
    "- Year_of_Release — год выпуска\n",
    "- Genre — жанр игры\n",
    "- NA_sales — продажи в Северной Америке (миллионы проданных копий)\n",
    "- EU_sales — продажи в Европе (миллионы проданных копий)\n",
    "- JP_sales — продажи в Японии (миллионы проданных копий)\n",
    "- Other_sales — продажи в других странах (миллионы проданных копий)\n",
    "- Critic_Score — оценка критиков (максимум 100)\n",
    "- User_Score — оценка пользователей (максимум 10)\n",
    "- Rating — рейтинг от организации ESRB (англ. Entertainment Software Rating Board). Эта ассоциация определяет рейтинг компьютерных игр и присваивает им подходящую возрастную категорию.\n",
    "\n",
    "Данные за 2016 год могут быть неполными.\n",
    "\n",
    "**Содержание**\n",
    "* [Шаг 1. Общая информация о данных](#step1)\n",
    "* [Шаг 2. Подготовка данных](#step2)\n",
    "* [Шаг 3. Исследовательский анализ данных](#step3)\n",
    "* [Шаг 4. Портрет пользователя каждого региона](#step4)\n",
    "* [Шаг 5. Проверка гипотез](#step5)\n",
    "* [Шаг 6. Общий вывод](#step6)"
   ]
  },
  {
   "cell_type": "markdown",
   "metadata": {},
   "source": [
    "### Шаг 1. Общая информация о данных<a id='step1'></a>"
   ]
  },
  {
   "cell_type": "code",
   "execution_count": 1,
   "metadata": {},
   "outputs": [],
   "source": [
    "import pandas as pd\n",
    "import numpy as np\n",
    "import matplotlib.pyplot as plt\n",
    "from scipy.stats import ttest_ind"
   ]
  },
  {
   "cell_type": "code",
   "execution_count": 2,
   "metadata": {},
   "outputs": [],
   "source": [
    "# Чтение данных из файла\n",
    "try:\n",
    "    data = pd.read_csv('/datasets/games.csv')\n",
    "except:\n",
    "    data = pd.read_csv(r'games.csv')"
   ]
  },
  {
   "cell_type": "code",
   "execution_count": 3,
   "metadata": {},
   "outputs": [
    {
     "data": {
      "text/html": [
       "<div>\n",
       "<style scoped>\n",
       "    .dataframe tbody tr th:only-of-type {\n",
       "        vertical-align: middle;\n",
       "    }\n",
       "\n",
       "    .dataframe tbody tr th {\n",
       "        vertical-align: top;\n",
       "    }\n",
       "\n",
       "    .dataframe thead th {\n",
       "        text-align: right;\n",
       "    }\n",
       "</style>\n",
       "<table border=\"1\" class=\"dataframe\">\n",
       "  <thead>\n",
       "    <tr style=\"text-align: right;\">\n",
       "      <th></th>\n",
       "      <th>Name</th>\n",
       "      <th>Platform</th>\n",
       "      <th>Year_of_Release</th>\n",
       "      <th>Genre</th>\n",
       "      <th>NA_sales</th>\n",
       "      <th>EU_sales</th>\n",
       "      <th>JP_sales</th>\n",
       "      <th>Other_sales</th>\n",
       "      <th>Critic_Score</th>\n",
       "      <th>User_Score</th>\n",
       "      <th>Rating</th>\n",
       "    </tr>\n",
       "  </thead>\n",
       "  <tbody>\n",
       "    <tr>\n",
       "      <td>0</td>\n",
       "      <td>Wii Sports</td>\n",
       "      <td>Wii</td>\n",
       "      <td>2006.0</td>\n",
       "      <td>Sports</td>\n",
       "      <td>41.36</td>\n",
       "      <td>28.96</td>\n",
       "      <td>3.77</td>\n",
       "      <td>8.45</td>\n",
       "      <td>76.0</td>\n",
       "      <td>8</td>\n",
       "      <td>E</td>\n",
       "    </tr>\n",
       "    <tr>\n",
       "      <td>1</td>\n",
       "      <td>Super Mario Bros.</td>\n",
       "      <td>NES</td>\n",
       "      <td>1985.0</td>\n",
       "      <td>Platform</td>\n",
       "      <td>29.08</td>\n",
       "      <td>3.58</td>\n",
       "      <td>6.81</td>\n",
       "      <td>0.77</td>\n",
       "      <td>NaN</td>\n",
       "      <td>NaN</td>\n",
       "      <td>NaN</td>\n",
       "    </tr>\n",
       "    <tr>\n",
       "      <td>2</td>\n",
       "      <td>Mario Kart Wii</td>\n",
       "      <td>Wii</td>\n",
       "      <td>2008.0</td>\n",
       "      <td>Racing</td>\n",
       "      <td>15.68</td>\n",
       "      <td>12.76</td>\n",
       "      <td>3.79</td>\n",
       "      <td>3.29</td>\n",
       "      <td>82.0</td>\n",
       "      <td>8.3</td>\n",
       "      <td>E</td>\n",
       "    </tr>\n",
       "    <tr>\n",
       "      <td>3</td>\n",
       "      <td>Wii Sports Resort</td>\n",
       "      <td>Wii</td>\n",
       "      <td>2009.0</td>\n",
       "      <td>Sports</td>\n",
       "      <td>15.61</td>\n",
       "      <td>10.93</td>\n",
       "      <td>3.28</td>\n",
       "      <td>2.95</td>\n",
       "      <td>80.0</td>\n",
       "      <td>8</td>\n",
       "      <td>E</td>\n",
       "    </tr>\n",
       "    <tr>\n",
       "      <td>4</td>\n",
       "      <td>Pokemon Red/Pokemon Blue</td>\n",
       "      <td>GB</td>\n",
       "      <td>1996.0</td>\n",
       "      <td>Role-Playing</td>\n",
       "      <td>11.27</td>\n",
       "      <td>8.89</td>\n",
       "      <td>10.22</td>\n",
       "      <td>1.00</td>\n",
       "      <td>NaN</td>\n",
       "      <td>NaN</td>\n",
       "      <td>NaN</td>\n",
       "    </tr>\n",
       "    <tr>\n",
       "      <td>...</td>\n",
       "      <td>...</td>\n",
       "      <td>...</td>\n",
       "      <td>...</td>\n",
       "      <td>...</td>\n",
       "      <td>...</td>\n",
       "      <td>...</td>\n",
       "      <td>...</td>\n",
       "      <td>...</td>\n",
       "      <td>...</td>\n",
       "      <td>...</td>\n",
       "      <td>...</td>\n",
       "    </tr>\n",
       "    <tr>\n",
       "      <td>16710</td>\n",
       "      <td>Samurai Warriors: Sanada Maru</td>\n",
       "      <td>PS3</td>\n",
       "      <td>2016.0</td>\n",
       "      <td>Action</td>\n",
       "      <td>0.00</td>\n",
       "      <td>0.00</td>\n",
       "      <td>0.01</td>\n",
       "      <td>0.00</td>\n",
       "      <td>NaN</td>\n",
       "      <td>NaN</td>\n",
       "      <td>NaN</td>\n",
       "    </tr>\n",
       "    <tr>\n",
       "      <td>16711</td>\n",
       "      <td>LMA Manager 2007</td>\n",
       "      <td>X360</td>\n",
       "      <td>2006.0</td>\n",
       "      <td>Sports</td>\n",
       "      <td>0.00</td>\n",
       "      <td>0.01</td>\n",
       "      <td>0.00</td>\n",
       "      <td>0.00</td>\n",
       "      <td>NaN</td>\n",
       "      <td>NaN</td>\n",
       "      <td>NaN</td>\n",
       "    </tr>\n",
       "    <tr>\n",
       "      <td>16712</td>\n",
       "      <td>Haitaka no Psychedelica</td>\n",
       "      <td>PSV</td>\n",
       "      <td>2016.0</td>\n",
       "      <td>Adventure</td>\n",
       "      <td>0.00</td>\n",
       "      <td>0.00</td>\n",
       "      <td>0.01</td>\n",
       "      <td>0.00</td>\n",
       "      <td>NaN</td>\n",
       "      <td>NaN</td>\n",
       "      <td>NaN</td>\n",
       "    </tr>\n",
       "    <tr>\n",
       "      <td>16713</td>\n",
       "      <td>Spirits &amp; Spells</td>\n",
       "      <td>GBA</td>\n",
       "      <td>2003.0</td>\n",
       "      <td>Platform</td>\n",
       "      <td>0.01</td>\n",
       "      <td>0.00</td>\n",
       "      <td>0.00</td>\n",
       "      <td>0.00</td>\n",
       "      <td>NaN</td>\n",
       "      <td>NaN</td>\n",
       "      <td>NaN</td>\n",
       "    </tr>\n",
       "    <tr>\n",
       "      <td>16714</td>\n",
       "      <td>Winning Post 8 2016</td>\n",
       "      <td>PSV</td>\n",
       "      <td>2016.0</td>\n",
       "      <td>Simulation</td>\n",
       "      <td>0.00</td>\n",
       "      <td>0.00</td>\n",
       "      <td>0.01</td>\n",
       "      <td>0.00</td>\n",
       "      <td>NaN</td>\n",
       "      <td>NaN</td>\n",
       "      <td>NaN</td>\n",
       "    </tr>\n",
       "  </tbody>\n",
       "</table>\n",
       "<p>16715 rows × 11 columns</p>\n",
       "</div>"
      ],
      "text/plain": [
       "                                Name Platform  Year_of_Release         Genre  \\\n",
       "0                         Wii Sports      Wii           2006.0        Sports   \n",
       "1                  Super Mario Bros.      NES           1985.0      Platform   \n",
       "2                     Mario Kart Wii      Wii           2008.0        Racing   \n",
       "3                  Wii Sports Resort      Wii           2009.0        Sports   \n",
       "4           Pokemon Red/Pokemon Blue       GB           1996.0  Role-Playing   \n",
       "...                              ...      ...              ...           ...   \n",
       "16710  Samurai Warriors: Sanada Maru      PS3           2016.0        Action   \n",
       "16711               LMA Manager 2007     X360           2006.0        Sports   \n",
       "16712        Haitaka no Psychedelica      PSV           2016.0     Adventure   \n",
       "16713               Spirits & Spells      GBA           2003.0      Platform   \n",
       "16714            Winning Post 8 2016      PSV           2016.0    Simulation   \n",
       "\n",
       "       NA_sales  EU_sales  JP_sales  Other_sales  Critic_Score User_Score  \\\n",
       "0         41.36     28.96      3.77         8.45          76.0          8   \n",
       "1         29.08      3.58      6.81         0.77           NaN        NaN   \n",
       "2         15.68     12.76      3.79         3.29          82.0        8.3   \n",
       "3         15.61     10.93      3.28         2.95          80.0          8   \n",
       "4         11.27      8.89     10.22         1.00           NaN        NaN   \n",
       "...         ...       ...       ...          ...           ...        ...   \n",
       "16710      0.00      0.00      0.01         0.00           NaN        NaN   \n",
       "16711      0.00      0.01      0.00         0.00           NaN        NaN   \n",
       "16712      0.00      0.00      0.01         0.00           NaN        NaN   \n",
       "16713      0.01      0.00      0.00         0.00           NaN        NaN   \n",
       "16714      0.00      0.00      0.01         0.00           NaN        NaN   \n",
       "\n",
       "      Rating  \n",
       "0          E  \n",
       "1        NaN  \n",
       "2          E  \n",
       "3          E  \n",
       "4        NaN  \n",
       "...      ...  \n",
       "16710    NaN  \n",
       "16711    NaN  \n",
       "16712    NaN  \n",
       "16713    NaN  \n",
       "16714    NaN  \n",
       "\n",
       "[16715 rows x 11 columns]"
      ]
     },
     "execution_count": 3,
     "metadata": {},
     "output_type": "execute_result"
    }
   ],
   "source": [
    "# Отображение данных\n",
    "data"
   ]
  },
  {
   "cell_type": "code",
   "execution_count": 4,
   "metadata": {},
   "outputs": [
    {
     "name": "stdout",
     "output_type": "stream",
     "text": [
      "<class 'pandas.core.frame.DataFrame'>\n",
      "RangeIndex: 16715 entries, 0 to 16714\n",
      "Data columns (total 11 columns):\n",
      "Name               16713 non-null object\n",
      "Platform           16715 non-null object\n",
      "Year_of_Release    16446 non-null float64\n",
      "Genre              16713 non-null object\n",
      "NA_sales           16715 non-null float64\n",
      "EU_sales           16715 non-null float64\n",
      "JP_sales           16715 non-null float64\n",
      "Other_sales        16715 non-null float64\n",
      "Critic_Score       8137 non-null float64\n",
      "User_Score         10014 non-null object\n",
      "Rating             9949 non-null object\n",
      "dtypes: float64(6), object(5)\n",
      "memory usage: 1.4+ MB\n"
     ]
    }
   ],
   "source": [
    "# Общая информация о данных\n",
    "data.info()"
   ]
  },
  {
   "cell_type": "markdown",
   "metadata": {},
   "source": [
    "##### Вывод\n",
    "\n",
    "Пропуски в колонке `Critic_Score` встречаются в 49% записей, в колонках `User_Score` и `Rating` пропуски встречаются в 60% записей. Также есть небольшое количество пропусков в колонке `Year_of_release` (1.6%) и всего 2 пропуска в столбце `Name`"
   ]
  },
  {
   "cell_type": "markdown",
   "metadata": {},
   "source": [
    "### Шаг 2. Подготовка данных<a id='step2'></a>"
   ]
  },
  {
   "cell_type": "markdown",
   "metadata": {},
   "source": [
    "#### 2.1 Приведение названий столбцов к нижнему регистру"
   ]
  },
  {
   "cell_type": "code",
   "execution_count": 5,
   "metadata": {
    "scrolled": true
   },
   "outputs": [],
   "source": [
    "data.columns = [col_name.lower() for col_name in data.columns]"
   ]
  },
  {
   "cell_type": "markdown",
   "metadata": {},
   "source": [
    "#### 2.2 Преобразование данных в нужные типы"
   ]
  },
  {
   "cell_type": "markdown",
   "metadata": {},
   "source": [
    "##### Обработка столбца \"user_score\""
   ]
  },
  {
   "cell_type": "code",
   "execution_count": 6,
   "metadata": {},
   "outputs": [
    {
     "data": {
      "text/plain": [
       "['tbd']"
      ]
     },
     "execution_count": 6,
     "metadata": {},
     "output_type": "execute_result"
    }
   ],
   "source": [
    "# Поиск нечисловых строковых данных в столбце \"user_score\"\n",
    "L = []\n",
    "for x in data[data['user_score'].notna()]['user_score'].unique():\n",
    "    for part_x in x.split('.'):\n",
    "        if not part_x.isnumeric():\n",
    "            L.append(x)\n",
    "            break\n",
    "\n",
    "# Отображение найденных значений\n",
    "L"
   ]
  },
  {
   "cell_type": "code",
   "execution_count": 7,
   "metadata": {},
   "outputs": [
    {
     "data": {
      "text/plain": [
       "0.1450194436135208"
      ]
     },
     "execution_count": 7,
     "metadata": {},
     "output_type": "execute_result"
    }
   ],
   "source": [
    "# Оценка доли записей, содержащих в столбце \"user_score\" значение 'tbd' \n",
    "len(data[data['user_score'] == 'tbd']) / len(data)"
   ]
  },
  {
   "cell_type": "code",
   "execution_count": 8,
   "metadata": {},
   "outputs": [],
   "source": [
    "# Аббревиатура 'TBD' расшифровывается как 'To Be Determined' (будет определено в будущем),\n",
    "# это означает, что на момент выгрузки данных информация о пользовательском рейтинге отсутствовала,\n",
    "# можно заменить данное значение на NaN\n",
    "data['user_score'] = data['user_score'].where(data['user_score'] != 'tbd', np.NaN)"
   ]
  },
  {
   "cell_type": "code",
   "execution_count": 9,
   "metadata": {},
   "outputs": [],
   "source": [
    "# Приведение к типу \"float\"\n",
    "data['user_score'] = data['user_score'].astype('float64')"
   ]
  },
  {
   "cell_type": "markdown",
   "metadata": {},
   "source": [
    "#### 2.3 Обработка пропусков"
   ]
  },
  {
   "cell_type": "markdown",
   "metadata": {},
   "source": [
    "##### Обработка пропусков в столбце \"name\""
   ]
  },
  {
   "cell_type": "code",
   "execution_count": 10,
   "metadata": {},
   "outputs": [
    {
     "data": {
      "text/html": [
       "<div>\n",
       "<style scoped>\n",
       "    .dataframe tbody tr th:only-of-type {\n",
       "        vertical-align: middle;\n",
       "    }\n",
       "\n",
       "    .dataframe tbody tr th {\n",
       "        vertical-align: top;\n",
       "    }\n",
       "\n",
       "    .dataframe thead th {\n",
       "        text-align: right;\n",
       "    }\n",
       "</style>\n",
       "<table border=\"1\" class=\"dataframe\">\n",
       "  <thead>\n",
       "    <tr style=\"text-align: right;\">\n",
       "      <th></th>\n",
       "      <th>name</th>\n",
       "      <th>platform</th>\n",
       "      <th>year_of_release</th>\n",
       "      <th>genre</th>\n",
       "      <th>na_sales</th>\n",
       "      <th>eu_sales</th>\n",
       "      <th>jp_sales</th>\n",
       "      <th>other_sales</th>\n",
       "      <th>critic_score</th>\n",
       "      <th>user_score</th>\n",
       "      <th>rating</th>\n",
       "    </tr>\n",
       "  </thead>\n",
       "  <tbody>\n",
       "    <tr>\n",
       "      <td>659</td>\n",
       "      <td>NaN</td>\n",
       "      <td>GEN</td>\n",
       "      <td>1993.0</td>\n",
       "      <td>NaN</td>\n",
       "      <td>1.78</td>\n",
       "      <td>0.53</td>\n",
       "      <td>0.00</td>\n",
       "      <td>0.08</td>\n",
       "      <td>NaN</td>\n",
       "      <td>NaN</td>\n",
       "      <td>NaN</td>\n",
       "    </tr>\n",
       "    <tr>\n",
       "      <td>14244</td>\n",
       "      <td>NaN</td>\n",
       "      <td>GEN</td>\n",
       "      <td>1993.0</td>\n",
       "      <td>NaN</td>\n",
       "      <td>0.00</td>\n",
       "      <td>0.00</td>\n",
       "      <td>0.03</td>\n",
       "      <td>0.00</td>\n",
       "      <td>NaN</td>\n",
       "      <td>NaN</td>\n",
       "      <td>NaN</td>\n",
       "    </tr>\n",
       "  </tbody>\n",
       "</table>\n",
       "</div>"
      ],
      "text/plain": [
       "      name platform  year_of_release genre  na_sales  eu_sales  jp_sales  \\\n",
       "659    NaN      GEN           1993.0   NaN      1.78      0.53      0.00   \n",
       "14244  NaN      GEN           1993.0   NaN      0.00      0.00      0.03   \n",
       "\n",
       "       other_sales  critic_score  user_score rating  \n",
       "659           0.08           NaN         NaN    NaN  \n",
       "14244         0.00           NaN         NaN    NaN  "
      ]
     },
     "execution_count": 10,
     "metadata": {},
     "output_type": "execute_result"
    }
   ],
   "source": [
    "# Отобразим данные об играх с отстутствующим названием\n",
    "data[data['name'].isna()]"
   ]
  },
  {
   "cell_type": "code",
   "execution_count": 11,
   "metadata": {},
   "outputs": [],
   "source": [
    "# Игры с отстутствующими названиями являются довольно старыми (1993г.),\n",
    "# не содержат информации о рейтинге и об оценках, за их малостью их можно удалить\n",
    "data = data.dropna(subset=['name']).reset_index(drop=True)"
   ]
  },
  {
   "cell_type": "markdown",
   "metadata": {},
   "source": [
    "##### Обработка пропусков в столбце \"year_of_release\""
   ]
  },
  {
   "cell_type": "code",
   "execution_count": 12,
   "metadata": {},
   "outputs": [],
   "source": [
    "# Создадим список имен игр с отсутствующим годом выпуска\n",
    "missing_year_games = data.query('year_of_release.isna()').pivot_table(index='name').index"
   ]
  },
  {
   "cell_type": "code",
   "execution_count": 13,
   "metadata": {},
   "outputs": [
    {
     "data": {
      "text/html": [
       "<div>\n",
       "<style scoped>\n",
       "    .dataframe tbody tr th:only-of-type {\n",
       "        vertical-align: middle;\n",
       "    }\n",
       "\n",
       "    .dataframe tbody tr th {\n",
       "        vertical-align: top;\n",
       "    }\n",
       "\n",
       "    .dataframe thead th {\n",
       "        text-align: right;\n",
       "    }\n",
       "</style>\n",
       "<table border=\"1\" class=\"dataframe\">\n",
       "  <thead>\n",
       "    <tr style=\"text-align: right;\">\n",
       "      <th></th>\n",
       "      <th>name</th>\n",
       "      <th>year_of_release</th>\n",
       "      <th>platform</th>\n",
       "    </tr>\n",
       "  </thead>\n",
       "  <tbody>\n",
       "    <tr>\n",
       "      <td>9826</td>\n",
       "      <td>WRC: FIA World Rally Championship</td>\n",
       "      <td>NaN</td>\n",
       "      <td>X360</td>\n",
       "    </tr>\n",
       "    <tr>\n",
       "      <td>16178</td>\n",
       "      <td>WRC: FIA World Rally Championship</td>\n",
       "      <td>NaN</td>\n",
       "      <td>PC</td>\n",
       "    </tr>\n",
       "    <tr>\n",
       "      <td>2772</td>\n",
       "      <td>WarioWare: Twisted!</td>\n",
       "      <td>NaN</td>\n",
       "      <td>GBA</td>\n",
       "    </tr>\n",
       "    <tr>\n",
       "      <td>3277</td>\n",
       "      <td>Wet</td>\n",
       "      <td>2009.0</td>\n",
       "      <td>PS3</td>\n",
       "    </tr>\n",
       "    <tr>\n",
       "      <td>3996</td>\n",
       "      <td>Wet</td>\n",
       "      <td>NaN</td>\n",
       "      <td>X360</td>\n",
       "    </tr>\n",
       "    <tr>\n",
       "      <td>1576</td>\n",
       "      <td>Wheel of Fortune</td>\n",
       "      <td>1998.0</td>\n",
       "      <td>PS</td>\n",
       "    </tr>\n",
       "    <tr>\n",
       "      <td>4661</td>\n",
       "      <td>Wheel of Fortune</td>\n",
       "      <td>2010.0</td>\n",
       "      <td>DS</td>\n",
       "    </tr>\n",
       "    <tr>\n",
       "      <td>6669</td>\n",
       "      <td>Wheel of Fortune</td>\n",
       "      <td>1997.0</td>\n",
       "      <td>N64</td>\n",
       "    </tr>\n",
       "    <tr>\n",
       "      <td>2123</td>\n",
       "      <td>Wheel of Fortune</td>\n",
       "      <td>2010.0</td>\n",
       "      <td>Wii</td>\n",
       "    </tr>\n",
       "    <tr>\n",
       "      <td>2156</td>\n",
       "      <td>Wheel of Fortune</td>\n",
       "      <td>NaN</td>\n",
       "      <td>PS2</td>\n",
       "    </tr>\n",
       "    <tr>\n",
       "      <td>15079</td>\n",
       "      <td>Wii de Asobu: Metroid Prime</td>\n",
       "      <td>NaN</td>\n",
       "      <td>Wii</td>\n",
       "    </tr>\n",
       "    <tr>\n",
       "      <td>15814</td>\n",
       "      <td>Without Warning</td>\n",
       "      <td>NaN</td>\n",
       "      <td>XB</td>\n",
       "    </tr>\n",
       "    <tr>\n",
       "      <td>14051</td>\n",
       "      <td>Without Warning</td>\n",
       "      <td>2005.0</td>\n",
       "      <td>PS2</td>\n",
       "    </tr>\n",
       "    <tr>\n",
       "      <td>14683</td>\n",
       "      <td>World of Tanks</td>\n",
       "      <td>NaN</td>\n",
       "      <td>X360</td>\n",
       "    </tr>\n",
       "    <tr>\n",
       "      <td>6076</td>\n",
       "      <td>World of Tanks</td>\n",
       "      <td>2011.0</td>\n",
       "      <td>PC</td>\n",
       "    </tr>\n",
       "    <tr>\n",
       "      <td>15702</td>\n",
       "      <td>Writing and Speaking Beautiful Japanese DS</td>\n",
       "      <td>NaN</td>\n",
       "      <td>DS</td>\n",
       "    </tr>\n",
       "    <tr>\n",
       "      <td>2168</td>\n",
       "      <td>Yakuza 4</td>\n",
       "      <td>NaN</td>\n",
       "      <td>PS3</td>\n",
       "    </tr>\n",
       "    <tr>\n",
       "      <td>11956</td>\n",
       "      <td>Yoostar on MTV</td>\n",
       "      <td>NaN</td>\n",
       "      <td>X360</td>\n",
       "    </tr>\n",
       "    <tr>\n",
       "      <td>7331</td>\n",
       "      <td>Yu Yu Hakusho: Dark Tournament</td>\n",
       "      <td>NaN</td>\n",
       "      <td>PS2</td>\n",
       "    </tr>\n",
       "    <tr>\n",
       "      <td>15555</td>\n",
       "      <td>Yu-Gi-Oh! 5D's Wheelie Breakers (JP sales)</td>\n",
       "      <td>NaN</td>\n",
       "      <td>Wii</td>\n",
       "    </tr>\n",
       "    <tr>\n",
       "      <td>11432</td>\n",
       "      <td>Zero: Tsukihami no Kamen</td>\n",
       "      <td>NaN</td>\n",
       "      <td>Wii</td>\n",
       "    </tr>\n",
       "    <tr>\n",
       "      <td>8883</td>\n",
       "      <td>eJay Clubworld</td>\n",
       "      <td>NaN</td>\n",
       "      <td>PS2</td>\n",
       "    </tr>\n",
       "    <tr>\n",
       "      <td>475</td>\n",
       "      <td>wwe Smackdown vs. Raw 2006</td>\n",
       "      <td>NaN</td>\n",
       "      <td>PS2</td>\n",
       "    </tr>\n",
       "  </tbody>\n",
       "</table>\n",
       "</div>"
      ],
      "text/plain": [
       "                                             name  year_of_release platform\n",
       "9826            WRC: FIA World Rally Championship              NaN     X360\n",
       "16178           WRC: FIA World Rally Championship              NaN       PC\n",
       "2772                          WarioWare: Twisted!              NaN      GBA\n",
       "3277                                          Wet           2009.0      PS3\n",
       "3996                                          Wet              NaN     X360\n",
       "1576                             Wheel of Fortune           1998.0       PS\n",
       "4661                             Wheel of Fortune           2010.0       DS\n",
       "6669                             Wheel of Fortune           1997.0      N64\n",
       "2123                             Wheel of Fortune           2010.0      Wii\n",
       "2156                             Wheel of Fortune              NaN      PS2\n",
       "15079                 Wii de Asobu: Metroid Prime              NaN      Wii\n",
       "15814                             Without Warning              NaN       XB\n",
       "14051                             Without Warning           2005.0      PS2\n",
       "14683                              World of Tanks              NaN     X360\n",
       "6076                               World of Tanks           2011.0       PC\n",
       "15702  Writing and Speaking Beautiful Japanese DS              NaN       DS\n",
       "2168                                     Yakuza 4              NaN      PS3\n",
       "11956                              Yoostar on MTV              NaN     X360\n",
       "7331               Yu Yu Hakusho: Dark Tournament              NaN      PS2\n",
       "15555  Yu-Gi-Oh! 5D's Wheelie Breakers (JP sales)              NaN      Wii\n",
       "11432                    Zero: Tsukihami no Kamen              NaN      Wii\n",
       "8883                               eJay Clubworld              NaN      PS2\n",
       "475                    wwe Smackdown vs. Raw 2006              NaN      PS2"
      ]
     },
     "execution_count": 13,
     "metadata": {},
     "output_type": "execute_result"
    }
   ],
   "source": [
    "# Осуществим поиск совпадающих имен игр для других платформ или игры с указанным годом выпуска в имени\n",
    "(data\n",
    "    .query('name.isin(@missing_year_games)')[['name', 'year_of_release', 'platform']]\n",
    "    .sort_values(by='name')\n",
    "    .iloc[450:480]\n",
    ")"
   ]
  },
  {
   "cell_type": "code",
   "execution_count": 14,
   "metadata": {},
   "outputs": [],
   "source": [
    "data.loc[16291, 'year_of_release'] = 2011\n",
    "data.loc[5654, 'year_of_release'] = 2005\n",
    "data.loc[8917, 'year_of_release'] = 2005\n",
    "data.loc[16155, 'year_of_release'] = 2003\n",
    "data.loc[13608, 'year_of_release'] = 2011\n",
    "data.loc[14744, 'year_of_release'] = 2011\n",
    "data.loc[9217, 'year_of_release'] = 2010\n",
    "data.loc[5442, 'year_of_release'] = 2010\n",
    "data.loc[9042, 'year_of_release'] = 2010\n",
    "data.loc[6817, 'year_of_release'] = 2010\n",
    "data.loc[16327, 'year_of_release'] = 2012\n",
    "data.loc[15673, 'year_of_release'] = 2006\n",
    "data.loc[718, 'year_of_release'] = 2006\n",
    "data.loc[1130, 'year_of_release'] = 2010\n",
    "data.loc[12895, 'year_of_release'] = 2011\n",
    "data.loc[13059, 'year_of_release'] = 2011\n",
    "data.loc[6623, 'year_of_release'] = 2006\n",
    "data.loc[5491, 'year_of_release'] = 2004\n",
    "data.loc[16057, 'year_of_release'] = 2011\n",
    "data.loc[6898, 'year_of_release'] = 2013\n",
    "data.loc[11953, 'year_of_release'] = 2013\n",
    "data.loc[7723, 'year_of_release'] = 2013\n",
    "data.loc[3703, 'year_of_release'] = 2004\n",
    "data.loc[15964, 'year_of_release'] = 2003\n",
    "data.loc[10464, 'year_of_release'] = 2006\n",
    "data.loc[9292, 'year_of_release'] = 2006\n",
    "data.loc[377, 'year_of_release'] = 2003\n",
    "data.loc[5587, 'year_of_release'] = 2006\n",
    "data.loc[16403, 'year_of_release'] = 2003\n",
    "data.loc[13780, 'year_of_release'] = 2008\n",
    "data.loc[13141, 'year_of_release'] = 2008\n",
    "data.loc[11549, 'year_of_release'] = 2010\n",
    "data.loc[9829, 'year_of_release'] = 2002\n",
    "data.loc[6341, 'year_of_release'] = 2005\n",
    "data.loc[10316, 'year_of_release'] = 2011\n",
    "data.loc[11621, 'year_of_release'] = 2011\n",
    "data.loc[10685, 'year_of_release'] = 2011\n",
    "data.loc[10789, 'year_of_release'] = 2011\n",
    "data.loc[5873, 'year_of_release'] = 2010\n",
    "data.loc[1698, 'year_of_release'] = 2003\n",
    "data.loc[16446, 'year_of_release'] = 2012\n",
    "data.loc[6635, 'year_of_release'] = 2011\n",
    "data.loc[456, 'year_of_release'] = 2008\n",
    "data.loc[1537, 'year_of_release'] = 2008\n",
    "data.loc[7209, 'year_of_release'] = 2012\n",
    "data.loc[2272, 'year_of_release'] = 2012\n",
    "data.loc[2131, 'year_of_release'] = 2012\n",
    "data.loc[3080, 'year_of_release'] = 2012\n",
    "data.loc[4817, 'year_of_release'] = 2012\n",
    "data.loc[1608, 'year_of_release'] = 2012\n",
    "data.loc[6475, 'year_of_release'] = 2012\n",
    "data.loc[677, 'year_of_release'] = 2008\n",
    "data.loc[13873, 'year_of_release'] = 2007\n",
    "data.loc[2491, 'year_of_release'] = 2002\n",
    "data.loc[3412, 'year_of_release'] = 2005\n",
    "data.loc[2478, 'year_of_release'] = 2006\n",
    "data.loc[2848, 'year_of_release'] = 2010\n",
    "data.loc[3485, 'year_of_release'] = 2001\n",
    "data.loc[183, 'year_of_release'] = 2003\n",
    "data.loc[14367, 'year_of_release'] = 2009\n",
    "data.loc[9875, 'year_of_release'] = 2006\n",
    "data.loc[14140, 'year_of_release'] = 2008\n",
    "data.loc[15336, 'year_of_release'] = 2012\n",
    "data.loc[6772, 'year_of_release'] = 2006\n",
    "data.loc[3222, 'year_of_release'] = 2002\n",
    "data.loc[13316, 'year_of_release'] = 2010\n",
    "data.loc[1649, 'year_of_release'] = 2002\n",
    "data.loc[3458, 'year_of_release'] = 2002\n",
    "data.loc[5888, 'year_of_release'] = 2002\n",
    "data.loc[5155, 'year_of_release'] = 2002\n",
    "data.loc[8196, 'year_of_release'] = 2002\n",
    "data.loc[3738, 'year_of_release'] = 2003\n",
    "data.loc[4774, 'year_of_release'] = 2002\n",
    "data.loc[13791, 'year_of_release'] = 2003\n",
    "data.loc[2280, 'year_of_release'] = 2001\n",
    "data.loc[12234, 'year_of_release'] = 2011\n",
    "data.loc[6018, 'year_of_release'] = 2006\n",
    "data.loc[16371, 'year_of_release'] = 2008\n",
    "data.loc[15951, 'year_of_release'] = 2008\n",
    "data.loc[2571, 'year_of_release'] = 2008\n",
    "data.loc[6198, 'year_of_release'] = 2001\n",
    "data.loc[9702, 'year_of_release'] = 2010\n",
    "data.loc[2360, 'year_of_release'] = 2008\n",
    "data.loc[7366, 'year_of_release'] = 2002\n",
    "data.loc[6355, 'year_of_release'] = 2008\n",
    "data.loc[11564, 'year_of_release'] = 2008\n",
    "data.loc[9705, 'year_of_release'] = 2011\n",
    "data.loc[13563, 'year_of_release'] = 2003\n",
    "data.loc[15533, 'year_of_release'] = 2009\n",
    "data.loc[11015, 'year_of_release'] = 2008\n",
    "data.loc[13928, 'year_of_release'] = 2006\n",
    "data.loc[2535, 'year_of_release'] = 2008\n",
    "data.loc[5931, 'year_of_release'] = 2007\n",
    "data.loc[6860, 'year_of_release'] = 2010\n",
    "data.loc[5623, 'year_of_release'] = 2010\n",
    "data.loc[8499, 'year_of_release'] = 2010\n",
    "data.loc[10049, 'year_of_release'] = 2007\n",
    "data.loc[8022, 'year_of_release'] = 2006\n",
    "data.loc[9484, 'year_of_release'] = 2009\n",
    "data.loc[13646, 'year_of_release'] = 2010\n",
    "data.loc[2452, 'year_of_release'] = 2011\n",
    "data.loc[2521, 'year_of_release'] = 2011\n",
    "data.loc[4204, 'year_of_release'] = 2006\n",
    "data.loc[5335, 'year_of_release'] = 2013\n",
    "data.loc[13194, 'year_of_release'] = 2011\n",
    "data.loc[5325, 'year_of_release'] = 2011\n",
    "data.loc[14683, 'year_of_release'] = 2014"
   ]
  },
  {
   "cell_type": "code",
   "execution_count": 15,
   "metadata": {},
   "outputs": [
    {
     "data": {
      "text/plain": [
       "0.009693053311793215"
      ]
     },
     "execution_count": 15,
     "metadata": {},
     "output_type": "execute_result"
    }
   ],
   "source": [
    "# Оценим долю игр с отсутствующим годом выпуска\n",
    "len(data[data['year_of_release'].isna()]) / len(data)"
   ]
  },
  {
   "cell_type": "code",
   "execution_count": 16,
   "metadata": {},
   "outputs": [],
   "source": [
    "# Данные о видеоиграх с отстутвующим названием, можно удалить за их молостью (0.9%)\n",
    "data = data.dropna(subset=['year_of_release']).reset_index(drop=True)"
   ]
  },
  {
   "cell_type": "code",
   "execution_count": 17,
   "metadata": {},
   "outputs": [],
   "source": [
    "# Преобразование оставшихся значений в столбце \"year_of_release\" к целочисленному типу\n",
    "data['year_of_release'] = data['year_of_release'].astype('int64')"
   ]
  },
  {
   "cell_type": "markdown",
   "metadata": {},
   "source": [
    "##### Обработка пропусков в столбце \"rating\""
   ]
  },
  {
   "cell_type": "code",
   "execution_count": 18,
   "metadata": {},
   "outputs": [],
   "source": [
    "# Заменим пропуски в категориальном столбце \"rating\" на \"unknown\"\n",
    "data['rating'] = data['rating'].fillna('unknown')"
   ]
  },
  {
   "cell_type": "markdown",
   "metadata": {},
   "source": [
    "**Пропуски в столбцах \"critic_score\", \"user_score\" и можно объяснить либо ошибками при выгрузке данных, либо фактическим отсутствием значений, обработке данные пропуски не подлежат (например, замена нулями или средними значениями), так как можно исказить результаты анализа**"
   ]
  },
  {
   "cell_type": "markdown",
   "metadata": {},
   "source": [
    "#### 2.4 Подсчет суммарных продаж"
   ]
  },
  {
   "cell_type": "code",
   "execution_count": 19,
   "metadata": {},
   "outputs": [],
   "source": [
    "# Суммарные продажи по всем регионам сохраним в столбец \"total_sales\"\n",
    "data['total_sales'] = data['na_sales'] + data['eu_sales'] + data['jp_sales'] + data['other_sales']"
   ]
  },
  {
   "cell_type": "markdown",
   "metadata": {},
   "source": [
    "### Шаг 3. Исследовательский анализ данных<a id='step3'></a>"
   ]
  },
  {
   "cell_type": "code",
   "execution_count": 20,
   "metadata": {},
   "outputs": [
    {
     "data": {
      "text/plain": [
       "Text(0, 0.5, 'Игры, шт.')"
      ]
     },
     "execution_count": 20,
     "metadata": {},
     "output_type": "execute_result"
    },
    {
     "data": {
      "image/png": "[encoded data removed]",
      "text/plain": [
       "<Figure size 1080x360 with 1 Axes>"
      ]
     },
     "metadata": {
      "needs_background": "light"
     },
     "output_type": "display_data"
    }
   ],
   "source": [
    "(data\n",
    "    .pivot_table(index='year_of_release', values='name', aggfunc='count')\n",
    "    .plot(kind='bar', figsize=(15, 5), grid=True, title='Распределение количества выпущенных игр по годам')\n",
    ")\n",
    "plt.ylabel('Игры, шт.')"
   ]
  },
  {
   "cell_type": "code",
   "execution_count": 21,
   "metadata": {},
   "outputs": [],
   "source": [
    "overall_sales = (data\n",
    "                    .pivot_table(index='platform', values='total_sales', aggfunc='sum')\n",
    "                    .sort_values(by='total_sales', ascending=False)\n",
    ")"
   ]
  },
  {
   "cell_type": "code",
   "execution_count": 22,
   "metadata": {},
   "outputs": [
    {
     "data": {
      "text/plain": [
       "Text(0, 0.5, 'Проданные копии, млн.')"
      ]
     },
     "execution_count": 22,
     "metadata": {},
     "output_type": "execute_result"
    },
    {
     "data": {
      "image/png": "[encoded data removed]",
      "text/plain": [
       "<Figure size 1080x360 with 1 Axes>"
      ]
     },
     "metadata": {
      "needs_background": "light"
     },
     "output_type": "display_data"
    }
   ],
   "source": [
    "(overall_sales\n",
    "        .plot(kind='bar', figsize=(15, 5), grid=True, title='Распределение проданных копий игр за все годы по платформам')\n",
    ")\n",
    "plt.ylabel('Проданные копии, млн.')"
   ]
  },
  {
   "cell_type": "code",
   "execution_count": 23,
   "metadata": {},
   "outputs": [
    {
     "data": {
      "text/plain": [
       "Text(0, 0.5, 'Проданные копии, млн.')"
      ]
     },
     "execution_count": 23,
     "metadata": {},
     "output_type": "execute_result"
    },
    {
     "data": {
      "image/png": "[encoded data removed]",
      "text/plain": [
       "<Figure size 1080x360 with 1 Axes>"
      ]
     },
     "metadata": {
      "needs_background": "light"
     },
     "output_type": "display_data"
    }
   ],
   "source": [
    "(data\n",
    "    .query('platform.isin(@overall_sales.head(6).index)')\n",
    "    .pivot_table(index='year_of_release', columns='platform', values='total_sales', aggfunc='sum')\n",
    "    .plot(xlim=(1994, 2016), xticks=range(1994, 2017), figsize=(15, 5), grid=True, title='Динамика продаж копий видеоигр топовых платформ по годам')\n",
    ")\n",
    "plt.ylabel('Проданные копии, млн.')"
   ]
  },
  {
   "cell_type": "code",
   "execution_count": 24,
   "metadata": {},
   "outputs": [],
   "source": [
    "# Оценим год выпуска первой и последней игры по кадой платформе\n",
    "temp_df = data.pivot_table(index='platform', values='year_of_release', aggfunc=['min', 'max'])"
   ]
  },
  {
   "cell_type": "code",
   "execution_count": 25,
   "metadata": {},
   "outputs": [],
   "source": [
    "temp_df.columns = ['min', 'max']"
   ]
  },
  {
   "cell_type": "code",
   "execution_count": 26,
   "metadata": {},
   "outputs": [],
   "source": [
    "# Вычислим время жизни каждой платформы и запишем результат в столбец life_time\n",
    "temp_df['life_time'] = temp_df['max'] - temp_df['min']"
   ]
  },
  {
   "cell_type": "code",
   "execution_count": 27,
   "metadata": {},
   "outputs": [
    {
     "data": {
      "text/plain": [
       "7.0"
      ]
     },
     "execution_count": 27,
     "metadata": {},
     "output_type": "execute_result"
    }
   ],
   "source": [
    "# Вычислим медианное значение времени жизни платформ\n",
    "temp_df['life_time'].median()"
   ]
  },
  {
   "cell_type": "markdown",
   "metadata": {},
   "source": [
    "##### Вывод\n",
    "\n",
    "Анализ данных о распределении выпуска видеоигр по годам и данных о динамике продаж копий видеоигр топовых платформ по годам позволяет установить:\n",
    "- **характерный срок** возникновения новых и исчезновения старых платформ: 7 лет;\n",
    "- **актуальный период** для проведения исследования: возьмём половину от срока жизни платформы до текущего года - 2013-2016гг.;\n"
   ]
  },
  {
   "cell_type": "code",
   "execution_count": 28,
   "metadata": {},
   "outputs": [],
   "source": [
    "# Таблица с данными за актуальный период\n",
    "actual_data = data.query('year_of_release >= 2013').reset_index()"
   ]
  },
  {
   "cell_type": "markdown",
   "metadata": {},
   "source": [
    "**Лидирующие по продажам платформы**"
   ]
  },
  {
   "cell_type": "code",
   "execution_count": 29,
   "metadata": {},
   "outputs": [
    {
     "data": {
      "text/html": [
       "<div>\n",
       "<style scoped>\n",
       "    .dataframe tbody tr th:only-of-type {\n",
       "        vertical-align: middle;\n",
       "    }\n",
       "\n",
       "    .dataframe tbody tr th {\n",
       "        vertical-align: top;\n",
       "    }\n",
       "\n",
       "    .dataframe thead th {\n",
       "        text-align: right;\n",
       "    }\n",
       "</style>\n",
       "<table border=\"1\" class=\"dataframe\">\n",
       "  <thead>\n",
       "    <tr style=\"text-align: right;\">\n",
       "      <th></th>\n",
       "      <th>total_sales</th>\n",
       "    </tr>\n",
       "    <tr>\n",
       "      <th>platform</th>\n",
       "      <th></th>\n",
       "    </tr>\n",
       "  </thead>\n",
       "  <tbody>\n",
       "    <tr>\n",
       "      <td>PS4</td>\n",
       "      <td>314.14</td>\n",
       "    </tr>\n",
       "    <tr>\n",
       "      <td>PS3</td>\n",
       "      <td>181.43</td>\n",
       "    </tr>\n",
       "    <tr>\n",
       "      <td>XOne</td>\n",
       "      <td>159.32</td>\n",
       "    </tr>\n",
       "    <tr>\n",
       "      <td>3DS</td>\n",
       "      <td>143.25</td>\n",
       "    </tr>\n",
       "    <tr>\n",
       "      <td>X360</td>\n",
       "      <td>136.83</td>\n",
       "    </tr>\n",
       "    <tr>\n",
       "      <td>WiiU</td>\n",
       "      <td>64.63</td>\n",
       "    </tr>\n",
       "    <tr>\n",
       "      <td>PC</td>\n",
       "      <td>40.06</td>\n",
       "    </tr>\n",
       "    <tr>\n",
       "      <td>PSV</td>\n",
       "      <td>32.99</td>\n",
       "    </tr>\n",
       "    <tr>\n",
       "      <td>Wii</td>\n",
       "      <td>13.66</td>\n",
       "    </tr>\n",
       "    <tr>\n",
       "      <td>PSP</td>\n",
       "      <td>3.74</td>\n",
       "    </tr>\n",
       "    <tr>\n",
       "      <td>DS</td>\n",
       "      <td>1.54</td>\n",
       "    </tr>\n",
       "  </tbody>\n",
       "</table>\n",
       "</div>"
      ],
      "text/plain": [
       "          total_sales\n",
       "platform             \n",
       "PS4            314.14\n",
       "PS3            181.43\n",
       "XOne           159.32\n",
       "3DS            143.25\n",
       "X360           136.83\n",
       "WiiU            64.63\n",
       "PC              40.06\n",
       "PSV             32.99\n",
       "Wii             13.66\n",
       "PSP              3.74\n",
       "DS               1.54"
      ]
     },
     "execution_count": 29,
     "metadata": {},
     "output_type": "execute_result"
    }
   ],
   "source": [
    "actual_overall_sales = (actual_data\n",
    "                            .pivot_table(index='platform', values='total_sales', aggfunc='sum')\n",
    "                            .sort_values(by='total_sales', ascending=False)\n",
    "                        )\n",
    "actual_overall_sales"
   ]
  },
  {
   "cell_type": "code",
   "execution_count": 30,
   "metadata": {},
   "outputs": [
    {
     "data": {
      "text/plain": [
       "['PS4', 'PS3', 'XOne', '3DS', 'X360', 'WiiU', 'PC', 'PSV']"
      ]
     },
     "execution_count": 30,
     "metadata": {},
     "output_type": "execute_result"
    }
   ],
   "source": [
    "list(actual_overall_sales.head(8).index)"
   ]
  },
  {
   "cell_type": "markdown",
   "metadata": {},
   "source": [
    "**Платформы с падающими и с увеличивающимися продажами**"
   ]
  },
  {
   "cell_type": "code",
   "execution_count": 31,
   "metadata": {},
   "outputs": [
    {
     "data": {
      "text/html": [
       "<div>\n",
       "<style scoped>\n",
       "    .dataframe tbody tr th:only-of-type {\n",
       "        vertical-align: middle;\n",
       "    }\n",
       "\n",
       "    .dataframe tbody tr th {\n",
       "        vertical-align: top;\n",
       "    }\n",
       "\n",
       "    .dataframe thead th {\n",
       "        text-align: right;\n",
       "    }\n",
       "</style>\n",
       "<table border=\"1\" class=\"dataframe\">\n",
       "  <thead>\n",
       "    <tr style=\"text-align: right;\">\n",
       "      <th>platform</th>\n",
       "      <th>3DS</th>\n",
       "      <th>DS</th>\n",
       "      <th>PC</th>\n",
       "      <th>PS3</th>\n",
       "      <th>PS4</th>\n",
       "      <th>PSP</th>\n",
       "      <th>PSV</th>\n",
       "      <th>Wii</th>\n",
       "      <th>WiiU</th>\n",
       "      <th>X360</th>\n",
       "      <th>XOne</th>\n",
       "    </tr>\n",
       "    <tr>\n",
       "      <th>year_of_release</th>\n",
       "      <th></th>\n",
       "      <th></th>\n",
       "      <th></th>\n",
       "      <th></th>\n",
       "      <th></th>\n",
       "      <th></th>\n",
       "      <th></th>\n",
       "      <th></th>\n",
       "      <th></th>\n",
       "      <th></th>\n",
       "      <th></th>\n",
       "    </tr>\n",
       "  </thead>\n",
       "  <tbody>\n",
       "    <tr>\n",
       "      <td>2013</td>\n",
       "      <td>56.57</td>\n",
       "      <td>1.54</td>\n",
       "      <td>13.01</td>\n",
       "      <td>113.25</td>\n",
       "      <td>25.99</td>\n",
       "      <td>3.38</td>\n",
       "      <td>10.59</td>\n",
       "      <td>8.59</td>\n",
       "      <td>21.65</td>\n",
       "      <td>88.58</td>\n",
       "      <td>18.96</td>\n",
       "    </tr>\n",
       "    <tr>\n",
       "      <td>2014</td>\n",
       "      <td>43.76</td>\n",
       "      <td>NaN</td>\n",
       "      <td>13.28</td>\n",
       "      <td>47.76</td>\n",
       "      <td>100.00</td>\n",
       "      <td>0.24</td>\n",
       "      <td>11.90</td>\n",
       "      <td>3.75</td>\n",
       "      <td>22.03</td>\n",
       "      <td>34.77</td>\n",
       "      <td>54.07</td>\n",
       "    </tr>\n",
       "    <tr>\n",
       "      <td>2015</td>\n",
       "      <td>27.78</td>\n",
       "      <td>NaN</td>\n",
       "      <td>8.52</td>\n",
       "      <td>16.82</td>\n",
       "      <td>118.90</td>\n",
       "      <td>0.12</td>\n",
       "      <td>6.25</td>\n",
       "      <td>1.14</td>\n",
       "      <td>16.35</td>\n",
       "      <td>11.96</td>\n",
       "      <td>60.14</td>\n",
       "    </tr>\n",
       "    <tr>\n",
       "      <td>2016</td>\n",
       "      <td>15.14</td>\n",
       "      <td>NaN</td>\n",
       "      <td>5.25</td>\n",
       "      <td>3.60</td>\n",
       "      <td>69.25</td>\n",
       "      <td>NaN</td>\n",
       "      <td>4.25</td>\n",
       "      <td>0.18</td>\n",
       "      <td>4.60</td>\n",
       "      <td>1.52</td>\n",
       "      <td>26.15</td>\n",
       "    </tr>\n",
       "  </tbody>\n",
       "</table>\n",
       "</div>"
      ],
      "text/plain": [
       "platform           3DS    DS     PC     PS3     PS4   PSP    PSV   Wii   WiiU  \\\n",
       "year_of_release                                                                 \n",
       "2013             56.57  1.54  13.01  113.25   25.99  3.38  10.59  8.59  21.65   \n",
       "2014             43.76   NaN  13.28   47.76  100.00  0.24  11.90  3.75  22.03   \n",
       "2015             27.78   NaN   8.52   16.82  118.90  0.12   6.25  1.14  16.35   \n",
       "2016             15.14   NaN   5.25    3.60   69.25   NaN   4.25  0.18   4.60   \n",
       "\n",
       "platform          X360   XOne  \n",
       "year_of_release                \n",
       "2013             88.58  18.96  \n",
       "2014             34.77  54.07  \n",
       "2015             11.96  60.14  \n",
       "2016              1.52  26.15  "
      ]
     },
     "execution_count": 31,
     "metadata": {},
     "output_type": "execute_result"
    }
   ],
   "source": [
    "(actual_data\n",
    "            .pivot_table(index='year_of_release', columns='platform', values='total_sales', aggfunc='sum')\n",
    "            #.loc[2014:2015]\n",
    ")"
   ]
  },
  {
   "cell_type": "markdown",
   "metadata": {},
   "source": [
    "##### Вывод\n",
    "\n",
    "**Платформы с падающими продажами**: 3DS, PC, PS3, PSP, PSV, Wii, WiiU, X360;\n",
    "\n",
    "**Платформы с увеличивающимися продажами**: PS4, XOne \n",
    "\n",
    "К потенциально прибыльным платформам можно отнести PS4, XOne, 3DC (несмотря на нисходящий тренд, продажи остаются высокими), а также PC (в силу неисчерпаемых возможностей для обновления оборудования)."
   ]
  },
  {
   "cell_type": "markdown",
   "metadata": {},
   "source": [
    "**График «ящик с усами» по глобальным продажам игр в разбивке по платформам**"
   ]
  },
  {
   "cell_type": "code",
   "execution_count": 32,
   "metadata": {},
   "outputs": [],
   "source": [
    "# Выделим актуальные платформы\n",
    "actual_platforms = ['PS4', 'XOne', '3DS', 'PC']"
   ]
  },
  {
   "cell_type": "code",
   "execution_count": 33,
   "metadata": {},
   "outputs": [
    {
     "name": "stderr",
     "output_type": "stream",
     "text": [
      "/opt/conda/lib/python3.7/site-packages/numpy/core/_asarray.py:83: VisibleDeprecationWarning: Creating an ndarray from ragged nested sequences (which is a list-or-tuple of lists-or-tuples-or ndarrays with different lengths or shapes) is deprecated. If you meant to do this, you must specify 'dtype=object' when creating the ndarray\n",
      "  return array(a, dtype, copy=False, order=order)\n"
     ]
    },
    {
     "data": {
      "text/plain": [
       "(0, 2)"
      ]
     },
     "execution_count": 33,
     "metadata": {},
     "output_type": "execute_result"
    },
    {
     "data": {
      "image/png": "[encoded data removed]",
      "text/plain": [
       "<Figure size 1080x360 with 1 Axes>"
      ]
     },
     "metadata": {
      "needs_background": "light"
     },
     "output_type": "display_data"
    }
   ],
   "source": [
    "# Построим ящик с усами по перспективным платформам\n",
    "(actual_data\n",
    "     .query('platform.isin(@actual_platforms)')\n",
    "     .boxplot(column='total_sales', by='platform', figsize=(15, 5))\n",
    ")\n",
    "plt.ylabel('Проданные копии, млн.')\n",
    "plt.ylim(0, 2)"
   ]
  },
  {
   "cell_type": "code",
   "execution_count": 34,
   "metadata": {},
   "outputs": [],
   "source": [
    "# Создадим таблицу с данными о средней и медиане числа проданных копий по перспективным платформам\n",
    "temp_df = (actual_data\n",
    "               .query('platform.isin(@actual_platforms)')\n",
    "               .pivot_table(index='platform', values='total_sales', aggfunc=['median', 'mean', 'count'])\n",
    "          )"
   ]
  },
  {
   "cell_type": "code",
   "execution_count": 35,
   "metadata": {},
   "outputs": [],
   "source": [
    "temp_df.columns = ['median', 'mean', 'count']"
   ]
  },
  {
   "cell_type": "code",
   "execution_count": 36,
   "metadata": {
    "scrolled": false
   },
   "outputs": [
    {
     "data": {
      "text/html": [
       "<div>\n",
       "<style scoped>\n",
       "    .dataframe tbody tr th:only-of-type {\n",
       "        vertical-align: middle;\n",
       "    }\n",
       "\n",
       "    .dataframe tbody tr th {\n",
       "        vertical-align: top;\n",
       "    }\n",
       "\n",
       "    .dataframe thead th {\n",
       "        text-align: right;\n",
       "    }\n",
       "</style>\n",
       "<table border=\"1\" class=\"dataframe\">\n",
       "  <thead>\n",
       "    <tr style=\"text-align: right;\">\n",
       "      <th></th>\n",
       "      <th>median</th>\n",
       "      <th>mean</th>\n",
       "      <th>count</th>\n",
       "    </tr>\n",
       "    <tr>\n",
       "      <th>platform</th>\n",
       "      <th></th>\n",
       "      <th></th>\n",
       "      <th></th>\n",
       "    </tr>\n",
       "  </thead>\n",
       "  <tbody>\n",
       "    <tr>\n",
       "      <td>3DS</td>\n",
       "      <td>0.09</td>\n",
       "      <td>0.472772</td>\n",
       "      <td>303</td>\n",
       "    </tr>\n",
       "    <tr>\n",
       "      <td>PC</td>\n",
       "      <td>0.08</td>\n",
       "      <td>0.208646</td>\n",
       "      <td>192</td>\n",
       "    </tr>\n",
       "    <tr>\n",
       "      <td>PS4</td>\n",
       "      <td>0.20</td>\n",
       "      <td>0.801378</td>\n",
       "      <td>392</td>\n",
       "    </tr>\n",
       "    <tr>\n",
       "      <td>XOne</td>\n",
       "      <td>0.22</td>\n",
       "      <td>0.645020</td>\n",
       "      <td>247</td>\n",
       "    </tr>\n",
       "  </tbody>\n",
       "</table>\n",
       "</div>"
      ],
      "text/plain": [
       "          median      mean  count\n",
       "platform                         \n",
       "3DS         0.09  0.472772    303\n",
       "PC          0.08  0.208646    192\n",
       "PS4         0.20  0.801378    392\n",
       "XOne        0.22  0.645020    247"
      ]
     },
     "execution_count": 36,
     "metadata": {},
     "output_type": "execute_result"
    }
   ],
   "source": [
    "# Оценим различия средней и медианы\n",
    "temp_df"
   ]
  },
  {
   "cell_type": "code",
   "execution_count": 37,
   "metadata": {},
   "outputs": [
    {
     "data": {
      "text/plain": [
       "median    0.147500\n",
       "mean      0.531954\n",
       "dtype: float64"
      ]
     },
     "execution_count": 37,
     "metadata": {},
     "output_type": "execute_result"
    }
   ],
   "source": [
    "# Оценим средние значения медианы и среднего по всем платформам\n",
    "temp_df[['median', 'mean']].mean()"
   ]
  },
  {
   "cell_type": "markdown",
   "metadata": {},
   "source": [
    "##### Вывод\n",
    "\n",
    "У всех перспективных платформ медианное значение проданных копий видеоигр в несколько раз меньше среднего значения, это говорит о том, большинство выпускаемых игр продаются относительно небольшим тиражом (распределения скошены вправо), а повышенные значения средних проданных копий обеспечиваются отдельными популярными видеоиграми. При этом медианные значения продаваемых копий платформ PS4 и XOne вдвое выше показателей платформ 3DS и PC."
   ]
  },
  {
   "cell_type": "markdown",
   "metadata": {},
   "source": [
    "**Оценка влияния на продажи внутри одной популярной платформы (PS4) отзывов пользователей и критиков**"
   ]
  },
  {
   "cell_type": "code",
   "execution_count": 38,
   "metadata": {},
   "outputs": [],
   "source": [
    "ps4_data = actual_data.query('platform == \"PS4\"').reset_index()"
   ]
  },
  {
   "cell_type": "code",
   "execution_count": 39,
   "metadata": {},
   "outputs": [
    {
     "data": {
      "text/plain": [
       "<matplotlib.axes._subplots.AxesSubplot at 0x7f9c5dcc8350>"
      ]
     },
     "execution_count": 39,
     "metadata": {},
     "output_type": "execute_result"
    },
    {
     "data": {
      "image/png": "[encoded data removed]",
      "text/plain": [
       "<Figure size 432x288 with 1 Axes>"
      ]
     },
     "metadata": {
      "needs_background": "light"
     },
     "output_type": "display_data"
    }
   ],
   "source": [
    "# Построение диаграммы рассеяния по данным об общем количестве продаж и оценках критиков\n",
    "ps4_data.plot(kind='scatter', x='total_sales', y='critic_score', alpha=0.1, title='Диаграмма рассеяния по данным об общем количестве продаж и оценках критиков')"
   ]
  },
  {
   "cell_type": "code",
   "execution_count": 40,
   "metadata": {},
   "outputs": [
    {
     "data": {
      "text/plain": [
       "<matplotlib.axes._subplots.AxesSubplot at 0x7f9c5dc664d0>"
      ]
     },
     "execution_count": 40,
     "metadata": {},
     "output_type": "execute_result"
    },
    {
     "data": {
      "image/png": "[encoded data removed]",
      "text/plain": [
       "<Figure size 432x288 with 1 Axes>"
      ]
     },
     "metadata": {
      "needs_background": "light"
     },
     "output_type": "display_data"
    }
   ],
   "source": [
    "# Построение диаграммы рассеяния по данным об общем количестве продаж и оценках игроков\n",
    "ps4_data.plot(kind='scatter', x='total_sales', y='user_score', alpha=0.1, title='Диаграмма рассеяния по данным об общем количестве продаж и оценках игроков')"
   ]
  },
  {
   "cell_type": "code",
   "execution_count": 41,
   "metadata": {},
   "outputs": [
    {
     "data": {
      "text/html": [
       "<div>\n",
       "<style scoped>\n",
       "    .dataframe tbody tr th:only-of-type {\n",
       "        vertical-align: middle;\n",
       "    }\n",
       "\n",
       "    .dataframe tbody tr th {\n",
       "        vertical-align: top;\n",
       "    }\n",
       "\n",
       "    .dataframe thead th {\n",
       "        text-align: right;\n",
       "    }\n",
       "</style>\n",
       "<table border=\"1\" class=\"dataframe\">\n",
       "  <thead>\n",
       "    <tr style=\"text-align: right;\">\n",
       "      <th></th>\n",
       "      <th>critic_score</th>\n",
       "      <th>user_score</th>\n",
       "    </tr>\n",
       "    <tr>\n",
       "      <th>platform</th>\n",
       "      <th></th>\n",
       "      <th></th>\n",
       "    </tr>\n",
       "  </thead>\n",
       "  <tbody>\n",
       "    <tr>\n",
       "      <td>PS4</td>\n",
       "      <td>73.0</td>\n",
       "      <td>7.0</td>\n",
       "    </tr>\n",
       "  </tbody>\n",
       "</table>\n",
       "</div>"
      ],
      "text/plain": [
       "          critic_score  user_score\n",
       "platform                          \n",
       "PS4               73.0         7.0"
      ]
     },
     "execution_count": 41,
     "metadata": {},
     "output_type": "execute_result"
    }
   ],
   "source": [
    "# Оценим медианные значения оценок критиков и пользователей\n",
    "ps4_data.pivot_table(index='platform', values=['critic_score', 'user_score'], aggfunc='median')"
   ]
  },
  {
   "cell_type": "markdown",
   "metadata": {},
   "source": [
    "##### Вывод\n",
    "\n",
    "Из приведенных диаграмм рассеяния видно, что пользователи в отличие от критиков иногда ставят пониженные оценки играм, вышедшим большим тиражом"
   ]
  },
  {
   "cell_type": "code",
   "execution_count": 42,
   "metadata": {},
   "outputs": [
    {
     "data": {
      "text/plain": [
       "0.406567902061781"
      ]
     },
     "execution_count": 42,
     "metadata": {},
     "output_type": "execute_result"
    }
   ],
   "source": [
    "# Оценка корреляции между количеством проданных копий и оценками критиков\n",
    "ps4_data['total_sales'].corr(ps4_data['critic_score'])"
   ]
  },
  {
   "cell_type": "code",
   "execution_count": 43,
   "metadata": {},
   "outputs": [
    {
     "data": {
      "text/plain": [
       "-0.031957110204556424"
      ]
     },
     "execution_count": 43,
     "metadata": {},
     "output_type": "execute_result"
    }
   ],
   "source": [
    "# Оценка корреляции между количеством проданных копий и оценками пользователей\n",
    "ps4_data['total_sales'].corr(ps4_data['user_score'])"
   ]
  },
  {
   "cell_type": "markdown",
   "metadata": {},
   "source": [
    "##### Вывод\n",
    "\n",
    "Корреляция между количеством проданных копий видеоигр и оценками критиков прослеживается, но тем не менее она не однозначная. Корреляция между количеством проданных копий видеоигр и оценками пользователей отсутствует"
   ]
  },
  {
   "cell_type": "markdown",
   "metadata": {},
   "source": [
    "**Оценка влияния на продажи внутри одной популярной платформы (XOne) отзывов пользователей и критиков**"
   ]
  },
  {
   "cell_type": "code",
   "execution_count": 44,
   "metadata": {},
   "outputs": [],
   "source": [
    "xone_data = actual_data.query('platform == \"XOne\"').reset_index()"
   ]
  },
  {
   "cell_type": "code",
   "execution_count": 45,
   "metadata": {},
   "outputs": [
    {
     "data": {
      "text/plain": [
       "<matplotlib.axes._subplots.AxesSubplot at 0x7f9c5dbc7790>"
      ]
     },
     "execution_count": 45,
     "metadata": {},
     "output_type": "execute_result"
    },
    {
     "data": {
      "image/png": "[encoded data removed]",
      "text/plain": [
       "<Figure size 432x288 with 1 Axes>"
      ]
     },
     "metadata": {
      "needs_background": "light"
     },
     "output_type": "display_data"
    }
   ],
   "source": [
    "# Построение диаграммы рассеяния по данным об общем количестве продаж и оценках критиков\n",
    "xone_data.plot(kind='scatter', x='total_sales', y='critic_score', alpha=0.1, title='Диаграмма рассеяния по данным об общем количестве продаж и оценках критиков')"
   ]
  },
  {
   "cell_type": "code",
   "execution_count": 46,
   "metadata": {},
   "outputs": [
    {
     "data": {
      "text/plain": [
       "<matplotlib.axes._subplots.AxesSubplot at 0x7f9c5db55550>"
      ]
     },
     "execution_count": 46,
     "metadata": {},
     "output_type": "execute_result"
    },
    {
     "data": {
      "image/png": "[encoded data removed]",
      "text/plain": [
       "<Figure size 432x288 with 1 Axes>"
      ]
     },
     "metadata": {
      "needs_background": "light"
     },
     "output_type": "display_data"
    }
   ],
   "source": [
    "# Построение диаграммы рассеяния по данным об общем количестве продаж и оценках игроков\n",
    "xone_data.plot(kind='scatter', x='total_sales', y='user_score', alpha=0.1, title='Диаграмма рассеяния по данным об общем количестве продаж и оценках игроков')"
   ]
  },
  {
   "cell_type": "code",
   "execution_count": 47,
   "metadata": {},
   "outputs": [
    {
     "data": {
      "text/plain": [
       "0.41699832800840175"
      ]
     },
     "execution_count": 47,
     "metadata": {},
     "output_type": "execute_result"
    }
   ],
   "source": [
    "# Оценка корреляции между количеством проданных копий и оценками критиков\n",
    "xone_data['total_sales'].corr(xone_data['critic_score'])"
   ]
  },
  {
   "cell_type": "code",
   "execution_count": 48,
   "metadata": {},
   "outputs": [
    {
     "data": {
      "text/plain": [
       "-0.06892505328279412"
      ]
     },
     "execution_count": 48,
     "metadata": {},
     "output_type": "execute_result"
    }
   ],
   "source": [
    "# Оценка корреляции между количеством проданных копий и оценками пользователей\n",
    "xone_data['total_sales'].corr(xone_data['user_score'])"
   ]
  },
  {
   "cell_type": "markdown",
   "metadata": {},
   "source": [
    "##### Вывод\n",
    "\n",
    "Корреляции и диаграммы рассеяния идентичны раннее рассмотренным."
   ]
  },
  {
   "cell_type": "markdown",
   "metadata": {},
   "source": [
    "**Оценка влияния на продажи внутри одной популярной платформы (3DS) отзывов пользователей и критиков**"
   ]
  },
  {
   "cell_type": "code",
   "execution_count": 49,
   "metadata": {},
   "outputs": [],
   "source": [
    "ds3_data = actual_data.query('platform == \"3DS\"').reset_index()"
   ]
  },
  {
   "cell_type": "code",
   "execution_count": 50,
   "metadata": {},
   "outputs": [
    {
     "data": {
      "text/plain": [
       "<matplotlib.axes._subplots.AxesSubplot at 0x7f9c5dab9650>"
      ]
     },
     "execution_count": 50,
     "metadata": {},
     "output_type": "execute_result"
    },
    {
     "data": {
      "image/png": "[encoded data removed]",
      "text/plain": [
       "<Figure size 432x288 with 1 Axes>"
      ]
     },
     "metadata": {
      "needs_background": "light"
     },
     "output_type": "display_data"
    }
   ],
   "source": [
    "# Построение диаграммы рассеяния по данным об общем количестве продаж и оценках критиков\n",
    "ds3_data.plot(kind='scatter', x='total_sales', y='critic_score', alpha=0.1, title='Диаграмма рассеяния по данным об общем количестве продаж и оценках критиков')"
   ]
  },
  {
   "cell_type": "code",
   "execution_count": 51,
   "metadata": {},
   "outputs": [
    {
     "data": {
      "text/plain": [
       "<matplotlib.axes._subplots.AxesSubplot at 0x7f9c5f5a3bd0>"
      ]
     },
     "execution_count": 51,
     "metadata": {},
     "output_type": "execute_result"
    },
    {
     "data": {
      "image/png": "[encoded data removed]",
      "text/plain": [
       "<Figure size 432x288 with 1 Axes>"
      ]
     },
     "metadata": {
      "needs_background": "light"
     },
     "output_type": "display_data"
    }
   ],
   "source": [
    "# Построение диаграммы рассеяния по данным об общем количестве продаж и оценках игроков\n",
    "ds3_data.plot(kind='scatter', x='total_sales', y='user_score', alpha=0.1, title='Диаграмма рассеяния по данным об общем количестве продаж и оценках игроков')"
   ]
  },
  {
   "cell_type": "code",
   "execution_count": 52,
   "metadata": {},
   "outputs": [
    {
     "data": {
      "text/html": [
       "<div>\n",
       "<style scoped>\n",
       "    .dataframe tbody tr th:only-of-type {\n",
       "        vertical-align: middle;\n",
       "    }\n",
       "\n",
       "    .dataframe tbody tr th {\n",
       "        vertical-align: top;\n",
       "    }\n",
       "\n",
       "    .dataframe thead th {\n",
       "        text-align: right;\n",
       "    }\n",
       "</style>\n",
       "<table border=\"1\" class=\"dataframe\">\n",
       "  <thead>\n",
       "    <tr style=\"text-align: right;\">\n",
       "      <th></th>\n",
       "      <th>critic_score</th>\n",
       "      <th>user_score</th>\n",
       "    </tr>\n",
       "    <tr>\n",
       "      <th>platform</th>\n",
       "      <th></th>\n",
       "      <th></th>\n",
       "    </tr>\n",
       "  </thead>\n",
       "  <tbody>\n",
       "    <tr>\n",
       "      <td>3DS</td>\n",
       "      <td>69.0</td>\n",
       "      <td>7.3</td>\n",
       "    </tr>\n",
       "  </tbody>\n",
       "</table>\n",
       "</div>"
      ],
      "text/plain": [
       "          critic_score  user_score\n",
       "platform                          \n",
       "3DS               69.0         7.3"
      ]
     },
     "execution_count": 52,
     "metadata": {},
     "output_type": "execute_result"
    }
   ],
   "source": [
    "# Оценим медианные значения оценок критиков и пользователей\n",
    "ds3_data.pivot_table(index='platform', values=['critic_score', 'user_score'], aggfunc='median')"
   ]
  },
  {
   "cell_type": "code",
   "execution_count": 53,
   "metadata": {},
   "outputs": [
    {
     "data": {
      "text/plain": [
       "0.35705661422881035"
      ]
     },
     "execution_count": 53,
     "metadata": {},
     "output_type": "execute_result"
    }
   ],
   "source": [
    "# Оценка корреляции между количеством проданных копий и оценками критиков\n",
    "ds3_data['total_sales'].corr(ds3_data['critic_score'])"
   ]
  },
  {
   "cell_type": "code",
   "execution_count": 54,
   "metadata": {},
   "outputs": [
    {
     "data": {
      "text/plain": [
       "0.24150411773563016"
      ]
     },
     "execution_count": 54,
     "metadata": {},
     "output_type": "execute_result"
    }
   ],
   "source": [
    "# Оценка корреляции между количеством проданных копий и оценками пользователей\n",
    "ds3_data['total_sales'].corr(ds3_data['user_score'])"
   ]
  },
  {
   "cell_type": "markdown",
   "metadata": {},
   "source": [
    "##### Вывод\n",
    "\n",
    "Корреляция между количеством продаж видеоигр и оценками критиков хоть и выше, чем корреляция между количеством продаж и оценками пользователей, но она не однозначна. Пользователям также свойственно ставить более высокие оценки мелкотиражным играм, чем критикам."
   ]
  },
  {
   "cell_type": "markdown",
   "metadata": {},
   "source": [
    "**Оценка влияния на продажи внутри одной популярной платформы (PC) отзывов пользователей и критиков**"
   ]
  },
  {
   "cell_type": "code",
   "execution_count": 55,
   "metadata": {},
   "outputs": [],
   "source": [
    "pc_data = actual_data.query('platform == \"PC\"').reset_index()"
   ]
  },
  {
   "cell_type": "code",
   "execution_count": 56,
   "metadata": {},
   "outputs": [
    {
     "data": {
      "text/plain": [
       "<matplotlib.axes._subplots.AxesSubplot at 0x7f9c5dd09790>"
      ]
     },
     "execution_count": 56,
     "metadata": {},
     "output_type": "execute_result"
    },
    {
     "data": {
      "image/png": "[encoded data removed]",
      "text/plain": [
       "<Figure size 432x288 with 1 Axes>"
      ]
     },
     "metadata": {
      "needs_background": "light"
     },
     "output_type": "display_data"
    }
   ],
   "source": [
    "# Построение диаграммы рассеяния по данным об общем количестве продаж и оценках критиков\n",
    "pc_data.plot(kind='scatter', x='total_sales', y='critic_score', alpha=0.1, title='Диаграмма рассеяния по данным об общем количестве продаж и оценках критиков')"
   ]
  },
  {
   "cell_type": "code",
   "execution_count": 57,
   "metadata": {},
   "outputs": [
    {
     "data": {
      "text/plain": [
       "<matplotlib.axes._subplots.AxesSubplot at 0x7f9c5dcf3f50>"
      ]
     },
     "execution_count": 57,
     "metadata": {},
     "output_type": "execute_result"
    },
    {
     "data": {
      "image/png": "[encoded data removed]",
      "text/plain": [
       "<Figure size 432x288 with 1 Axes>"
      ]
     },
     "metadata": {
      "needs_background": "light"
     },
     "output_type": "display_data"
    }
   ],
   "source": [
    "# Построение диаграммы рассеяния по данным об общем количестве продаж и оценках игроков\n",
    "pc_data.plot(kind='scatter', x='total_sales', y='user_score', alpha=0.1, title='Диаграмма рассеяния по данным об общем количестве продаж и оценках игроков')"
   ]
  },
  {
   "cell_type": "code",
   "execution_count": 58,
   "metadata": {},
   "outputs": [
    {
     "data": {
      "text/html": [
       "<div>\n",
       "<style scoped>\n",
       "    .dataframe tbody tr th:only-of-type {\n",
       "        vertical-align: middle;\n",
       "    }\n",
       "\n",
       "    .dataframe tbody tr th {\n",
       "        vertical-align: top;\n",
       "    }\n",
       "\n",
       "    .dataframe thead th {\n",
       "        text-align: right;\n",
       "    }\n",
       "</style>\n",
       "<table border=\"1\" class=\"dataframe\">\n",
       "  <thead>\n",
       "    <tr style=\"text-align: right;\">\n",
       "      <th></th>\n",
       "      <th>critic_score</th>\n",
       "      <th>user_score</th>\n",
       "    </tr>\n",
       "    <tr>\n",
       "      <th>platform</th>\n",
       "      <th></th>\n",
       "      <th></th>\n",
       "    </tr>\n",
       "  </thead>\n",
       "  <tbody>\n",
       "    <tr>\n",
       "      <td>PC</td>\n",
       "      <td>77.0</td>\n",
       "      <td>6.8</td>\n",
       "    </tr>\n",
       "  </tbody>\n",
       "</table>\n",
       "</div>"
      ],
      "text/plain": [
       "          critic_score  user_score\n",
       "platform                          \n",
       "PC                77.0         6.8"
      ]
     },
     "execution_count": 58,
     "metadata": {},
     "output_type": "execute_result"
    }
   ],
   "source": [
    "# Оценим медианные значения оценок критиков и пользователей\n",
    "pc_data.pivot_table(index='platform', values=['critic_score', 'user_score'], aggfunc='median')"
   ]
  },
  {
   "cell_type": "code",
   "execution_count": 59,
   "metadata": {},
   "outputs": [
    {
     "data": {
      "text/plain": [
       "0.1996598483638018"
      ]
     },
     "execution_count": 59,
     "metadata": {},
     "output_type": "execute_result"
    }
   ],
   "source": [
    "# Оценка корреляции между количеством проданных копий и оценками критиков\n",
    "pc_data['total_sales'].corr(pc_data['critic_score'])"
   ]
  },
  {
   "cell_type": "code",
   "execution_count": 60,
   "metadata": {},
   "outputs": [
    {
     "data": {
      "text/plain": [
       "-0.08999775678448749"
      ]
     },
     "execution_count": 60,
     "metadata": {},
     "output_type": "execute_result"
    }
   ],
   "source": [
    "# Оценка корреляции между количеством проданных копий и оценками пользователей\n",
    "pc_data['total_sales'].corr(pc_data['user_score'])"
   ]
  },
  {
   "cell_type": "markdown",
   "metadata": {},
   "source": [
    "##### Вывод\n",
    "\n",
    "Корреляция между количеством продаж видеоигр и оценками критиков хоть и выше, чем корреляция между количеством продаж и оценками пользователей, но она не однозначна. Критикам свойственно ставить более высокие оценки мелкотиражным играм, чем пользователям."
   ]
  },
  {
   "cell_type": "markdown",
   "metadata": {},
   "source": [
    "**Общее распределение игр по жанрам**"
   ]
  },
  {
   "cell_type": "code",
   "execution_count": 61,
   "metadata": {},
   "outputs": [],
   "source": [
    "temp_df = (actual_data\n",
    "            .pivot_table(index='genre', values=['name', 'total_sales'],\n",
    "                         aggfunc={'name': 'count', 'total_sales': ['sum', 'median', 'mean']})\n",
    ")"
   ]
  },
  {
   "cell_type": "code",
   "execution_count": 62,
   "metadata": {},
   "outputs": [],
   "source": [
    "temp_df.columns = ['total_games', 'total_sales_mean', 'total_sales_median', 'total_sales_sum']"
   ]
  },
  {
   "cell_type": "code",
   "execution_count": 63,
   "metadata": {},
   "outputs": [
    {
     "data": {
      "text/html": [
       "<div>\n",
       "<style scoped>\n",
       "    .dataframe tbody tr th:only-of-type {\n",
       "        vertical-align: middle;\n",
       "    }\n",
       "\n",
       "    .dataframe tbody tr th {\n",
       "        vertical-align: top;\n",
       "    }\n",
       "\n",
       "    .dataframe thead th {\n",
       "        text-align: right;\n",
       "    }\n",
       "</style>\n",
       "<table border=\"1\" class=\"dataframe\">\n",
       "  <thead>\n",
       "    <tr style=\"text-align: right;\">\n",
       "      <th></th>\n",
       "      <th>total_games</th>\n",
       "      <th>total_sales_mean</th>\n",
       "      <th>total_sales_median</th>\n",
       "      <th>total_sales_sum</th>\n",
       "    </tr>\n",
       "    <tr>\n",
       "      <th>genre</th>\n",
       "      <th></th>\n",
       "      <th></th>\n",
       "      <th></th>\n",
       "      <th></th>\n",
       "    </tr>\n",
       "  </thead>\n",
       "  <tbody>\n",
       "    <tr>\n",
       "      <td>Action</td>\n",
       "      <td>769</td>\n",
       "      <td>0.419376</td>\n",
       "      <td>0.110</td>\n",
       "      <td>322.50</td>\n",
       "    </tr>\n",
       "    <tr>\n",
       "      <td>Shooter</td>\n",
       "      <td>188</td>\n",
       "      <td>1.239415</td>\n",
       "      <td>0.445</td>\n",
       "      <td>233.01</td>\n",
       "    </tr>\n",
       "    <tr>\n",
       "      <td>Sports</td>\n",
       "      <td>214</td>\n",
       "      <td>0.703972</td>\n",
       "      <td>0.240</td>\n",
       "      <td>150.65</td>\n",
       "    </tr>\n",
       "    <tr>\n",
       "      <td>Role-Playing</td>\n",
       "      <td>292</td>\n",
       "      <td>0.499623</td>\n",
       "      <td>0.125</td>\n",
       "      <td>145.89</td>\n",
       "    </tr>\n",
       "    <tr>\n",
       "      <td>Misc</td>\n",
       "      <td>156</td>\n",
       "      <td>0.404231</td>\n",
       "      <td>0.105</td>\n",
       "      <td>63.06</td>\n",
       "    </tr>\n",
       "    <tr>\n",
       "      <td>Platform</td>\n",
       "      <td>74</td>\n",
       "      <td>0.576081</td>\n",
       "      <td>0.225</td>\n",
       "      <td>42.63</td>\n",
       "    </tr>\n",
       "    <tr>\n",
       "      <td>Racing</td>\n",
       "      <td>85</td>\n",
       "      <td>0.469294</td>\n",
       "      <td>0.120</td>\n",
       "      <td>39.89</td>\n",
       "    </tr>\n",
       "    <tr>\n",
       "      <td>Fighting</td>\n",
       "      <td>80</td>\n",
       "      <td>0.441375</td>\n",
       "      <td>0.125</td>\n",
       "      <td>35.31</td>\n",
       "    </tr>\n",
       "    <tr>\n",
       "      <td>Adventure</td>\n",
       "      <td>245</td>\n",
       "      <td>0.096490</td>\n",
       "      <td>0.030</td>\n",
       "      <td>23.64</td>\n",
       "    </tr>\n",
       "    <tr>\n",
       "      <td>Simulation</td>\n",
       "      <td>62</td>\n",
       "      <td>0.350968</td>\n",
       "      <td>0.100</td>\n",
       "      <td>21.76</td>\n",
       "    </tr>\n",
       "    <tr>\n",
       "      <td>Strategy</td>\n",
       "      <td>56</td>\n",
       "      <td>0.180000</td>\n",
       "      <td>0.080</td>\n",
       "      <td>10.08</td>\n",
       "    </tr>\n",
       "    <tr>\n",
       "      <td>Puzzle</td>\n",
       "      <td>17</td>\n",
       "      <td>0.186471</td>\n",
       "      <td>0.060</td>\n",
       "      <td>3.17</td>\n",
       "    </tr>\n",
       "  </tbody>\n",
       "</table>\n",
       "</div>"
      ],
      "text/plain": [
       "              total_games  total_sales_mean  total_sales_median  \\\n",
       "genre                                                             \n",
       "Action                769          0.419376               0.110   \n",
       "Shooter               188          1.239415               0.445   \n",
       "Sports                214          0.703972               0.240   \n",
       "Role-Playing          292          0.499623               0.125   \n",
       "Misc                  156          0.404231               0.105   \n",
       "Platform               74          0.576081               0.225   \n",
       "Racing                 85          0.469294               0.120   \n",
       "Fighting               80          0.441375               0.125   \n",
       "Adventure             245          0.096490               0.030   \n",
       "Simulation             62          0.350968               0.100   \n",
       "Strategy               56          0.180000               0.080   \n",
       "Puzzle                 17          0.186471               0.060   \n",
       "\n",
       "              total_sales_sum  \n",
       "genre                          \n",
       "Action                 322.50  \n",
       "Shooter                233.01  \n",
       "Sports                 150.65  \n",
       "Role-Playing           145.89  \n",
       "Misc                    63.06  \n",
       "Platform                42.63  \n",
       "Racing                  39.89  \n",
       "Fighting                35.31  \n",
       "Adventure               23.64  \n",
       "Simulation              21.76  \n",
       "Strategy                10.08  \n",
       "Puzzle                   3.17  "
      ]
     },
     "execution_count": 63,
     "metadata": {},
     "output_type": "execute_result"
    }
   ],
   "source": [
    "temp_df.sort_values(by=['total_sales_sum', 'total_sales_mean'], ascending=False)"
   ]
  },
  {
   "cell_type": "markdown",
   "metadata": {},
   "source": [
    "##### Вывод\n",
    "\n",
    "Самый массовый по количеству выпущенных игр и проданным копиям - жанр Action, однако в пересчете на количество проданных копий за игру он уступает жанрам  Shooter, Sports, Platform, и Role-Playing. Повышенные показатели средних значений проданных копий по сравнению с медианными значениями можно объяснить присутствием в жанрах бестселлеров. Низкими показателями количества проданных копий выделяется массовый по количеству выпущенных игр жанр Adventure."
   ]
  },
  {
   "cell_type": "markdown",
   "metadata": {},
   "source": [
    "### Шаг 4. Портрет пользователя каждого региона<a id='step4'></a>"
   ]
  },
  {
   "cell_type": "markdown",
   "metadata": {},
   "source": [
    "**Портрет пользователя Северной Америки (NA)**"
   ]
  },
  {
   "cell_type": "code",
   "execution_count": 64,
   "metadata": {},
   "outputs": [],
   "source": [
    "# Топ-5 популярных платформ жителей Северной Америки\n",
    "na_platform_sales = (actual_data\n",
    "    .pivot_table(index='platform', values='na_sales', aggfunc='sum')\n",
    ")"
   ]
  },
  {
   "cell_type": "code",
   "execution_count": 65,
   "metadata": {},
   "outputs": [],
   "source": [
    "# Оценим доли рынка платформ\n",
    "na_platform_sales['share'] = na_platform_sales['na_sales'] / na_platform_sales['na_sales'].sum()"
   ]
  },
  {
   "cell_type": "code",
   "execution_count": 66,
   "metadata": {},
   "outputs": [
    {
     "data": {
      "text/html": [
       "<div>\n",
       "<style scoped>\n",
       "    .dataframe tbody tr th:only-of-type {\n",
       "        vertical-align: middle;\n",
       "    }\n",
       "\n",
       "    .dataframe tbody tr th {\n",
       "        vertical-align: top;\n",
       "    }\n",
       "\n",
       "    .dataframe thead th {\n",
       "        text-align: right;\n",
       "    }\n",
       "</style>\n",
       "<table border=\"1\" class=\"dataframe\">\n",
       "  <thead>\n",
       "    <tr style=\"text-align: right;\">\n",
       "      <th></th>\n",
       "      <th>na_sales</th>\n",
       "      <th>share</th>\n",
       "    </tr>\n",
       "    <tr>\n",
       "      <th>platform</th>\n",
       "      <th></th>\n",
       "      <th></th>\n",
       "    </tr>\n",
       "  </thead>\n",
       "  <tbody>\n",
       "    <tr>\n",
       "      <td>PS4</td>\n",
       "      <td>108.74</td>\n",
       "      <td>0.248384</td>\n",
       "    </tr>\n",
       "    <tr>\n",
       "      <td>XOne</td>\n",
       "      <td>93.12</td>\n",
       "      <td>0.212705</td>\n",
       "    </tr>\n",
       "    <tr>\n",
       "      <td>X360</td>\n",
       "      <td>81.66</td>\n",
       "      <td>0.186528</td>\n",
       "    </tr>\n",
       "    <tr>\n",
       "      <td>PS3</td>\n",
       "      <td>63.50</td>\n",
       "      <td>0.145047</td>\n",
       "    </tr>\n",
       "    <tr>\n",
       "      <td>3DS</td>\n",
       "      <td>38.20</td>\n",
       "      <td>0.087256</td>\n",
       "    </tr>\n",
       "  </tbody>\n",
       "</table>\n",
       "</div>"
      ],
      "text/plain": [
       "          na_sales     share\n",
       "platform                    \n",
       "PS4         108.74  0.248384\n",
       "XOne         93.12  0.212705\n",
       "X360         81.66  0.186528\n",
       "PS3          63.50  0.145047\n",
       "3DS          38.20  0.087256"
      ]
     },
     "execution_count": 66,
     "metadata": {},
     "output_type": "execute_result"
    }
   ],
   "source": [
    "(na_platform_sales\n",
    "    .sort_values(by='na_sales', ascending=False)\n",
    "    .head(5)\n",
    ")"
   ]
  },
  {
   "cell_type": "code",
   "execution_count": 67,
   "metadata": {},
   "outputs": [
    {
     "data": {
      "text/html": [
       "<div>\n",
       "<style scoped>\n",
       "    .dataframe tbody tr th:only-of-type {\n",
       "        vertical-align: middle;\n",
       "    }\n",
       "\n",
       "    .dataframe tbody tr th {\n",
       "        vertical-align: top;\n",
       "    }\n",
       "\n",
       "    .dataframe thead th {\n",
       "        text-align: right;\n",
       "    }\n",
       "</style>\n",
       "<table border=\"1\" class=\"dataframe\">\n",
       "  <thead>\n",
       "    <tr style=\"text-align: right;\">\n",
       "      <th></th>\n",
       "      <th>na_sales</th>\n",
       "    </tr>\n",
       "    <tr>\n",
       "      <th>genre</th>\n",
       "      <th></th>\n",
       "    </tr>\n",
       "  </thead>\n",
       "  <tbody>\n",
       "    <tr>\n",
       "      <td>Action</td>\n",
       "      <td>126.13</td>\n",
       "    </tr>\n",
       "    <tr>\n",
       "      <td>Shooter</td>\n",
       "      <td>109.74</td>\n",
       "    </tr>\n",
       "    <tr>\n",
       "      <td>Sports</td>\n",
       "      <td>65.27</td>\n",
       "    </tr>\n",
       "    <tr>\n",
       "      <td>Role-Playing</td>\n",
       "      <td>46.40</td>\n",
       "    </tr>\n",
       "    <tr>\n",
       "      <td>Misc</td>\n",
       "      <td>27.49</td>\n",
       "    </tr>\n",
       "  </tbody>\n",
       "</table>\n",
       "</div>"
      ],
      "text/plain": [
       "              na_sales\n",
       "genre                 \n",
       "Action          126.13\n",
       "Shooter         109.74\n",
       "Sports           65.27\n",
       "Role-Playing     46.40\n",
       "Misc             27.49"
      ]
     },
     "execution_count": 67,
     "metadata": {},
     "output_type": "execute_result"
    }
   ],
   "source": [
    "# Топ-5 популярных жанров жителей Северной Америки\n",
    "(actual_data\n",
    "    .pivot_table(index='genre', values='na_sales', aggfunc='sum')\n",
    "    .sort_values(by='na_sales', ascending=False)\n",
    "    .head(5)\n",
    ")"
   ]
  },
  {
   "cell_type": "code",
   "execution_count": 68,
   "metadata": {},
   "outputs": [
    {
     "data": {
      "text/html": [
       "<div>\n",
       "<style scoped>\n",
       "    .dataframe tbody tr th:only-of-type {\n",
       "        vertical-align: middle;\n",
       "    }\n",
       "\n",
       "    .dataframe tbody tr th {\n",
       "        vertical-align: top;\n",
       "    }\n",
       "\n",
       "    .dataframe thead th {\n",
       "        text-align: right;\n",
       "    }\n",
       "</style>\n",
       "<table border=\"1\" class=\"dataframe\">\n",
       "  <thead>\n",
       "    <tr style=\"text-align: right;\">\n",
       "      <th></th>\n",
       "      <th>na_sales</th>\n",
       "    </tr>\n",
       "    <tr>\n",
       "      <th>rating</th>\n",
       "      <th></th>\n",
       "    </tr>\n",
       "  </thead>\n",
       "  <tbody>\n",
       "    <tr>\n",
       "      <td>M</td>\n",
       "      <td>165.29</td>\n",
       "    </tr>\n",
       "    <tr>\n",
       "      <td>unknown</td>\n",
       "      <td>89.42</td>\n",
       "    </tr>\n",
       "    <tr>\n",
       "      <td>E</td>\n",
       "      <td>79.05</td>\n",
       "    </tr>\n",
       "    <tr>\n",
       "      <td>E10+</td>\n",
       "      <td>54.24</td>\n",
       "    </tr>\n",
       "    <tr>\n",
       "      <td>T</td>\n",
       "      <td>49.79</td>\n",
       "    </tr>\n",
       "  </tbody>\n",
       "</table>\n",
       "</div>"
      ],
      "text/plain": [
       "         na_sales\n",
       "rating           \n",
       "M          165.29\n",
       "unknown     89.42\n",
       "E           79.05\n",
       "E10+        54.24\n",
       "T           49.79"
      ]
     },
     "execution_count": 68,
     "metadata": {},
     "output_type": "execute_result"
    }
   ],
   "source": [
    "# Оценим количество проданных копий в зависмости от рейтинга ESRB в Северной Америке\n",
    "(actual_data\n",
    "    .pivot_table(index='rating', values='na_sales', aggfunc='sum')\n",
    "    .sort_values(by='na_sales', ascending=False)\n",
    ")"
   ]
  },
  {
   "cell_type": "markdown",
   "metadata": {},
   "source": [
    "**Портрет пользователя Европы (EU)**"
   ]
  },
  {
   "cell_type": "code",
   "execution_count": 69,
   "metadata": {},
   "outputs": [],
   "source": [
    "# Топ-5 популярных платформ жителей Европы\n",
    "eu_platform_sales = (actual_data\n",
    "    .pivot_table(index='platform', values='eu_sales', aggfunc='sum')\n",
    ")"
   ]
  },
  {
   "cell_type": "code",
   "execution_count": 70,
   "metadata": {},
   "outputs": [],
   "source": [
    "# Оценим доли рынка платформ\n",
    "eu_platform_sales['share'] = eu_platform_sales['eu_sales'] / eu_platform_sales['eu_sales'].sum()"
   ]
  },
  {
   "cell_type": "code",
   "execution_count": 71,
   "metadata": {},
   "outputs": [
    {
     "data": {
      "text/html": [
       "<div>\n",
       "<style scoped>\n",
       "    .dataframe tbody tr th:only-of-type {\n",
       "        vertical-align: middle;\n",
       "    }\n",
       "\n",
       "    .dataframe tbody tr th {\n",
       "        vertical-align: top;\n",
       "    }\n",
       "\n",
       "    .dataframe thead th {\n",
       "        text-align: right;\n",
       "    }\n",
       "</style>\n",
       "<table border=\"1\" class=\"dataframe\">\n",
       "  <thead>\n",
       "    <tr style=\"text-align: right;\">\n",
       "      <th></th>\n",
       "      <th>eu_sales</th>\n",
       "      <th>share</th>\n",
       "    </tr>\n",
       "    <tr>\n",
       "      <th>platform</th>\n",
       "      <th></th>\n",
       "      <th></th>\n",
       "    </tr>\n",
       "  </thead>\n",
       "  <tbody>\n",
       "    <tr>\n",
       "      <td>PS4</td>\n",
       "      <td>141.09</td>\n",
       "      <td>0.359245</td>\n",
       "    </tr>\n",
       "    <tr>\n",
       "      <td>PS3</td>\n",
       "      <td>67.81</td>\n",
       "      <td>0.172659</td>\n",
       "    </tr>\n",
       "    <tr>\n",
       "      <td>XOne</td>\n",
       "      <td>51.59</td>\n",
       "      <td>0.131359</td>\n",
       "    </tr>\n",
       "    <tr>\n",
       "      <td>X360</td>\n",
       "      <td>42.55</td>\n",
       "      <td>0.108341</td>\n",
       "    </tr>\n",
       "    <tr>\n",
       "      <td>3DS</td>\n",
       "      <td>30.96</td>\n",
       "      <td>0.078831</td>\n",
       "    </tr>\n",
       "  </tbody>\n",
       "</table>\n",
       "</div>"
      ],
      "text/plain": [
       "          eu_sales     share\n",
       "platform                    \n",
       "PS4         141.09  0.359245\n",
       "PS3          67.81  0.172659\n",
       "XOne         51.59  0.131359\n",
       "X360         42.55  0.108341\n",
       "3DS          30.96  0.078831"
      ]
     },
     "execution_count": 71,
     "metadata": {},
     "output_type": "execute_result"
    }
   ],
   "source": [
    "(eu_platform_sales\n",
    "    .sort_values(by='eu_sales', ascending=False)\n",
    "    .head(5)\n",
    ")"
   ]
  },
  {
   "cell_type": "code",
   "execution_count": 72,
   "metadata": {},
   "outputs": [
    {
     "data": {
      "text/html": [
       "<div>\n",
       "<style scoped>\n",
       "    .dataframe tbody tr th:only-of-type {\n",
       "        vertical-align: middle;\n",
       "    }\n",
       "\n",
       "    .dataframe tbody tr th {\n",
       "        vertical-align: top;\n",
       "    }\n",
       "\n",
       "    .dataframe thead th {\n",
       "        text-align: right;\n",
       "    }\n",
       "</style>\n",
       "<table border=\"1\" class=\"dataframe\">\n",
       "  <thead>\n",
       "    <tr style=\"text-align: right;\">\n",
       "      <th></th>\n",
       "      <th>eu_sales</th>\n",
       "    </tr>\n",
       "    <tr>\n",
       "      <th>genre</th>\n",
       "      <th></th>\n",
       "    </tr>\n",
       "  </thead>\n",
       "  <tbody>\n",
       "    <tr>\n",
       "      <td>Action</td>\n",
       "      <td>118.61</td>\n",
       "    </tr>\n",
       "    <tr>\n",
       "      <td>Shooter</td>\n",
       "      <td>87.89</td>\n",
       "    </tr>\n",
       "    <tr>\n",
       "      <td>Sports</td>\n",
       "      <td>60.52</td>\n",
       "    </tr>\n",
       "    <tr>\n",
       "      <td>Role-Playing</td>\n",
       "      <td>36.97</td>\n",
       "    </tr>\n",
       "    <tr>\n",
       "      <td>Racing</td>\n",
       "      <td>20.19</td>\n",
       "    </tr>\n",
       "  </tbody>\n",
       "</table>\n",
       "</div>"
      ],
      "text/plain": [
       "              eu_sales\n",
       "genre                 \n",
       "Action          118.61\n",
       "Shooter          87.89\n",
       "Sports           60.52\n",
       "Role-Playing     36.97\n",
       "Racing           20.19"
      ]
     },
     "execution_count": 72,
     "metadata": {},
     "output_type": "execute_result"
    }
   ],
   "source": [
    "# Топ-5 популярных жанров жителей Европы\n",
    "(actual_data\n",
    "    .pivot_table(index='genre', values='eu_sales', aggfunc='sum')\n",
    "    .sort_values(by='eu_sales', ascending=False)\n",
    "    .head(5)\n",
    ")"
   ]
  },
  {
   "cell_type": "code",
   "execution_count": 73,
   "metadata": {},
   "outputs": [
    {
     "data": {
      "text/html": [
       "<div>\n",
       "<style scoped>\n",
       "    .dataframe tbody tr th:only-of-type {\n",
       "        vertical-align: middle;\n",
       "    }\n",
       "\n",
       "    .dataframe tbody tr th {\n",
       "        vertical-align: top;\n",
       "    }\n",
       "\n",
       "    .dataframe thead th {\n",
       "        text-align: right;\n",
       "    }\n",
       "</style>\n",
       "<table border=\"1\" class=\"dataframe\">\n",
       "  <thead>\n",
       "    <tr style=\"text-align: right;\">\n",
       "      <th></th>\n",
       "      <th>eu_sales</th>\n",
       "    </tr>\n",
       "    <tr>\n",
       "      <th>rating</th>\n",
       "      <th></th>\n",
       "    </tr>\n",
       "  </thead>\n",
       "  <tbody>\n",
       "    <tr>\n",
       "      <td>M</td>\n",
       "      <td>145.80</td>\n",
       "    </tr>\n",
       "    <tr>\n",
       "      <td>E</td>\n",
       "      <td>83.36</td>\n",
       "    </tr>\n",
       "    <tr>\n",
       "      <td>unknown</td>\n",
       "      <td>78.94</td>\n",
       "    </tr>\n",
       "    <tr>\n",
       "      <td>E10+</td>\n",
       "      <td>42.69</td>\n",
       "    </tr>\n",
       "    <tr>\n",
       "      <td>T</td>\n",
       "      <td>41.95</td>\n",
       "    </tr>\n",
       "  </tbody>\n",
       "</table>\n",
       "</div>"
      ],
      "text/plain": [
       "         eu_sales\n",
       "rating           \n",
       "M          145.80\n",
       "E           83.36\n",
       "unknown     78.94\n",
       "E10+        42.69\n",
       "T           41.95"
      ]
     },
     "execution_count": 73,
     "metadata": {},
     "output_type": "execute_result"
    }
   ],
   "source": [
    "# Оценим количество проданных копий в зависмости от рейтинга ESRB в Европе\n",
    "(actual_data\n",
    "    .pivot_table(index='rating', values='eu_sales', aggfunc='sum')\n",
    "    .sort_values(by='eu_sales', ascending=False)\n",
    ")"
   ]
  },
  {
   "cell_type": "markdown",
   "metadata": {},
   "source": [
    "**Портрет пользователя Японии (JP)**"
   ]
  },
  {
   "cell_type": "code",
   "execution_count": 74,
   "metadata": {},
   "outputs": [],
   "source": [
    "# Топ-5 популярных платформ жителей Японии\n",
    "jp_platform_sales = (actual_data\n",
    "    .pivot_table(index='platform', values='jp_sales', aggfunc='sum')\n",
    ")"
   ]
  },
  {
   "cell_type": "code",
   "execution_count": 75,
   "metadata": {},
   "outputs": [],
   "source": [
    "# Оценим доли рынка платформ\n",
    "jp_platform_sales['share'] = jp_platform_sales['jp_sales'] / jp_platform_sales['jp_sales'].sum()"
   ]
  },
  {
   "cell_type": "code",
   "execution_count": 76,
   "metadata": {},
   "outputs": [
    {
     "data": {
      "text/html": [
       "<div>\n",
       "<style scoped>\n",
       "    .dataframe tbody tr th:only-of-type {\n",
       "        vertical-align: middle;\n",
       "    }\n",
       "\n",
       "    .dataframe tbody tr th {\n",
       "        vertical-align: top;\n",
       "    }\n",
       "\n",
       "    .dataframe thead th {\n",
       "        text-align: right;\n",
       "    }\n",
       "</style>\n",
       "<table border=\"1\" class=\"dataframe\">\n",
       "  <thead>\n",
       "    <tr style=\"text-align: right;\">\n",
       "      <th></th>\n",
       "      <th>jp_sales</th>\n",
       "      <th>share</th>\n",
       "    </tr>\n",
       "    <tr>\n",
       "      <th>platform</th>\n",
       "      <th></th>\n",
       "      <th></th>\n",
       "    </tr>\n",
       "  </thead>\n",
       "  <tbody>\n",
       "    <tr>\n",
       "      <td>3DS</td>\n",
       "      <td>67.81</td>\n",
       "      <td>0.480854</td>\n",
       "    </tr>\n",
       "    <tr>\n",
       "      <td>PS3</td>\n",
       "      <td>23.35</td>\n",
       "      <td>0.165579</td>\n",
       "    </tr>\n",
       "    <tr>\n",
       "      <td>PSV</td>\n",
       "      <td>18.59</td>\n",
       "      <td>0.131825</td>\n",
       "    </tr>\n",
       "    <tr>\n",
       "      <td>PS4</td>\n",
       "      <td>15.96</td>\n",
       "      <td>0.113175</td>\n",
       "    </tr>\n",
       "    <tr>\n",
       "      <td>WiiU</td>\n",
       "      <td>10.88</td>\n",
       "      <td>0.077152</td>\n",
       "    </tr>\n",
       "  </tbody>\n",
       "</table>\n",
       "</div>"
      ],
      "text/plain": [
       "          jp_sales     share\n",
       "platform                    \n",
       "3DS          67.81  0.480854\n",
       "PS3          23.35  0.165579\n",
       "PSV          18.59  0.131825\n",
       "PS4          15.96  0.113175\n",
       "WiiU         10.88  0.077152"
      ]
     },
     "execution_count": 76,
     "metadata": {},
     "output_type": "execute_result"
    }
   ],
   "source": [
    "(jp_platform_sales\n",
    "    .sort_values(by='jp_sales', ascending=False)\n",
    "    .head(5)\n",
    ")"
   ]
  },
  {
   "cell_type": "code",
   "execution_count": 77,
   "metadata": {},
   "outputs": [
    {
     "data": {
      "text/html": [
       "<div>\n",
       "<style scoped>\n",
       "    .dataframe tbody tr th:only-of-type {\n",
       "        vertical-align: middle;\n",
       "    }\n",
       "\n",
       "    .dataframe tbody tr th {\n",
       "        vertical-align: top;\n",
       "    }\n",
       "\n",
       "    .dataframe thead th {\n",
       "        text-align: right;\n",
       "    }\n",
       "</style>\n",
       "<table border=\"1\" class=\"dataframe\">\n",
       "  <thead>\n",
       "    <tr style=\"text-align: right;\">\n",
       "      <th></th>\n",
       "      <th>jp_sales</th>\n",
       "    </tr>\n",
       "    <tr>\n",
       "      <th>genre</th>\n",
       "      <th></th>\n",
       "    </tr>\n",
       "  </thead>\n",
       "  <tbody>\n",
       "    <tr>\n",
       "      <td>Role-Playing</td>\n",
       "      <td>51.04</td>\n",
       "    </tr>\n",
       "    <tr>\n",
       "      <td>Action</td>\n",
       "      <td>40.49</td>\n",
       "    </tr>\n",
       "    <tr>\n",
       "      <td>Misc</td>\n",
       "      <td>9.44</td>\n",
       "    </tr>\n",
       "    <tr>\n",
       "      <td>Fighting</td>\n",
       "      <td>7.65</td>\n",
       "    </tr>\n",
       "    <tr>\n",
       "      <td>Shooter</td>\n",
       "      <td>6.61</td>\n",
       "    </tr>\n",
       "  </tbody>\n",
       "</table>\n",
       "</div>"
      ],
      "text/plain": [
       "              jp_sales\n",
       "genre                 \n",
       "Role-Playing     51.04\n",
       "Action           40.49\n",
       "Misc              9.44\n",
       "Fighting          7.65\n",
       "Shooter           6.61"
      ]
     },
     "execution_count": 77,
     "metadata": {},
     "output_type": "execute_result"
    }
   ],
   "source": [
    "# Топ-5 популярных жанров жителей Японии\n",
    "(actual_data\n",
    "    .pivot_table(index='genre', values='jp_sales', aggfunc='sum')\n",
    "    .sort_values(by='jp_sales', ascending=False)\n",
    "    .head(5)\n",
    ")"
   ]
  },
  {
   "cell_type": "code",
   "execution_count": 78,
   "metadata": {},
   "outputs": [
    {
     "data": {
      "text/html": [
       "<div>\n",
       "<style scoped>\n",
       "    .dataframe tbody tr th:only-of-type {\n",
       "        vertical-align: middle;\n",
       "    }\n",
       "\n",
       "    .dataframe tbody tr th {\n",
       "        vertical-align: top;\n",
       "    }\n",
       "\n",
       "    .dataframe thead th {\n",
       "        text-align: right;\n",
       "    }\n",
       "</style>\n",
       "<table border=\"1\" class=\"dataframe\">\n",
       "  <thead>\n",
       "    <tr style=\"text-align: right;\">\n",
       "      <th></th>\n",
       "      <th>jp_sales</th>\n",
       "    </tr>\n",
       "    <tr>\n",
       "      <th>rating</th>\n",
       "      <th></th>\n",
       "    </tr>\n",
       "  </thead>\n",
       "  <tbody>\n",
       "    <tr>\n",
       "      <td>unknown</td>\n",
       "      <td>85.29</td>\n",
       "    </tr>\n",
       "    <tr>\n",
       "      <td>T</td>\n",
       "      <td>20.59</td>\n",
       "    </tr>\n",
       "    <tr>\n",
       "      <td>E</td>\n",
       "      <td>15.14</td>\n",
       "    </tr>\n",
       "    <tr>\n",
       "      <td>M</td>\n",
       "      <td>14.11</td>\n",
       "    </tr>\n",
       "    <tr>\n",
       "      <td>E10+</td>\n",
       "      <td>5.89</td>\n",
       "    </tr>\n",
       "  </tbody>\n",
       "</table>\n",
       "</div>"
      ],
      "text/plain": [
       "         jp_sales\n",
       "rating           \n",
       "unknown     85.29\n",
       "T           20.59\n",
       "E           15.14\n",
       "M           14.11\n",
       "E10+         5.89"
      ]
     },
     "execution_count": 78,
     "metadata": {},
     "output_type": "execute_result"
    }
   ],
   "source": [
    "# Оценим количество проданных копий в зависмости от рейтинга ESRB в Японии\n",
    "(actual_data\n",
    "    .pivot_table(index='rating', values='jp_sales', aggfunc='sum')\n",
    "    .sort_values(by='jp_sales', ascending=False)\n",
    ")"
   ]
  },
  {
   "cell_type": "markdown",
   "metadata": {},
   "source": [
    "##### Вывод\n",
    "\n",
    "Лидирующие позиции среди игровых платформ в Северной Америке занимают PS4 (25%), Xbox One (21%), Xbox 360 (19%); в Европе безусловное лидерство закреплено за платформой PS4 (36%), а в Японии - за 3DS Nintendo (48%).\n",
    "\n",
    "Топ-4 самых популярных жанров полностью разделяют жители Северной Америки и Европы (Action, Sports, Shooter, Role-Playing), при этом лидирующие позиции в Северной Америке разделяют жанры Action и Shooter, в Европе безусловное лидерство за жанром Action, на их фоне выделяются предпочтения жителей Японии, где на первом месте расположился жанр Role-Playing, что, вероятно, можно объяснить различиями в культурных традициях.\n",
    "\n",
    "Наибольшее количество игр в Северной Америке и Европе продается с возрастным рейтингом M (for mature 17+), далее располагаются игры с возрастным рейтингом E (for everyone 6+). В Японии, вероятно, наиболее продаваемые игры маркируются системой, отличной от ESRB, однако на второй позиции располагаются игры с рейтингом T (for teens 13+).\n",
    "\n",
    "На игры с рейтингом AO (for adults only 18+) накладываются самые серьезные ограничения на продажи со стороны ESRB (продажи во всех регионах отсутствуют за актуальный период)."
   ]
  },
  {
   "cell_type": "markdown",
   "metadata": {},
   "source": [
    "### Шаг 5. Проверка гипотез<a id='step5'></a>"
   ]
  },
  {
   "cell_type": "markdown",
   "metadata": {},
   "source": [
    "#### Гипотеза №1"
   ]
  },
  {
   "cell_type": "markdown",
   "metadata": {},
   "source": [
    "Выборки пользовательских оценок платформы Xbox One и платформы PC - независимые. Требуется оценить отличие средних значений выборок, при этом не важно, в большую или меньшую сторону, исходя из чего формулируем двухстороннюю гипотезу:\n",
    "\n",
    "**Нулевая гипотеза**: средние пользовательские рейтинги платформ Xbox One и PC одинаковые.\n",
    "\n",
    "**Альтернативаня гипотеза**: средние пользовательские рейтинги платформ Xbox One и PC отличаются.\n",
    "\n",
    "Принимаемый уровень значимости: 5%."
   ]
  },
  {
   "cell_type": "code",
   "execution_count": 79,
   "metadata": {},
   "outputs": [],
   "source": [
    "# Создадим таблицу с данными о платформе PC\n",
    "pc_data = actual_data.query('platform == \"PC\" & user_score.notna()').reset_index()"
   ]
  },
  {
   "cell_type": "code",
   "execution_count": 80,
   "metadata": {},
   "outputs": [
    {
     "data": {
      "text/plain": [
       "count    158.000000\n",
       "mean       6.280380\n",
       "std        1.735044\n",
       "min        1.400000\n",
       "25%        5.325000\n",
       "50%        6.800000\n",
       "75%        7.600000\n",
       "max        9.300000\n",
       "Name: user_score, dtype: float64"
      ]
     },
     "execution_count": 80,
     "metadata": {},
     "output_type": "execute_result"
    }
   ],
   "source": [
    "# Оценим характеристики столбца \"user_score\"\n",
    "pc_data['user_score'].describe()"
   ]
  },
  {
   "cell_type": "code",
   "execution_count": 81,
   "metadata": {},
   "outputs": [
    {
     "data": {
      "text/plain": [
       "3.010376924937515"
      ]
     },
     "execution_count": 81,
     "metadata": {},
     "output_type": "execute_result"
    }
   ],
   "source": [
    "# Оценим дисперсию столбца \"user_score\"\n",
    "pc_data['user_score'].var()"
   ]
  },
  {
   "cell_type": "code",
   "execution_count": 82,
   "metadata": {},
   "outputs": [],
   "source": [
    "# Создадим таблицу с данными о платформе Xbox One\n",
    "xone_data = actual_data.query('platform == \"XOne\" & user_score.notna()').reset_index()"
   ]
  },
  {
   "cell_type": "code",
   "execution_count": 83,
   "metadata": {},
   "outputs": [
    {
     "data": {
      "text/plain": [
       "count    182.000000\n",
       "mean       6.521429\n",
       "std        1.380941\n",
       "min        1.600000\n",
       "25%        5.800000\n",
       "50%        6.800000\n",
       "75%        7.500000\n",
       "max        9.200000\n",
       "Name: user_score, dtype: float64"
      ]
     },
     "execution_count": 83,
     "metadata": {},
     "output_type": "execute_result"
    }
   ],
   "source": [
    "# Оценим характеристики столбца \"user_score\"\n",
    "xone_data['user_score'].describe()"
   ]
  },
  {
   "cell_type": "code",
   "execution_count": 84,
   "metadata": {},
   "outputs": [
    {
     "data": {
      "text/plain": [
       "1.9069968429360695"
      ]
     },
     "execution_count": 84,
     "metadata": {},
     "output_type": "execute_result"
    }
   ],
   "source": [
    "# Оценим дисперсию столбца \"user_score\"\n",
    "xone_data['user_score'].var()"
   ]
  },
  {
   "cell_type": "code",
   "execution_count": 85,
   "metadata": {},
   "outputs": [
    {
     "data": {
      "text/plain": [
       "1.578595652157792"
      ]
     },
     "execution_count": 85,
     "metadata": {},
     "output_type": "execute_result"
    }
   ],
   "source": [
    "# Оценим различие дисперсий двух выборок\n",
    "pc_data['user_score'].var() / xone_data['user_score'].var()"
   ]
  },
  {
   "cell_type": "code",
   "execution_count": 86,
   "metadata": {},
   "outputs": [
    {
     "data": {
      "image/png": "[encoded data removed]",
      "text/plain": [
       "<Figure size 432x288 with 1 Axes>"
      ]
     },
     "metadata": {
      "needs_background": "light"
     },
     "output_type": "display_data"
    }
   ],
   "source": [
    "# Отобразим распределения оценок пользователей платформ PC и Xbox One\n",
    "plt.hist(pc_data['user_score'], alpha=0.5)\n",
    "plt.hist(xone_data['user_score'], alpha=0.5)\n",
    "plt.title('Распределения оценок пользователей платформ PC и Xbox One')\n",
    "plt.xlabel('Оценки пользователей')\n",
    "plt.ylabel('Частота')\n",
    "plt.legend(['PC', 'Xbox One'])\n",
    "plt.show()"
   ]
  },
  {
   "cell_type": "code",
   "execution_count": 87,
   "metadata": {},
   "outputs": [
    {
     "name": "stdout",
     "output_type": "stream",
     "text": [
      "p-значение: 0.16174359801784308\n",
      "Не получилось отвергнуть нулевую гипотезу\n"
     ]
    }
   ],
   "source": [
    "# Проверка гипотезы будет осуществляться при помощи метода ttest_ind (тест Стьюдента)\n",
    "# с переданным ключевым словом equal_var=False, \n",
    "# поскольку дисперсии рассматриваемых выборок отличаются на 58%.\n",
    "\n",
    "results = ttest_ind(\n",
    "    pc_data['user_score'],\n",
    "    xone_data['user_score'],\n",
    "    equal_var=False\n",
    ")\n",
    "\n",
    "alpha = 0.05\n",
    "print('p-значение:', results.pvalue)\n",
    "\n",
    "if results.pvalue < alpha:\n",
    "    print(\"Отвергаем нулевую гипотезу\")\n",
    "else:\n",
    "    print(\"Не получилось отвергнуть нулевую гипотезу\")"
   ]
  },
  {
   "cell_type": "markdown",
   "metadata": {},
   "source": [
    "##### Вывод\n",
    "\n",
    "Нулевая гипотеза принимается. Средние пользовательские рейтинги платформ Xbox One и PC отличаются случайно с вероятностью 16%"
   ]
  },
  {
   "cell_type": "markdown",
   "metadata": {},
   "source": [
    "#### Гипотеза №2"
   ]
  },
  {
   "cell_type": "markdown",
   "metadata": {},
   "source": [
    "Выборки пользовательских оценок платформы Xbox One и платформы PC - независимые. Требуется оценить отличие средних значений выборок, при этом не важно, в большую или меньшую сторону, исходя из чего формулируем двухстороннюю гипотезу:\n",
    "\n",
    "**Нулевая гипотеза**: средние пользовательские рейтинги жанров Action и Sports одинаковые.\n",
    "\n",
    "**Альтернативаня гипотеза**: средние пользовательские рейтинги жанров Action и Sports отличаются.\n",
    "\n",
    "Принимаемый уровень значимости: 5%."
   ]
  },
  {
   "cell_type": "code",
   "execution_count": 88,
   "metadata": {},
   "outputs": [],
   "source": [
    "# Создадим таблицу с данными о жанре Action\n",
    "action_data = actual_data.query('genre == \"Action\" & user_score.notna()').reset_index()"
   ]
  },
  {
   "cell_type": "code",
   "execution_count": 89,
   "metadata": {},
   "outputs": [
    {
     "data": {
      "text/plain": [
       "count    392.000000\n",
       "mean       6.837500\n",
       "std        1.329076\n",
       "min        2.000000\n",
       "25%        6.300000\n",
       "50%        7.100000\n",
       "75%        7.800000\n",
       "max        9.100000\n",
       "Name: user_score, dtype: float64"
      ]
     },
     "execution_count": 89,
     "metadata": {},
     "output_type": "execute_result"
    }
   ],
   "source": [
    "# Оценим характеристики столбца \"user_score\"\n",
    "action_data['user_score'].describe()"
   ]
  },
  {
   "cell_type": "code",
   "execution_count": 90,
   "metadata": {},
   "outputs": [
    {
     "data": {
      "text/plain": [
       "1.7664418158567776"
      ]
     },
     "execution_count": 90,
     "metadata": {},
     "output_type": "execute_result"
    }
   ],
   "source": [
    "# Оценим дисперсию столбца \"user_score\"\n",
    "action_data['user_score'].var()"
   ]
  },
  {
   "cell_type": "code",
   "execution_count": 91,
   "metadata": {},
   "outputs": [],
   "source": [
    "# Создадим таблицу с данными о жанре Sports\n",
    "sports_data = actual_data.query('genre == \"Sports\" & user_score.notna()').reset_index()"
   ]
  },
  {
   "cell_type": "code",
   "execution_count": 92,
   "metadata": {},
   "outputs": [
    {
     "data": {
      "text/plain": [
       "count    160.000000\n",
       "mean       5.238125\n",
       "std        1.783427\n",
       "min        0.200000\n",
       "25%        4.100000\n",
       "50%        5.500000\n",
       "75%        6.500000\n",
       "max        8.800000\n",
       "Name: user_score, dtype: float64"
      ]
     },
     "execution_count": 92,
     "metadata": {},
     "output_type": "execute_result"
    }
   ],
   "source": [
    "# Оценим характеристики столбца \"user_score\"\n",
    "sports_data['user_score'].describe()"
   ]
  },
  {
   "cell_type": "code",
   "execution_count": 93,
   "metadata": {},
   "outputs": [
    {
     "data": {
      "text/plain": [
       "3.180612814465409"
      ]
     },
     "execution_count": 93,
     "metadata": {},
     "output_type": "execute_result"
    }
   ],
   "source": [
    "# Оценим дисперсию столбца \"user_score\"\n",
    "sports_data['user_score'].var()"
   ]
  },
  {
   "cell_type": "code",
   "execution_count": 94,
   "metadata": {},
   "outputs": [
    {
     "data": {
      "text/plain": [
       "1.80057604270578"
      ]
     },
     "execution_count": 94,
     "metadata": {},
     "output_type": "execute_result"
    }
   ],
   "source": [
    "# Оценим различие дисперсий двух выборок\n",
    "sports_data['user_score'].var() / action_data['user_score'].var()"
   ]
  },
  {
   "cell_type": "code",
   "execution_count": 95,
   "metadata": {},
   "outputs": [
    {
     "data": {
      "image/png": "[encoded data removed]",
      "text/plain": [
       "<Figure size 432x288 with 1 Axes>"
      ]
     },
     "metadata": {
      "needs_background": "light"
     },
     "output_type": "display_data"
    }
   ],
   "source": [
    "# Отобразим распределения оценок пользователей жанров Action и Sports\n",
    "plt.hist(action_data['user_score'], alpha=0.5)\n",
    "plt.hist(sports_data['user_score'], alpha=0.5)\n",
    "plt.title('Распределения оценок пользователей жанров Action и Sports')\n",
    "plt.xlabel('Оценки пользователей')\n",
    "plt.ylabel('Частота')\n",
    "plt.legend(['Action', 'Sports'])\n",
    "plt.show()"
   ]
  },
  {
   "cell_type": "code",
   "execution_count": 96,
   "metadata": {},
   "outputs": [
    {
     "name": "stdout",
     "output_type": "stream",
     "text": [
      "p-значение: 1.3883444596405356e-20\n",
      "Отвергаем нулевую гипотезу\n"
     ]
    }
   ],
   "source": [
    "# Проверка гипотезы будет осуществляться при помощи метода ttest_ind (тест Стьюдента)\n",
    "# с переданным ключевым словом equal_var=False, \n",
    "# поскольку дисперсии рассматриваемых выборок отличаются на 80%.\n",
    "results = ttest_ind(\n",
    "    action_data['user_score'],\n",
    "    sports_data['user_score'],\n",
    "    equal_var=False\n",
    ")\n",
    "\n",
    "alpha = 0.05\n",
    "print('p-значение:', results.pvalue)\n",
    "\n",
    "if results.pvalue < alpha:\n",
    "    print(\"Отвергаем нулевую гипотезу\")\n",
    "else:\n",
    "    print(\"Не получилось отвергнуть нулевую гипотезу\")"
   ]
  },
  {
   "cell_type": "markdown",
   "metadata": {},
   "source": [
    "##### Вывод\n",
    "\n",
    "Нулевая гипотеза отвергается. Средние пользовательские рейтинги жанров Action и Sports отличаются."
   ]
  },
  {
   "cell_type": "markdown",
   "metadata": {},
   "source": [
    "### Шаг 6. Общий вывод<a id='step6'></a>"
   ]
  },
  {
   "cell_type": "markdown",
   "metadata": {},
   "source": [
    "Главная задача проекта: выявить определяющие успешность игры закономерности.\n",
    "\n",
    "Проведенный анализ показал, что за актуальный наиболее успешные игры выпускаются в жанрах Action, Sports, Shooter и Role-Playing. При этом в Северной Америке лидирующие позиции разделяют жанры Action и Shooter, в Европе единоличное лидерство за жанром Action, в Японии доминирует жанр Role-Playing. Статистический анализ показал, что пользователи значительно лучше оценивают игры в жанре Action, хотя высокие оценки пользователей не коррелируют с числом продаж видеоигр.\n",
    "\n",
    "Самыми перспективными платформами в 2017м году окажутся PS4, Xbox One, PC и Nintendo 3DS. При этом в Северной Америке топ платформ разделяют PS4 (25% рынка) и Xbox One (21% рынка), в Европе безусловное лидерство за платформой PS4 (36% рынка), а в Японии - за 3DS Nintendo (48%). Статистический анализ показал, что пользователи платформ Xbox One и PC одинаково хорошо оценивают игры на данных платформах, хотя высокие оценки пользователей не коррелируют с числом продаж видеоигр.\n",
    "\n",
    "Касательно возрастных рейтингов: наибольшее количество игр в Северной Америке и Европе продается с возрастным рейтингом M (for mature 17+), далее располагаются игры с возрастным рейтингом E (for everyone 6+), в Японии же наиболее популярные игры по рейтингу ESRB занимают игры с рейтингом T (for teens 13+).\n",
    "\n",
    "Эти выводы стоит учесть маркетологам интернет-магазина \"Стримчик\" в своих рекламных кампаниях в разных регионах в 2017м году."
   ]
  }
 ],
 "metadata": {
  "kernelspec": {
   "display_name": "Python 3",
   "language": "python",
   "name": "python3"
  },
  "language_info": {
   "codemirror_mode": {
    "name": "ipython",
    "version": 3
   },
   "file_extension": ".py",
   "mimetype": "text/x-python",
   "name": "python",
   "nbconvert_exporter": "python",
   "pygments_lexer": "ipython3",
   "version": "3.8.10"
  },
  "toc": {
   "base_numbering": 1,
   "nav_menu": {},
   "number_sections": true,
   "sideBar": true,
   "skip_h1_title": true,
   "title_cell": "Table of Contents",
   "title_sidebar": "Contents",
   "toc_cell": false,
   "toc_position": {},
   "toc_section_display": true,
   "toc_window_display": false
  }
 },
 "nbformat": 4,
 "nbformat_minor": 2
}
